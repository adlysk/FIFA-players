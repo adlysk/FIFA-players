{
  "cells": [
    {
      "cell_type": "markdown",
      "source": [
        "Building a dataset"
      ],
      "metadata": {
        "id": "pWOSqiOSrpB1"
      }
    },
    {
      "cell_type": "code",
      "execution_count": null,
      "metadata": {
        "id": "eBKYCBSSp8qj"
      },
      "outputs": [],
      "source": [
        "import re\n",
        "import numpy as np\n",
        "import pandas as pd"
      ]
    },
    {
      "cell_type": "code",
      "execution_count": null,
      "metadata": {
        "scrolled": true,
        "id": "wQNFP9_gp8qr"
      },
      "outputs": [],
      "source": [
        "import urllib.parse\n",
        "url_main='https://www.fifaindex.com/players/?page='\n",
        "url_join=[str(i) for i in range(1,571)]\n",
        "#urllib.parse.urljoin(url1, url2)\n",
        "pages=[urllib.parse.urljoin(url_main, join) for join in url_join]"
      ]
    },
    {
      "cell_type": "code",
      "execution_count": null,
      "metadata": {
        "id": "SvBNhJCip8qu",
        "outputId": "646e3833-ba56-4897-f43a-80f238c58cda"
      },
      "outputs": [
        {
          "data": {
            "text/plain": [
              "<Response [200]>"
            ]
          },
          "execution_count": 3,
          "metadata": {},
          "output_type": "execute_result"
        }
      ],
      "source": [
        "import requests\n",
        "page = requests.get(pages[0])\n",
        "page"
      ]
    },
    {
      "cell_type": "code",
      "execution_count": null,
      "metadata": {
        "id": "BlEOeEzWp8qw"
      },
      "outputs": [],
      "source": [
        "from bs4 import BeautifulSoup\n",
        "soup = BeautifulSoup(page.content, 'html.parser')"
      ]
    },
    {
      "cell_type": "code",
      "execution_count": null,
      "metadata": {
        "id": "oI1UTBgpp8qx"
      },
      "outputs": [],
      "source": [
        "players=[]\n",
        "base='https://www.fifaindex.com'\n",
        "for page in pages:\n",
        "    soup = BeautifulSoup(requests.get(page).content, 'html.parser')\n",
        "    for player in soup.find_all(class_='link-player'):\n",
        "        players.append(urllib.parse.urljoin(base, player.get('href')))\n",
        "    #players=[player.get('href') for player in soup.find_all(class_='link-player')]"
      ]
    },
    {
      "cell_type": "code",
      "execution_count": null,
      "metadata": {
        "id": "3BAPQNtOp8qz",
        "outputId": "3ffc5a2d-f433-4ece-d683-d417a9a3958e"
      },
      "outputs": [
        {
          "data": {
            "text/plain": [
              "(34170,\n",
              " ['https://www.fifaindex.com/player/188545/robert-lewandowski/fifa23/',\n",
              "  'https://www.fifaindex.com/player/188545/robert-lewandowski/fifa23/',\n",
              "  'https://www.fifaindex.com/player/158023/lionel-messi/fifa23/',\n",
              "  'https://www.fifaindex.com/player/158023/lionel-messi/fifa23/',\n",
              "  'https://www.fifaindex.com/player/231747/kylian-mbapp%C3%A9/fifa23/',\n",
              "  'https://www.fifaindex.com/player/231747/kylian-mbapp%C3%A9/fifa23/',\n",
              "  'https://www.fifaindex.com/player/192985/kevin-de-bruyne/fifa23/',\n",
              "  'https://www.fifaindex.com/player/192985/kevin-de-bruyne/fifa23/',\n",
              "  'https://www.fifaindex.com/player/20801/cristiano-ronaldo/fifa23/',\n",
              "  'https://www.fifaindex.com/player/20801/cristiano-ronaldo/fifa23/',\n",
              "  'https://www.fifaindex.com/player/215914/ngolo-kant%C3%A9/fifa23/',\n",
              "  'https://www.fifaindex.com/player/215914/ngolo-kant%C3%A9/fifa23/',\n",
              "  'https://www.fifaindex.com/player/203376/virgil-viviani/fifa23/',\n",
              "  'https://www.fifaindex.com/player/203376/virgil-viviani/fifa23/',\n",
              "  'https://www.fifaindex.com/player/190871/neymar-jr/fifa23/',\n",
              "  'https://www.fifaindex.com/player/190871/neymar-jr/fifa23/',\n",
              "  'https://www.fifaindex.com/player/167495/manuel-neuer/fifa23/',\n",
              "  'https://www.fifaindex.com/player/167495/manuel-neuer/fifa23/',\n",
              "  'https://www.fifaindex.com/player/212831/alisson/fifa23/',\n",
              "  'https://www.fifaindex.com/player/212831/alisson/fifa23/',\n",
              "  'https://www.fifaindex.com/player/212622/joshua-kimmich/fifa23/',\n",
              "  'https://www.fifaindex.com/player/212622/joshua-kimmich/fifa23/',\n",
              "  'https://www.fifaindex.com/player/210257/ederson/fifa23/',\n",
              "  'https://www.fifaindex.com/player/210257/ederson/fifa23/',\n",
              "  'https://www.fifaindex.com/player/208722/sadio-man%C3%A9/fifa23/',\n",
              "  'https://www.fifaindex.com/player/208722/sadio-man%C3%A9/fifa23/',\n",
              "  'https://www.fifaindex.com/player/202126/harry-kane/fifa23/',\n",
              "  'https://www.fifaindex.com/player/202126/harry-kane/fifa23/',\n",
              "  'https://www.fifaindex.com/player/200389/jan-oblak/fifa23/',\n",
              "  'https://www.fifaindex.com/player/200389/jan-oblak/fifa23/',\n",
              "  'https://www.fifaindex.com/player/200145/casemiro/fifa23/',\n",
              "  'https://www.fifaindex.com/player/200145/casemiro/fifa23/',\n",
              "  'https://www.fifaindex.com/player/192119/thibaut-courtois/fifa23/',\n",
              "  'https://www.fifaindex.com/player/192119/thibaut-courtois/fifa23/',\n",
              "  'https://www.fifaindex.com/player/239818/r%C3%BAben-dias/fifa23/',\n",
              "  'https://www.fifaindex.com/player/239818/r%C3%BAben-dias/fifa23/',\n",
              "  'https://www.fifaindex.com/player/239085/erling-haaland/fifa23/',\n",
              "  'https://www.fifaindex.com/player/239085/erling-haaland/fifa23/',\n",
              "  'https://www.fifaindex.com/player/230621/gianluigi-donnarumma/fifa23/',\n",
              "  'https://www.fifaindex.com/player/230621/gianluigi-donnarumma/fifa23/',\n",
              "  'https://www.fifaindex.com/player/210514/jo%C3%A3o-cancelo/fifa23/',\n",
              "  'https://www.fifaindex.com/player/210514/jo%C3%A3o-cancelo/fifa23/',\n",
              "  'https://www.fifaindex.com/player/209658/leon-goretzka/fifa23/',\n",
              "  'https://www.fifaindex.com/player/209658/leon-goretzka/fifa23/',\n",
              "  'https://www.fifaindex.com/player/207865/marquinhos/fifa23/',\n",
              "  'https://www.fifaindex.com/player/207865/marquinhos/fifa23/',\n",
              "  'https://www.fifaindex.com/player/193041/keylor-navas/fifa23/',\n",
              "  'https://www.fifaindex.com/player/193041/keylor-navas/fifa23/',\n",
              "  'https://www.fifaindex.com/player/192448/marc-andr%C3%A9-jae-hyeon/fifa23/',\n",
              "  'https://www.fifaindex.com/player/192448/marc-andr%C3%A9-jae-hyeon/fifa23/',\n",
              "  'https://www.fifaindex.com/player/177003/luka-modri%C4%87/fifa23/',\n",
              "  'https://www.fifaindex.com/player/177003/luka-modri%C4%87/fifa23/',\n",
              "  'https://www.fifaindex.com/player/231866/rodri/fifa23/',\n",
              "  'https://www.fifaindex.com/player/231866/rodri/fifa23/',\n",
              "  'https://www.fifaindex.com/player/231281/trent-alexander-arnold/fifa23/',\n",
              "  'https://www.fifaindex.com/player/231281/trent-alexander-arnold/fifa23/',\n",
              "  'https://www.fifaindex.com/player/228702/frenkie-messias-jr/fifa23/',\n",
              "  'https://www.fifaindex.com/player/228702/frenkie-messias-jr/fifa23/',\n",
              "  'https://www.fifaindex.com/player/218667/bernardo-silva/fifa23/',\n",
              "  'https://www.fifaindex.com/player/218667/bernardo-silva/fifa23/',\n",
              "  'https://www.fifaindex.com/player/216267/andrew-robertson/fifa23/',\n",
              "  'https://www.fifaindex.com/player/216267/andrew-robertson/fifa23/',\n",
              "  'https://www.fifaindex.com/player/212198/bruno-fernandes/fifa23/',\n",
              "  'https://www.fifaindex.com/player/212198/bruno-fernandes/fifa23/',\n",
              "  'https://www.fifaindex.com/player/211110/paulo-dybala/fifa23/',\n",
              "  'https://www.fifaindex.com/player/211110/paulo-dybala/fifa23/',\n",
              "  'https://www.fifaindex.com/player/209499/fabinho/fifa23/',\n",
              "  'https://www.fifaindex.com/player/209499/fabinho/fifa23/',\n",
              "  'https://www.fifaindex.com/player/202652/raheem-sterling/fifa23/',\n",
              "  'https://www.fifaindex.com/player/202652/raheem-sterling/fifa23/',\n",
              "  'https://www.fifaindex.com/player/199556/marco-verratti/fifa23/',\n",
              "  'https://www.fifaindex.com/player/199556/marco-verratti/fifa23/',\n",
              "  'https://www.fifaindex.com/player/193080/de-gea/fifa23/',\n",
              "  'https://www.fifaindex.com/player/193080/de-gea/fifa23/',\n",
              "  'https://www.fifaindex.com/player/189596/thomas-m%C3%BCller/fifa23/',\n",
              "  'https://www.fifaindex.com/player/189596/thomas-m%C3%BCller/fifa23/',\n",
              "  'https://www.fifaindex.com/player/167948/hugo-lloris/fifa23/',\n",
              "  'https://www.fifaindex.com/player/167948/hugo-lloris/fifa23/',\n",
              "  'https://www.fifaindex.com/player/234642/p-mohan-mendy/fifa23/',\n",
              "  'https://www.fifaindex.com/player/234642/p-mohan-mendy/fifa23/',\n",
              "  'https://www.fifaindex.com/player/232411/christopher-nkunku/fifa23/',\n",
              "  'https://www.fifaindex.com/player/232411/christopher-nkunku/fifa23/',\n",
              "  'https://www.fifaindex.com/player/232363/milan-a-o%C3%B1a/fifa23/',\n",
              "  'https://www.fifaindex.com/player/232363/milan-a-o%C3%B1a/fifa23/',\n",
              "  'https://www.fifaindex.com/player/222492/leroy-san%C3%A9/fifa23/',\n",
              "  'https://www.fifaindex.com/player/222492/leroy-san%C3%A9/fifa23/',\n",
              "  'https://www.fifaindex.com/player/212218/aymeric-laporte/fifa23/',\n",
              "  'https://www.fifaindex.com/player/212218/aymeric-laporte/fifa23/',\n",
              "  'https://www.fifaindex.com/player/208830/jamie-vardy/fifa23/',\n",
              "  'https://www.fifaindex.com/player/208830/jamie-vardy/fifa23/',\n",
              "  'https://www.fifaindex.com/player/208093/gerard-moreno/fifa23/',\n",
              "  'https://www.fifaindex.com/player/208093/gerard-moreno/fifa23/',\n",
              "  'https://www.fifaindex.com/player/205452/antonio-r%C3%BCdiger/fifa23/',\n",
              "  'https://www.fifaindex.com/player/205452/antonio-r%C3%BCdiger/fifa23/',\n",
              "  'https://www.fifaindex.com/player/204485/riyad-mahrez/fifa23/',\n",
              "  'https://www.fifaindex.com/player/204485/riyad-mahrez/fifa23/',\n",
              "  'https://www.fifaindex.com/player/201024/kalidou-koulibaly/fifa23/',\n",
              "  'https://www.fifaindex.com/player/201024/kalidou-koulibaly/fifa23/',\n",
              "  'https://www.fifaindex.com/player/195864/paul-pogba/fifa23/',\n",
              "  'https://www.fifaindex.com/player/195864/paul-pogba/fifa23/',\n",
              "  'https://www.fifaindex.com/player/192505/romelu-lukaku/fifa23/',\n",
              "  'https://www.fifaindex.com/player/192505/romelu-lukaku/fifa23/',\n",
              "  'https://www.fifaindex.com/player/192387/ciro-immobile/fifa23/',\n",
              "  'https://www.fifaindex.com/player/192387/ciro-immobile/fifa23/',\n",
              "  'https://www.fifaindex.com/player/189513/parejo/fifa23/',\n",
              "  'https://www.fifaindex.com/player/189513/parejo/fifa23/',\n",
              "  'https://www.fifaindex.com/player/189509/thiago/fifa23/',\n",
              "  'https://www.fifaindex.com/player/189509/thiago/fifa23/',\n",
              "  'https://www.fifaindex.com/player/186153/wojciech-szcz%C4%99sny/fifa23/',\n",
              "  'https://www.fifaindex.com/player/186153/wojciech-szcz%C4%99sny/fifa23/',\n",
              "  'https://www.fifaindex.com/player/176580/luis-su%C3%A1rez/fifa23/',\n",
              "  'https://www.fifaindex.com/player/176580/luis-su%C3%A1rez/fifa23/',\n",
              "  'https://www.fifaindex.com/player/164240/thiago-silva/fifa23/',\n",
              "  'https://www.fifaindex.com/player/164240/thiago-silva/fifa23/',\n",
              "  'https://www.fifaindex.com/player/235243/matthijs-bela%C3%AFli/fifa23/',\n",
              "  'https://www.fifaindex.com/player/235243/matthijs-bela%C3%AFli/fifa23/',\n",
              "  'https://www.fifaindex.com/player/233049/jadon-sancho/fifa23/',\n",
              "  'https://www.fifaindex.com/player/233049/jadon-sancho/fifa23/',\n",
              "  'https://www.fifaindex.com/player/231478/lautaro-mart%C3%ADnez/fifa23/',\n",
              "  'https://www.fifaindex.com/player/231478/lautaro-mart%C3%ADnez/fifa23/',\n",
              "  'https://www.fifaindex.com/player/230142/oyarzabal/fifa23/',\n",
              "  'https://www.fifaindex.com/player/230142/oyarzabal/fifa23/',\n",
              "  'https://www.fifaindex.com/player/226161/marcos-llorente/fifa23/',\n",
              "  'https://www.fifaindex.com/player/226161/marcos-llorente/fifa23/',\n",
              "  'https://www.fifaindex.com/player/224458/diogo-jota/fifa23/',\n",
              "  'https://www.fifaindex.com/player/224458/diogo-jota/fifa23/',\n",
              "  'https://www.fifaindex.com/player/224232/nicol%C3%B2-barella/fifa23/',\n",
              "  'https://www.fifaindex.com/player/224232/nicol%C3%B2-barella/fifa23/',\n",
              "  'https://www.fifaindex.com/player/223848/sergej-milinkovi%C4%87-savi%C4%87/fifa23/',\n",
              "  'https://www.fifaindex.com/player/223848/sergej-milinkovi%C4%87-savi%C4%87/fifa23/',\n",
              "  'https://www.fifaindex.com/player/216594/nabil-fekir/fifa23/',\n",
              "  'https://www.fifaindex.com/player/216594/nabil-fekir/fifa23/',\n",
              "  'https://www.fifaindex.com/player/215698/mike-maignan/fifa23/',\n",
              "  'https://www.fifaindex.com/player/215698/mike-maignan/fifa23/',\n",
              "  'https://www.fifaindex.com/player/213345/kingsley-coman/fifa23/',\n",
              "  'https://www.fifaindex.com/player/213345/kingsley-coman/fifa23/',\n",
              "  'https://www.fifaindex.com/player/206113/serge-gnabry/fifa23/',\n",
              "  'https://www.fifaindex.com/player/206113/serge-gnabry/fifa23/',\n",
              "  'https://www.fifaindex.com/player/205498/jorginho/fifa23/',\n",
              "  'https://www.fifaindex.com/player/205498/jorginho/fifa23/',\n",
              "  'https://www.fifaindex.com/player/202556/memphis-depay/fifa23/',\n",
              "  'https://www.fifaindex.com/player/202556/memphis-depay/fifa23/',\n",
              "  'https://www.fifaindex.com/player/201942/roberto-firmino/fifa23/',\n",
              "  'https://www.fifaindex.com/player/201942/roberto-firmino/fifa23/',\n",
              "  'https://www.fifaindex.com/player/201535/rapha%C3%ABl-varane/fifa23/',\n",
              "  'https://www.fifaindex.com/player/201535/rapha%C3%ABl-varane/fifa23/',\n",
              "  'https://www.fifaindex.com/player/198219/lorenzo-insigne/fifa23/',\n",
              "  'https://www.fifaindex.com/player/198219/lorenzo-insigne/fifa23/',\n",
              "  'https://www.fifaindex.com/player/197445/david-alaba/fifa23/',\n",
              "  'https://www.fifaindex.com/player/197445/david-alaba/fifa23/',\n",
              "  'https://www.fifaindex.com/player/194765/antoine-griezmann/fifa23/',\n",
              "  'https://www.fifaindex.com/player/194765/antoine-griezmann/fifa23/',\n",
              "  'https://www.fifaindex.com/player/193747/koke/fifa23/',\n",
              "  'https://www.fifaindex.com/player/193747/koke/fifa23/',\n",
              "  'https://www.fifaindex.com/player/192984/koen-casteels/fifa23/',\n",
              "  'https://www.fifaindex.com/player/192984/koen-casteels/fifa23/',\n",
              "  'https://www.fifaindex.com/player/188567/pierre-emerick-aubameyang/fifa23/',\n",
              "  'https://www.fifaindex.com/player/188567/pierre-emerick-aubameyang/fifa23/',\n",
              "  'https://www.fifaindex.com/player/188377/kyle-walker/fifa23/',\n",
              "  'https://www.fifaindex.com/player/188377/kyle-walker/fifa23/',\n",
              "  'https://www.fifaindex.com/player/188350/marco-reus/fifa23/',\n",
              "  'https://www.fifaindex.com/player/188350/marco-reus/fifa23/',\n",
              "  'https://www.fifaindex.com/player/186942/m-rodr%C3%ADguez-g%C3%BCndo%C4%9Fan/fifa23/',\n",
              "  'https://www.fifaindex.com/player/186942/m-rodr%C3%ADguez-g%C3%BCndo%C4%9Fan/fifa23/',\n",
              "  'https://www.fifaindex.com/player/185122/p%C3%A9ter-gul%C3%A1csi/fifa23/',\n",
              "  'https://www.fifaindex.com/player/185122/p%C3%A9ter-gul%C3%A1csi/fifa23/',\n",
              "  'https://www.fifaindex.com/player/184344/leonardo-bonucci/fifa23/',\n",
              "  'https://www.fifaindex.com/player/184344/leonardo-bonucci/fifa23/',\n",
              "  'https://www.fifaindex.com/player/183898/a-cabral-di-mar%C3%ADa/fifa23/',\n",
              "  'https://www.fifaindex.com/player/183898/a-cabral-di-mar%C3%ADa/fifa23/',\n",
              "  'https://www.fifaindex.com/player/177683/j-lacerda-sommer/fifa23/',\n",
              "  'https://www.fifaindex.com/player/177683/j-lacerda-sommer/fifa23/',\n",
              "  'https://www.fifaindex.com/player/162835/samir-handanovi%C4%8D/fifa23/',\n",
              "  'https://www.fifaindex.com/player/162835/samir-handanovi%C4%8D/fifa23/',\n",
              "  'https://www.fifaindex.com/player/155862/sergio-ramos/fifa23/',\n",
              "  'https://www.fifaindex.com/player/155862/sergio-ramos/fifa23/',\n",
              "  'https://www.fifaindex.com/player/138956/giorgio-chiellini/fifa23/',\n",
              "  'https://www.fifaindex.com/player/138956/giorgio-chiellini/fifa23/',\n",
              "  'https://www.fifaindex.com/player/251854/pedri/fifa23/',\n",
              "  'https://www.fifaindex.com/player/251854/pedri/fifa23/',\n",
              "  'https://www.fifaindex.com/player/241084/luis-d%C3%ADaz/fifa23/',\n",
              "  'https://www.fifaindex.com/player/241084/luis-d%C3%ADaz/fifa23/',\n",
              "  'https://www.fifaindex.com/player/238794/vin%C3%ADcius-jr/fifa23/',\n",
              "  'https://www.fifaindex.com/player/238794/vin%C3%ADcius-jr/fifa23/',\n",
              "  'https://www.fifaindex.com/player/237692/phil-foden/fifa23/',\n",
              "  'https://www.fifaindex.com/player/237692/phil-foden/fifa23/',\n",
              "  'https://www.fifaindex.com/player/235805/federico-chiesa/fifa23/',\n",
              "  'https://www.fifaindex.com/player/235805/federico-chiesa/fifa23/',\n",
              "  'https://www.fifaindex.com/player/235790/kai-havertz/fifa23/',\n",
              "  'https://www.fifaindex.com/player/235790/kai-havertz/fifa23/',\n",
              "  'https://www.fifaindex.com/player/234396/alphonso-davies/fifa23/',\n",
              "  'https://www.fifaindex.com/player/234396/alphonso-davies/fifa23/',\n",
              "  'https://www.fifaindex.com/player/232656/theo-hern%C3%A1ndez/fifa23/',\n",
              "  'https://www.fifaindex.com/player/232656/theo-hern%C3%A1ndez/fifa23/',\n",
              "  'https://www.fifaindex.com/player/230938/franck-yannick-kessi%C3%A9/fifa23/',\n",
              "  'https://www.fifaindex.com/player/230938/franck-yannick-kessi%C3%A9/fifa23/',\n",
              "  'https://www.fifaindex.com/player/226790/wilfred-ndidi/fifa23/',\n",
              "  'https://www.fifaindex.com/player/226790/wilfred-ndidi/fifa23/',\n",
              "  'https://www.fifaindex.com/player/224334/marcos-acu%C3%B1a/fifa23/',\n",
              "  'https://www.fifaindex.com/player/224334/marcos-acu%C3%B1a/fifa23/',\n",
              "  'https://www.fifaindex.com/player/220814/lucas-hern%C3%A1ndez/fifa23/',\n",
              "  'https://www.fifaindex.com/player/220814/lucas-hern%C3%A1ndez/fifa23/',\n",
              "  'https://www.fifaindex.com/player/216460/jos%C3%A9-mar%C3%ADa-gim%C3%A9nez/fifa23/',\n",
              "  'https://www.fifaindex.com/player/216460/jos%C3%A9-mar%C3%ADa-gim%C3%A9nez/fifa23/',\n",
              "  'https://www.fifaindex.com/player/216393/m-qasem-tielemans/fifa23/',\n",
              "  'https://www.fifaindex.com/player/216393/m-qasem-tielemans/fifa23/',\n",
              "  'https://www.fifaindex.com/player/216352/marcelo-brozovi%C4%87/fifa23/',\n",
              "  'https://www.fifaindex.com/player/216352/marcelo-brozovi%C4%87/fifa23/',\n",
              "  'https://www.fifaindex.com/player/215333/duv%C3%A1n-rogulji%C4%87/fifa23/',\n",
              "  'https://www.fifaindex.com/player/215333/duv%C3%A1n-rogulji%C4%87/fifa23/',\n",
              "  'https://www.fifaindex.com/player/212190/niklas-s%C3%BCle/fifa23/',\n",
              "  'https://www.fifaindex.com/player/212190/niklas-s%C3%BCle/fifa23/',\n",
              "  'https://www.fifaindex.com/player/209989/thomas-partey/fifa23/',\n",
              "  'https://www.fifaindex.com/player/209989/thomas-partey/fifa23/',\n",
              "  'https://www.fifaindex.com/player/208574/filip-kosti%C4%87/fifa23/',\n",
              "  'https://www.fifaindex.com/player/208574/filip-kosti%C4%87/fifa23/',\n",
              "  'https://www.fifaindex.com/player/208418/ramis-carrasco/fifa23/',\n",
              "  'https://www.fifaindex.com/player/208418/ramis-carrasco/fifa23/',\n",
              "  'https://www.fifaindex.com/player/207410/mateo-kova%C4%8Di%C4%87/fifa23/',\n",
              "  'https://www.fifaindex.com/player/207410/mateo-kova%C4%8Di%C4%87/fifa23/',\n",
              "  'https://www.fifaindex.com/player/206517/jack-grealish/fifa23/',\n",
              "  'https://www.fifaindex.com/player/206517/jack-grealish/fifa23/',\n",
              "  'https://www.fifaindex.com/player/204963/carvajal/fifa23/',\n",
              "  'https://www.fifaindex.com/player/204963/carvajal/fifa23/',\n",
              "  'https://www.fifaindex.com/player/204639/stefan-savi%C4%87/fifa23/',\n",
              "  'https://www.fifaindex.com/player/204639/stefan-savi%C4%87/fifa23/',\n",
              "  'https://www.fifaindex.com/player/202811/emiliano-mart%C3%ADnez/fifa23/',\n",
              "  'https://www.fifaindex.com/player/202811/emiliano-mart%C3%ADnez/fifa23/',\n",
              "  'https://www.fifaindex.com/player/199434/du%C5%A1an-tadi%C4%87/fifa23/',\n",
              "  'https://www.fifaindex.com/player/199434/du%C5%A1an-tadi%C4%87/fifa23/',\n",
              "  'https://www.fifaindex.com/player/198176/stefan-park-gun/fifa23/',\n",
              "  'https://www.fifaindex.com/player/198176/stefan-park-gun/fifa23/',\n",
              "  'https://www.fifaindex.com/player/197061/joel-matip/fifa23/',\n",
              "  'https://www.fifaindex.com/player/197061/joel-matip/fifa23/',\n",
              "  'https://www.fifaindex.com/player/192629/iago-aspas/fifa23/',\n",
              "  'https://www.fifaindex.com/player/192629/iago-aspas/fifa23/',\n",
              "  'https://www.fifaindex.com/player/189575/muniain/fifa23/',\n",
              "  'https://www.fifaindex.com/player/189575/muniain/fifa23/',\n",
              "  'https://www.fifaindex.com/player/189511/sergio-busquets/fifa23/',\n",
              "  'https://www.fifaindex.com/player/189511/sergio-busquets/fifa23/',\n",
              "  'https://www.fifaindex.com/player/189332/jordi-alba/fifa23/',\n",
              "  'https://www.fifaindex.com/player/189332/jordi-alba/fifa23/',\n",
              "  'https://www.fifaindex.com/player/188943/kevin-trapp/fifa23/',\n",
              "  'https://www.fifaindex.com/player/188943/kevin-trapp/fifa23/',\n",
              "  'https://www.fifaindex.com/player/186345/kieran-trippier/fifa23/',\n",
              "  'https://www.fifaindex.com/player/186345/kieran-trippier/fifa23/',\n",
              "  'https://www.fifaindex.com/player/183277/eden-hazard/fifa23/',\n",
              "  'https://www.fifaindex.com/player/183277/eden-hazard/fifa23/',\n",
              "  'https://www.fifaindex.com/player/180930/edin-d%C5%BEeko/fifa23/',\n",
              "  'https://www.fifaindex.com/player/180930/edin-d%C5%BEeko/fifa23/',\n",
              "  'https://www.fifaindex.com/player/178603/mats-hummels/fifa23/',\n",
              "  'https://www.fifaindex.com/player/178603/mats-hummels/fifa23/',\n",
              "  'https://www.fifaindex.com/player/175943/dries-mertens/fifa23/',\n",
              "  'https://www.fifaindex.com/player/175943/dries-mertens/fifa23/',\n",
              "  'https://www.fifaindex.com/player/168542/david-silva/fifa23/',\n",
              "  'https://www.fifaindex.com/player/168542/david-silva/fifa23/',\n",
              "  'https://www.fifaindex.com/player/152729/piqu%C3%A9/fifa23/',\n",
              "  'https://www.fifaindex.com/player/152729/piqu%C3%A9/fifa23/',\n",
              "  'https://www.fifaindex.com/player/146536/jes%C3%BAs-navas/fifa23/',\n",
              "  'https://www.fifaindex.com/player/146536/jes%C3%BAs-navas/fifa23/',\n",
              "  'https://www.fifaindex.com/player/143076/alejandro-g%C3%B3mez/fifa23/',\n",
              "  'https://www.fifaindex.com/player/143076/alejandro-g%C3%B3mez/fifa23/',\n",
              "  'https://www.fifaindex.com/player/246430/du%C5%A1an-vlahovi%C4%87/fifa23/',\n",
              "  'https://www.fifaindex.com/player/246430/du%C5%A1an-vlahovi%C4%87/fifa23/',\n",
              "  'https://www.fifaindex.com/player/242444/jo%C3%A3o-f%C3%A9lix/fifa23/',\n",
              "  'https://www.fifaindex.com/player/242444/jo%C3%A3o-f%C3%A9lix/fifa23/',\n",
              "  'https://www.fifaindex.com/player/241852/moussa-diaby/fifa23/',\n",
              "  'https://www.fifaindex.com/player/241852/moussa-diaby/fifa23/',\n",
              "  'https://www.fifaindex.com/player/241486/jules-kound%C3%A9/fifa23/',\n",
              "  'https://www.fifaindex.com/player/241486/jules-kound%C3%A9/fifa23/',\n",
              "  'https://www.fifaindex.com/player/241461/ferran-torres/fifa23/',\n",
              "  'https://www.fifaindex.com/player/241461/ferran-torres/fifa23/',\n",
              "  'https://www.fifaindex.com/player/240130/bella-kotchap/fifa23/',\n",
              "  'https://www.fifaindex.com/player/240130/bella-kotchap/fifa23/',\n",
              "  'https://www.fifaindex.com/player/239053/federico-valverde/fifa23/',\n",
              "  'https://www.fifaindex.com/player/239053/federico-valverde/fifa23/',\n",
              "  'https://www.fifaindex.com/player/238074/reece-james/fifa23/',\n",
              "  'https://www.fifaindex.com/player/238074/reece-james/fifa23/',\n",
              "  'https://www.fifaindex.com/player/237383/alessandro-bastoni/fifa23/',\n",
              "  'https://www.fifaindex.com/player/237383/alessandro-bastoni/fifa23/',\n",
              "  'https://www.fifaindex.com/player/234378/declan-rice/fifa23/',\n",
              "  'https://www.fifaindex.com/player/234378/declan-rice/fifa23/',\n",
              "  'https://www.fifaindex.com/player/234236/patrik-schick/fifa23/',\n",
              "  'https://www.fifaindex.com/player/234236/patrik-schick/fifa23/',\n",
              "  'https://www.fifaindex.com/player/233419/raphinha/fifa23/',\n",
              "  'https://www.fifaindex.com/player/233419/raphinha/fifa23/',\n",
              "  'https://www.fifaindex.com/player/233064/mason-mount/fifa23/',\n",
              "  'https://www.fifaindex.com/player/233064/mason-mount/fifa23/',\n",
              "  'https://www.fifaindex.com/player/231443/ousmane-demb%C3%A9l%C3%A9/fifa23/',\n",
              "  'https://www.fifaindex.com/player/231443/ousmane-demb%C3%A9l%C3%A9/fifa23/',\n",
              "  'https://www.fifaindex.com/player/230666/gabriel-jesus/fifa23/',\n",
              "  'https://www.fifaindex.com/player/230666/gabriel-jesus/fifa23/',\n",
              "  'https://www.fifaindex.com/player/230481/ronaldo-cabrais/fifa23/',\n",
              "  'https://www.fifaindex.com/player/230481/ronaldo-cabrais/fifa23/',\n",
              "  'https://www.fifaindex.com/player/229984/ben-chilwell/fifa23/',\n",
              "  'https://www.fifaindex.com/player/229984/ben-chilwell/fifa23/',\n",
              "  'https://www.fifaindex.com/player/228941/andr%C3%A9-silva/fifa23/',\n",
              "  'https://www.fifaindex.com/player/228941/andr%C3%A9-silva/fifa23/',\n",
              "  'https://www.fifaindex.com/player/228251/lorenzo-pellegrini/fifa23/',\n",
              "  'https://www.fifaindex.com/player/228251/lorenzo-pellegrini/fifa23/',\n",
              "  'https://www.fifaindex.com/player/225850/presnel-kimpembe/fifa23/',\n",
              "  'https://www.fifaindex.com/player/225850/presnel-kimpembe/fifa23/',\n",
              "  'https://www.fifaindex.com/player/225193/merino/fifa23/',\n",
              "  'https://www.fifaindex.com/player/225193/merino/fifa23/',\n",
              "  'https://www.fifaindex.com/player/224293/r%C3%BAben-neves/fifa23/',\n",
              "  'https://www.fifaindex.com/player/224293/r%C3%BAben-neves/fifa23/',\n",
              "  'https://www.fifaindex.com/player/223697/robin-gosens/fifa23/',\n",
              "  'https://www.fifaindex.com/player/223697/robin-gosens/fifa23/',\n",
              "  'https://www.fifaindex.com/player/222665/martin-c-dinu/fifa23/',\n",
              "  'https://www.fifaindex.com/player/222665/martin-c-dinu/fifa23/',\n",
              "  'https://www.fifaindex.com/player/220834/marco-asensio/fifa23/',\n",
              "  'https://www.fifaindex.com/player/220834/marco-asensio/fifa23/',\n",
              "  'https://www.fifaindex.com/player/220651/angeli%C3%B1o/fifa23/',\n",
              "  'https://www.fifaindex.com/player/220651/angeli%C3%B1o/fifa23/',\n",
              "  'https://www.fifaindex.com/player/214997/a-cabral-correa/fifa23/',\n",
              "  'https://www.fifaindex.com/player/214997/a-cabral-correa/fifa23/',\n",
              "  'https://www.fifaindex.com/player/213648/pierre-emile-h%C3%B8jbjerg/fifa23/',\n",
              "  'https://www.fifaindex.com/player/213648/pierre-emile-h%C3%B8jbjerg/fifa23/',\n",
              "  'https://www.fifaindex.com/player/213565/thomas-lemar/fifa23/',\n",
              "  'https://www.fifaindex.com/player/213565/thomas-lemar/fifa23/',\n",
              "  'https://www.fifaindex.com/player/212616/rodrigo-javier-de-paul/fifa23/',\n",
              "  'https://www.fifaindex.com/player/212616/rodrigo-javier-de-paul/fifa23/',\n",
              "  'https://www.fifaindex.com/player/212188/timo-werner/fifa23/',\n",
              "  'https://www.fifaindex.com/player/212188/timo-werner/fifa23/',\n",
              "  'https://www.fifaindex.com/player/211688/gay%C3%A0/fifa23/',\n",
              "  'https://www.fifaindex.com/player/211688/gay%C3%A0/fifa23/',\n",
              "  'https://www.fifaindex.com/player/210935/domenico-berardi/fifa23/',\n",
              "  'https://www.fifaindex.com/player/210935/domenico-berardi/fifa23/',\n",
              "  'https://www.fifaindex.com/player/210243/ricardo-pereira/fifa23/',\n",
              "  'https://www.fifaindex.com/player/210243/ricardo-pereira/fifa23/',\n",
              "  'https://www.fifaindex.com/player/209889/rapha%C3%ABl-guerreiro/fifa23/',\n",
              "  'https://www.fifaindex.com/player/209889/rapha%C3%ABl-guerreiro/fifa23/',\n",
              "  'https://www.fifaindex.com/player/208670/hakim-e-karaca/fifa23/',\n",
              "  'https://www.fifaindex.com/player/208670/hakim-e-karaca/fifa23/',\n",
              "  'https://www.fifaindex.com/player/207863/felipe/fifa23/',\n",
              "  'https://www.fifaindex.com/player/207863/felipe/fifa23/',\n",
              "  'https://www.fifaindex.com/player/207862/matthias-ginter/fifa23/',\n",
              "  'https://www.fifaindex.com/player/207862/matthias-ginter/fifa23/',\n",
              "  'https://www.fifaindex.com/player/203574/john-stones/fifa23/',\n",
              "  'https://www.fifaindex.com/player/203574/john-stones/fifa23/',\n",
              "  'https://www.fifaindex.com/player/202884/leonardo-spinazzola/fifa23/',\n",
              "  'https://www.fifaindex.com/player/202884/leonardo-spinazzola/fifa23/',\n",
              "  'https://www.fifaindex.com/player/200458/lucas-digne/fifa23/',\n",
              "  'https://www.fifaindex.com/player/200458/lucas-digne/fifa23/',\n",
              "  'https://www.fifaindex.com/player/199845/francesco-acerbi/fifa23/',\n",
              "  'https://www.fifaindex.com/player/199845/francesco-acerbi/fifa23/',\n",
              "  'https://www.fifaindex.com/player/199451/wissam-ben-yedder/fifa23/',\n",
              "  'https://www.fifaindex.com/player/199451/wissam-ben-yedder/fifa23/',\n",
              "  'https://www.fifaindex.com/player/198706/luis-alberto/fifa23/',\n",
              "  'https://www.fifaindex.com/player/198706/luis-alberto/fifa23/',\n",
              "  'https://www.fifaindex.com/player/197655/sebasti%C3%A1n-coates/fifa23/',\n",
              "  'https://www.fifaindex.com/player/197655/sebasti%C3%A1n-coates/fifa23/',\n",
              "  'https://www.fifaindex.com/player/193698/oliver-baumann/fifa23/',\n",
              "  'https://www.fifaindex.com/player/193698/oliver-baumann/fifa23/',\n",
              "  'https://www.fifaindex.com/player/193082/juan-cuadrado/fifa23/',\n",
              "  'https://www.fifaindex.com/player/193082/juan-cuadrado/fifa23/',\n",
              "  'https://www.fifaindex.com/player/190941/luk%C3%A1%C5%A1-hr%C3%A1deck%C3%BD/fifa23/',\n",
              "  'https://www.fifaindex.com/player/190941/luk%C3%A1%C5%A1-hr%C3%A1deck%C3%BD/fifa23/',\n",
              "  'https://www.fifaindex.com/player/190286/canales/fifa23/',\n",
              "  'https://www.fifaindex.com/player/190286/canales/fifa23/',\n",
              "  'https://www.fifaindex.com/player/184432/azpilicueta/fifa23/',\n",
              "  'https://www.fifaindex.com/player/184432/azpilicueta/fifa23/',\n",
              "  'https://www.fifaindex.com/player/184087/toby-alderweireld/fifa23/',\n",
              "  'https://www.fifaindex.com/player/184087/toby-alderweireld/fifa23/',\n",
              "  'https://www.fifaindex.com/player/183711/jordan-henderson/fifa23/',\n",
              "  'https://www.fifaindex.com/player/183711/jordan-henderson/fifa23/',\n",
              "  'https://www.fifaindex.com/player/179645/simon-kj%C3%A6r/fifa23/',\n",
              "  'https://www.fifaindex.com/player/179645/simon-kj%C3%A6r/fifa23/',\n",
              "  'https://www.fifaindex.com/player/163587/kasper-schmeichel/fifa23/',\n",
              "  'https://www.fifaindex.com/player/163587/kasper-schmeichel/fifa23/',\n",
              "  'https://www.fifaindex.com/player/41236/b-riascos-ibrahimovi%C4%87/fifa23/',\n",
              "  'https://www.fifaindex.com/player/41236/b-riascos-ibrahimovi%C4%87/fifa23/',\n",
              "  'https://www.fifaindex.com/player/256630/florian-wirtz/fifa23/',\n",
              "  'https://www.fifaindex.com/player/256630/florian-wirtz/fifa23/',\n",
              "  'https://www.fifaindex.com/player/255475/antony/fifa23/',\n",
              "  'https://www.fifaindex.com/player/255475/antony/fifa23/',\n",
              "  'https://www.fifaindex.com/player/253163/ronald-araujo/fifa23/',\n",
              "  'https://www.fifaindex.com/player/253163/ronald-araujo/fifa23/',\n",
              "  'https://www.fifaindex.com/player/252371/jude-bellingham/fifa23/',\n",
              "  'https://www.fifaindex.com/player/252371/jude-bellingham/fifa23/',\n",
              "  'https://www.fifaindex.com/player/246669/bukayo-saka/fifa23/',\n",
              "  'https://www.fifaindex.com/player/246669/bukayo-saka/fifa23/',\n",
              "  'https://www.fifaindex.com/player/244260/dani-olmo/fifa23/',\n",
              "  'https://www.fifaindex.com/player/244260/dani-olmo/fifa23/',\n",
              "  'https://www.fifaindex.com/player/241721/rafael-le%C3%A3o/fifa23/',\n",
              "  'https://www.fifaindex.com/player/241721/rafael-le%C3%A3o/fifa23/',\n",
              "  'https://www.fifaindex.com/player/241464/pau-torres/fifa23/',\n",
              "  'https://www.fifaindex.com/player/241464/pau-torres/fifa23/',\n",
              "  'https://www.fifaindex.com/player/241096/sandro-tonali/fifa23/',\n",
              "  'https://www.fifaindex.com/player/241096/sandro-tonali/fifa23/',\n",
              "  'https://www.fifaindex.com/player/236792/tom%C3%A1%C5%A1-sou%C4%8Dek/fifa23/',\n",
              "  'https://www.fifaindex.com/player/236792/tom%C3%A1%C5%A1-sou%C4%8Dek/fifa23/',\n",
              "  'https://www.fifaindex.com/player/236401/noussair-mazraoui/fifa23/',\n",
              "  'https://www.fifaindex.com/player/236401/noussair-mazraoui/fifa23/',\n",
              "  'https://www.fifaindex.com/player/235410/f-mancuello-en-nesyri/fifa23/',\n",
              "  'https://www.fifaindex.com/player/235410/f-mancuello-en-nesyri/fifa23/',\n",
              "  'https://www.fifaindex.com/player/235073/gregor-kobel/fifa23/',\n",
              "  'https://www.fifaindex.com/player/235073/gregor-kobel/fifa23/',\n",
              "  'https://www.fifaindex.com/player/233731/alexander-isak/fifa23/',\n",
              "  'https://www.fifaindex.com/player/233731/alexander-isak/fifa23/',\n",
              "  'https://www.fifaindex.com/player/232756/fikayo-tomori/fifa23/',\n",
              "  'https://www.fifaindex.com/player/232756/fikayo-tomori/fifa23/',\n",
              "  'https://www.fifaindex.com/player/232488/cristian-romero/fifa23/',\n",
              "  'https://www.fifaindex.com/player/232488/cristian-romero/fifa23/',\n",
              "  'https://www.fifaindex.com/player/232293/victor-osimhen/fifa23/',\n",
              "  'https://www.fifaindex.com/player/232293/victor-osimhen/fifa23/',\n",
              "  'https://www.fifaindex.com/player/231969/ruslan-malinovskyi/fifa23/',\n",
              "  'https://www.fifaindex.com/player/231969/ruslan-malinovskyi/fifa23/',\n",
              "  'https://www.fifaindex.com/player/231677/marcus-rashford/fifa23/',\n",
              "  'https://www.fifaindex.com/player/231677/marcus-rashford/fifa23/',\n",
              "  'https://www.fifaindex.com/player/230869/unai-sim%C3%B3n/fifa23/',\n",
              "  'https://www.fifaindex.com/player/230869/unai-sim%C3%B3n/fifa23/',\n",
              "  'https://www.fifaindex.com/player/230375/josu%C3%A9-chiamulera/fifa23/',\n",
              "  'https://www.fifaindex.com/player/230375/josu%C3%A9-chiamulera/fifa23/',\n",
              "  'https://www.fifaindex.com/player/230168/raphaelinho-anjos/fifa23/',\n",
              "  'https://www.fifaindex.com/player/230168/raphaelinho-anjos/fifa23/',\n",
              "  'https://www.fifaindex.com/player/229668/mario-hermoso-canseco/fifa23/',\n",
              "  'https://www.fifaindex.com/player/229668/mario-hermoso-canseco/fifa23/',\n",
              "  'https://www.fifaindex.com/player/229558/dayot-upamecano/fifa23/',\n",
              "  'https://www.fifaindex.com/player/229558/dayot-upamecano/fifa23/',\n",
              "  'https://www.fifaindex.com/player/229391/palhinha/fifa23/',\n",
              "  'https://www.fifaindex.com/player/229391/palhinha/fifa23/',\n",
              "  'https://www.fifaindex.com/player/229237/manuel-akanji/fifa23/',\n",
              "  'https://www.fifaindex.com/player/229237/manuel-akanji/fifa23/',\n",
              "  'https://www.fifaindex.com/player/227796/christian-pulisic/fifa23/',\n",
              "  'https://www.fifaindex.com/player/227796/christian-pulisic/fifa23/',\n",
              "  'https://www.fifaindex.com/player/226753/andr%C3%A9-onana/fifa23/',\n",
              "  'https://www.fifaindex.com/player/226753/andr%C3%A9-onana/fifa23/',\n",
              "  'https://www.fifaindex.com/player/226271/fabi%C3%A1n/fifa23/',\n",
              "  'https://www.fifaindex.com/player/226271/fabi%C3%A1n/fifa23/',\n",
              "  'https://www.fifaindex.com/player/225375/konrad-laimer/fifa23/',\n",
              "  'https://www.fifaindex.com/player/225375/konrad-laimer/fifa23/',\n",
              "  'https://www.fifaindex.com/player/222077/manuel-locatelli/fifa23/',\n",
              "  'https://www.fifaindex.com/player/222077/manuel-locatelli/fifa23/',\n",
              "  'https://www.fifaindex.com/player/220697/james-maddison/fifa23/',\n",
              "  'https://www.fifaindex.com/player/220697/james-maddison/fifa23/',\n",
              "  'https://www.fifaindex.com/player/219693/diego-carlos/fifa23/',\n",
              "  'https://www.fifaindex.com/player/219693/diego-carlos/fifa23/',\n",
              "  'https://www.fifaindex.com/player/216547/rafa/fifa23/',\n",
              "  'https://www.fifaindex.com/player/216547/rafa/fifa23/',\n",
              "  'https://www.fifaindex.com/player/216354/andrej-kramari%C4%87/fifa23/',\n",
              "  'https://www.fifaindex.com/player/216354/andrej-kramari%C4%87/fifa23/',\n",
              "  'https://www.fifaindex.com/player/213661/andreas-christensen/fifa23/',\n",
              "  'https://www.fifaindex.com/player/213661/andreas-christensen/fifa23/',\n",
              "  'https://www.fifaindex.com/player/212523/anderson-souza-concei%C3%A7%C3%A3o/fifa23/',\n",
              "  'https://www.fifaindex.com/player/212523/anderson-souza-concei%C3%A7%C3%A3o/fifa23/',\n",
              "  'https://www.fifaindex.com/player/212194/julian-brandt/fifa23/',\n",
              "  'https://www.fifaindex.com/player/212194/julian-brandt/fifa23/',\n",
              "  'https://www.fifaindex.com/player/210411/ot%C3%A1vio/fifa23/',\n",
              "  'https://www.fifaindex.com/player/210411/ot%C3%A1vio/fifa23/',\n",
              "  'https://www.fifaindex.com/player/210406/piotr-jin-b/fifa23/',\n",
              "  'https://www.fifaindex.com/player/210406/piotr-jin-b/fifa23/',\n",
              "  'https://www.fifaindex.com/player/210315/de-tom%C3%A1s/fifa23/',\n",
              "  'https://www.fifaindex.com/player/210315/de-tom%C3%A1s/fifa23/',\n",
              "  'https://www.fifaindex.com/player/210035/grimaldo/fifa23/',\n",
              "  'https://www.fifaindex.com/player/210035/grimaldo/fifa23/',\n",
              "  'https://www.fifaindex.com/player/209981/p%C3%A9rez-navarro-bounou/fifa23/',\n",
              "  'https://www.fifaindex.com/player/209981/p%C3%A9rez-navarro-bounou/fifa23/',\n",
              "  'https://www.fifaindex.com/player/208333/emre-can/fifa23/',\n",
              "  'https://www.fifaindex.com/player/208333/emre-can/fifa23/',\n",
              "  'https://www.fifaindex.com/player/208128/hakan-e-fernandez/fifa23/',\n",
              "  'https://www.fifaindex.com/player/208128/hakan-e-fernandez/fifa23/',\n",
              "  'https://www.fifaindex.com/player/205693/s%C3%A9bastien-haller/fifa23/',\n",
              "  'https://www.fifaindex.com/player/205693/s%C3%A9bastien-haller/fifa23/',\n",
              "  'https://www.fifaindex.com/player/205632/lucas-ocampos/fifa23/',\n",
              "  'https://www.fifaindex.com/player/205632/lucas-ocampos/fifa23/',\n",
              "  'https://www.fifaindex.com/player/204838/ra%C3%BAl-jim%C3%A9nez/fifa23/',\n",
              "  'https://www.fifaindex.com/player/204838/ra%C3%BAl-jim%C3%A9nez/fifa23/',\n",
              "  'https://www.fifaindex.com/player/201305/gabriel-paulista/fifa23/',\n",
              "  'https://www.fifaindex.com/player/201305/gabriel-paulista/fifa23/',\n",
              "  'https://www.fifaindex.com/player/200647/josip-ili%C4%8Di%C4%87/fifa23/',\n",
              "  'https://www.fifaindex.com/player/200647/josip-ili%C4%8Di%C4%87/fifa23/',\n",
              "  'https://www.fifaindex.com/player/200260/steven-berghuis/fifa23/',\n",
              "  'https://www.fifaindex.com/player/200260/steven-berghuis/fifa23/',\n",
              "  'https://www.fifaindex.com/player/199482/anthony-lopes/fifa23/',\n",
              "  'https://www.fifaindex.com/player/199482/anthony-lopes/fifa23/',\n",
              "  'https://www.fifaindex.com/player/199110/luis-muriel/fifa23/',\n",
              "  'https://www.fifaindex.com/player/199110/luis-muriel/fifa23/',\n",
              "  'https://www.fifaindex.com/player/198717/wilfried-ali-adnan/fifa23/',\n",
              "  'https://www.fifaindex.com/player/198717/wilfried-ali-adnan/fifa23/',\n",
              "  'https://www.fifaindex.com/player/197781/isco/fifa23/',\n",
              "  'https://www.fifaindex.com/player/197781/isco/fifa23/',\n",
              "  'https://www.fifaindex.com/player/193474/idrissa-gueye/fifa23/',\n",
              "  'https://www.fifaindex.com/player/193474/idrissa-gueye/fifa23/',\n",
              "  'https://www.fifaindex.com/player/193301/alexandre-lacazette/fifa23/',\n",
              "  'https://www.fifaindex.com/player/193301/alexandre-lacazette/fifa23/',\n",
              "  'https://www.fifaindex.com/player/192774/kostas-manolas/fifa23/',\n",
              "  'https://www.fifaindex.com/player/192774/kostas-manolas/fifa23/',\n",
              "  'https://www.fifaindex.com/player/190460/christian-eriksen/fifa23/',\n",
              "  'https://www.fifaindex.com/player/190460/christian-eriksen/fifa23/',\n",
              "  'https://www.fifaindex.com/player/189242/coutinho/fifa23/',\n",
              "  'https://www.fifaindex.com/player/189242/coutinho/fifa23/',\n",
              "  'https://www.fifaindex.com/player/183512/g-silva/fifa23/',\n",
              "  'https://www.fifaindex.com/player/183512/g-silva/fifa23/',\n",
              "  'https://www.fifaindex.com/player/181458/ivan-peri%C5%A1i%C4%87/fifa23/',\n",
              "  'https://www.fifaindex.com/player/181458/ivan-peri%C5%A1i%C4%87/fifa23/',\n",
              "  'https://www.fifaindex.com/player/181291/georginio-wijnaldum/fifa23/',\n",
              "  'https://www.fifaindex.com/player/181291/georginio-wijnaldum/fifa23/',\n",
              "  'https://www.fifaindex.com/player/179813/edinson-cavani/fifa23/',\n",
              "  'https://www.fifaindex.com/player/179813/edinson-cavani/fifa23/',\n",
              "  'https://www.fifaindex.com/player/178562/kim-seung-woo-banega/fifa23/',\n",
              "  'https://www.fifaindex.com/player/178562/kim-seung-woo-banega/fifa23/',\n",
              "  'https://www.fifaindex.com/player/178005/rui-patr%C3%ADcio/fifa23/',\n",
              "  'https://www.fifaindex.com/player/178005/rui-patr%C3%ADcio/fifa23/',\n",
              "  'https://www.fifaindex.com/player/177388/dimitri-payet/fifa23/',\n",
              "  'https://www.fifaindex.com/player/177388/dimitri-payet/fifa23/',\n",
              "  'https://www.fifaindex.com/player/168651/ivan-rakiti%C4%87/fifa23/',\n",
              "  'https://www.fifaindex.com/player/168651/ivan-rakiti%C4%87/fifa23/',\n",
              "  'https://www.fifaindex.com/player/164835/labrador-fabia%C5%84ski/fifa23/',\n",
              "  'https://www.fifaindex.com/player/164835/labrador-fabia%C5%84ski/fifa23/',\n",
              "  'https://www.fifaindex.com/player/120533/pepe/fifa23/',\n",
              "  'https://www.fifaindex.com/player/120533/pepe/fifa23/',\n",
              "  'https://www.fifaindex.com/player/251573/renan-lodi/fifa23/',\n",
              "  'https://www.fifaindex.com/player/251573/renan-lodi/fifa23/',\n",
              "  'https://www.fifaindex.com/player/242516/cody-gakpo/fifa23/',\n",
              "  'https://www.fifaindex.com/player/242516/cody-gakpo/fifa23/',\n",
              "  'https://www.fifaindex.com/player/241637/aur%C3%A9lien-tchouam%C3%A9ni/fifa23/',\n",
              "  'https://www.fifaindex.com/player/241637/aur%C3%A9lien-tchouam%C3%A9ni/fifa23/',\n",
              "  'https://www.fifaindex.com/player/240950/pedro-gon%C3%A7alves/fifa23/',\n",
              "  'https://www.fifaindex.com/player/240950/pedro-gon%C3%A7alves/fifa23/',\n",
              "  'https://www.fifaindex.com/player/237238/scott-mctominay/fifa23/',\n",
              "  'https://www.fifaindex.com/player/237238/scott-mctominay/fifa23/',\n",
              "  'https://www.fifaindex.com/player/236480/avdijaj-bissouma/fifa23/',\n",
              "  'https://www.fifaindex.com/player/236480/avdijaj-bissouma/fifa23/',\n",
              "  'https://www.fifaindex.com/player/234943/florian-neuhaus/fifa23/',\n",
              "  'https://www.fifaindex.com/player/234943/florian-neuhaus/fifa23/',\n",
              "  'https://www.fifaindex.com/player/234153/carlos-soler/fifa23/',\n",
              "  'https://www.fifaindex.com/player/234153/carlos-soler/fifa23/',\n",
              "  'https://www.fifaindex.com/player/233934/aaron-ramsdale/fifa23/',\n",
              "  'https://www.fifaindex.com/player/233934/aaron-ramsdale/fifa23/',\n",
              "  'https://www.fifaindex.com/player/233927/lucas-paquet%C3%A1/fifa23/',\n",
              "  'https://www.fifaindex.com/player/233927/lucas-paquet%C3%A1/fifa23/',\n",
              "  'https://www.fifaindex.com/player/233096/denzel-dumfries/fifa23/',\n",
              "  'https://www.fifaindex.com/player/233096/denzel-dumfries/fifa23/',\n",
              "  'https://www.fifaindex.com/player/232580/gabriel/fifa23/',\n",
              "  'https://www.fifaindex.com/player/232580/gabriel/fifa23/',\n",
              "  'https://www.fifaindex.com/player/231943/richarlison/fifa23/',\n",
              "  'https://www.fifaindex.com/player/231943/richarlison/fifa23/',\n",
              "  'https://www.fifaindex.com/player/231352/tammy-abraham/fifa23/',\n",
              "  'https://www.fifaindex.com/player/231352/tammy-abraham/fifa23/',\n",
              "  'https://www.fifaindex.com/player/230658/arthur/fifa23/',\n",
              "  'https://www.fifaindex.com/player/230658/arthur/fifa23/',\n",
              "  'https://www.fifaindex.com/player/230430/oswaldinato/fifa23/',\n",
              "  'https://www.fifaindex.com/player/230430/oswaldinato/fifa23/',\n",
              "  'https://www.fifaindex.com/player/230347/welington-dano/fifa23/',\n",
              "  'https://www.fifaindex.com/player/230347/welington-dano/fifa23/',\n",
              "  'https://www.fifaindex.com/player/230294/louri-beretta/fifa23/',\n",
              "  'https://www.fifaindex.com/player/230294/louri-beretta/fifa23/',\n",
              "  'https://www.fifaindex.com/player/230258/rosberto-dourado/fifa23/',\n",
              "  'https://www.fifaindex.com/player/230258/rosberto-dourado/fifa23/',\n",
              "  'https://www.fifaindex.com/player/230256/adryan-zonta/fifa23/',\n",
              "  'https://www.fifaindex.com/player/230256/adryan-zonta/fifa23/',\n",
              "  'https://www.fifaindex.com/player/230225/juiano-mestres/fifa23/',\n",
              "  'https://www.fifaindex.com/player/230225/juiano-mestres/fifa23/',\n",
              "  'https://www.fifaindex.com/player/229906/leon-bailey/fifa23/',\n",
              "  'https://www.fifaindex.com/player/229906/leon-bailey/fifa23/',\n",
              "  'https://www.fifaindex.com/player/229261/denis-iglesias-quint%C3%A1s/fifa23/',\n",
              "  'https://www.fifaindex.com/player/229261/denis-iglesias-quint%C3%A1s/fifa23/',\n",
              "  'https://www.fifaindex.com/player/227928/n%C3%A9lson-semedo/fifa23/',\n",
              "  'https://www.fifaindex.com/player/227928/n%C3%A9lson-semedo/fifa23/',\n",
              "  'https://www.fifaindex.com/player/227127/tsitaishvili/fifa23/',\n",
              "  'https://www.fifaindex.com/player/227127/tsitaishvili/fifa23/',\n",
              "  'https://www.fifaindex.com/player/226754/isma%C3%ABl-bennacer/fifa23/',\n",
              "  'https://www.fifaindex.com/player/226754/isma%C3%ABl-bennacer/fifa23/',\n",
              "  'https://www.fifaindex.com/player/226491/kieran-tierney/fifa23/',\n",
              "  'https://www.fifaindex.com/player/226491/kieran-tierney/fifa23/',\n",
              "  'https://www.fifaindex.com/player/225100/joe-gomez/fifa23/',\n",
              "  'https://www.fifaindex.com/player/225100/joe-gomez/fifa23/',\n",
              "  'https://www.fifaindex.com/player/224411/gon%C3%A7alo-guedes/fifa23/',\n",
              "  'https://www.fifaindex.com/player/224411/gon%C3%A7alo-guedes/fifa23/',\n",
              "  'https://www.fifaindex.com/player/224081/kalvin-phillips/fifa23/',\n",
              "  'https://www.fifaindex.com/player/224081/kalvin-phillips/fifa23/',\n",
              "  'https://www.fifaindex.com/player/223952/david-soria/fifa23/',\n",
              "  'https://www.fifaindex.com/player/223952/david-soria/fifa23/',\n",
              "  'https://www.fifaindex.com/player/221992/hirving-lozano/fifa23/',\n",
              "  'https://www.fifaindex.com/player/221992/hirving-lozano/fifa23/',\n",
              "  'https://www.fifaindex.com/player/221479/dominic-calvert-lewin/fifa23/',\n",
              "  'https://www.fifaindex.com/player/221479/dominic-calvert-lewin/fifa23/',\n",
              "  'https://www.fifaindex.com/player/220018/ante-rebi%C4%87/fifa23/',\n",
              "  'https://www.fifaindex.com/player/220018/ante-rebi%C4%87/fifa23/',\n",
              "  'https://www.fifaindex.com/player/217870/giovanni-di-lorenzo/fifa23/',\n",
              "  'https://www.fifaindex.com/player/217870/giovanni-di-lorenzo/fifa23/',\n",
              "  'https://www.fifaindex.com/player/216475/morales/fifa23/',\n",
              "  'https://www.fifaindex.com/player/216475/morales/fifa23/',\n",
              "  'https://www.fifaindex.com/player/216409/matteo-politano/fifa23/',\n",
              "  'https://www.fifaindex.com/player/216409/matteo-politano/fifa23/',\n",
              "  'https://www.fifaindex.com/player/216388/allan-saint-maximin/fifa23/',\n",
              "  'https://www.fifaindex.com/player/216388/allan-saint-maximin/fifa23/',\n",
              "  'https://www.fifaindex.com/player/216201/i%C3%B1aki-williams/fifa23/',\n",
              "  'https://www.fifaindex.com/player/216201/i%C3%B1aki-williams/fifa23/',\n",
              "  'https://www.fifaindex.com/player/215330/joaqu%C3%ADn-correa/fifa23/',\n",
              "  'https://www.fifaindex.com/player/215330/joaqu%C3%ADn-correa/fifa23/',\n",
              "  'https://www.fifaindex.com/player/215316/ger%C3%B3nimo-rulli/fifa23/',\n",
              "  'https://www.fifaindex.com/player/215316/ger%C3%B3nimo-rulli/fifa23/',\n",
              "  'https://www.fifaindex.com/player/214979/juan-musso/fifa23/',\n",
              "  'https://www.fifaindex.com/player/214979/juan-musso/fifa23/',\n",
              "  'https://www.fifaindex.com/player/213331/jonathan-tah/fifa23/',\n",
              "  'https://www.fifaindex.com/player/213331/jonathan-tah/fifa23/',\n",
              "  'https://www.fifaindex.com/player/212442/jos%C3%A9-s%C3%A1/fifa23/',\n",
              "  'https://www.fifaindex.com/player/212442/jos%C3%A9-s%C3%A1/fifa23/',\n",
              "  'https://www.fifaindex.com/player/211990/odisseas-vlachodimos/fifa23/',\n",
              "  'https://www.fifaindex.com/player/211990/odisseas-vlachodimos/fifa23/',\n",
              "  'https://www.fifaindex.com/player/211748/kerem-demirbay/fifa23/',\n",
              "  'https://www.fifaindex.com/player/211748/kerem-demirbay/fifa23/',\n",
              "  'https://www.fifaindex.com/player/211256/nicol%C3%A1s-tagliafico/fifa23/',\n",
              "  'https://www.fifaindex.com/player/211256/nicol%C3%A1s-tagliafico/fifa23/',\n",
              "  'https://www.fifaindex.com/player/210413/alessio-romagnoli/fifa23/',\n",
              "  'https://www.fifaindex.com/player/210413/alessio-romagnoli/fifa23/',\n",
              "  'https://www.fifaindex.com/player/210385/rui-silva/fifa23/',\n",
              "  'https://www.fifaindex.com/player/210385/rui-silva/fifa23/',\n",
              "  'https://www.fifaindex.com/player/210008/adrien-rabiot/fifa23/',\n",
              "  'https://www.fifaindex.com/player/210008/adrien-rabiot/fifa23/',\n",
              "  'https://www.fifaindex.com/player/209519/ga%C3%ABtan-laborde/fifa23/',\n",
              "  'https://www.fifaindex.com/player/209519/ga%C3%ABtan-laborde/fifa23/',\n",
              "  'https://www.fifaindex.com/player/208618/lucas-v%C3%A1zquez/fifa23/',\n",
              "  'https://www.fifaindex.com/player/208618/lucas-v%C3%A1zquez/fifa23/',\n",
              "  'https://www.fifaindex.com/player/208448/emil-forsberg/fifa23/',\n",
              "  'https://www.fifaindex.com/player/208448/emil-forsberg/fifa23/',\n",
              "  'https://www.fifaindex.com/player/208330/adnan-januzaj/fifa23/',\n",
              "  'https://www.fifaindex.com/player/208330/adnan-januzaj/fifa23/',\n",
              "  'https://www.fifaindex.com/player/205686/t%C3%A9ji-savanier/fifa23/',\n",
              "  'https://www.fifaindex.com/player/205686/t%C3%A9ji-savanier/fifa23/',\n",
              "  'https://www.fifaindex.com/player/205678/edin-vi%C5%A1%C4%87a/fifa23/',\n",
              "  'https://www.fifaindex.com/player/205678/edin-vi%C5%A1%C4%87a/fifa23/',\n",
              "  'https://www.fifaindex.com/player/205569/james-ward-prowse/fifa23/',\n",
              "  'https://www.fifaindex.com/player/205569/james-ward-prowse/fifa23/',\n",
              "  'https://www.fifaindex.com/player/204935/jordan-pickford/fifa23/',\n",
              "  'https://www.fifaindex.com/player/204935/jordan-pickford/fifa23/',\n",
              "  'https://www.fifaindex.com/player/204923/marcel-sabitzer/fifa23/',\n",
              "  'https://www.fifaindex.com/player/204923/marcel-sabitzer/fifa23/',\n",
              "  'https://www.fifaindex.com/player/204638/willi-orban/fifa23/',\n",
              "  'https://www.fifaindex.com/player/204638/willi-orban/fifa23/',\n",
              "  'https://www.fifaindex.com/player/204525/i%C3%B1igo-mart%C3%ADnez/fifa23/',\n",
              "  'https://www.fifaindex.com/player/204525/i%C3%B1igo-mart%C3%ADnez/fifa23/',\n",
              "  'https://www.fifaindex.com/player/204311/kurt-trieiro-lobato/fifa23/',\n",
              "  'https://www.fifaindex.com/player/204311/kurt-trieiro-lobato/fifa23/',\n",
              "  'https://www.fifaindex.com/player/203841/nick-pope/fifa23/',\n",
              "  'https://www.fifaindex.com/player/203841/nick-pope/fifa23/',\n",
              "  'https://www.fifaindex.com/player/203486/thorgan-hazard/fifa23/',\n",
              "  'https://www.fifaindex.com/player/203486/thorgan-hazard/fifa23/',\n",
              "  'https://www.fifaindex.com/player/203263/harry-maguire/fifa23/',\n",
              "  'https://www.fifaindex.com/player/203263/harry-maguire/fifa23/',\n",
              "  'https://www.fifaindex.com/player/202648/sergi-darder/fifa23/',\n",
              "  'https://www.fifaindex.com/player/202648/sergi-darder/fifa23/',\n",
              "  'https://www.fifaindex.com/player/201153/morata/fifa23/',\n",
              "  'https://www.fifaindex.com/player/201153/morata/fifa23/',\n",
              "  'https://www.fifaindex.com/player/200949/lucas-moura/fifa23/',\n",
              "  'https://www.fifaindex.com/player/200949/lucas-moura/fifa23/',\n",
              "  'https://www.fifaindex.com/player/200724/nacho-fern%C3%A1ndez/fifa23/',\n",
              "  'https://www.fifaindex.com/player/200724/nacho-fern%C3%A1ndez/fifa23/',\n",
              "  'https://www.fifaindex.com/player/200610/kevin-volland/fifa23/',\n",
              "  'https://www.fifaindex.com/player/200610/kevin-volland/fifa23/',\n",
              "  'https://www.fifaindex.com/player/199914/allan/fifa23/',\n",
              "  'https://www.fifaindex.com/player/199914/allan/fifa23/',\n",
              "  'https://www.fifaindex.com/player/199823/campa%C3%B1a/fifa23/',\n",
              "  'https://www.fifaindex.com/player/199823/campa%C3%B1a/fifa23/',\n",
              "  'https://www.fifaindex.com/player/198950/pablo-sarabia/fifa23/',\n",
              "  'https://www.fifaindex.com/player/198950/pablo-sarabia/fifa23/',\n",
              "  'https://www.fifaindex.com/player/194404/neto/fifa23/',\n",
              "  'https://www.fifaindex.com/player/194404/neto/fifa23/',\n",
              "  'https://www.fifaindex.com/player/193283/thomas-delaney/fifa23/',\n",
              "  'https://www.fifaindex.com/player/193283/thomas-delaney/fifa23/',\n",
              "  'https://www.fifaindex.com/player/193165/jes%C3%BAs-corona/fifa23/',\n",
              "  'https://www.fifaindex.com/player/193165/jes%C3%BAs-corona/fifa23/',\n",
              "  'https://www.fifaindex.com/player/193105/alphonse-areola/fifa23/',\n",
              "  'https://www.fifaindex.com/player/193105/alphonse-areola/fifa23/',\n",
              "  'https://www.fifaindex.com/player/192883/henrikh-mkhitaryan/fifa23/',\n",
              "  'https://www.fifaindex.com/player/192883/henrikh-mkhitaryan/fifa23/',\n",
              "  'https://www.fifaindex.com/player/192563/bernd-leno/fifa23/',\n",
              "  'https://www.fifaindex.com/player/192563/bernd-leno/fifa23/',\n",
              "  'https://www.fifaindex.com/player/192366/nicol%C3%A1s-otamendi/fifa23/',\n",
              "  'https://www.fifaindex.com/player/192366/nicol%C3%A1s-otamendi/fifa23/',\n",
              "  'https://www.fifaindex.com/player/192318/mario-g%C3%B6tze/fifa23/',\n",
              "  'https://www.fifaindex.com/player/192318/mario-g%C3%B6tze/fifa23/',\n",
              "  'https://www.fifaindex.com/player/191043/alex-sandro/fifa23/',\n",
              "  'https://www.fifaindex.com/player/191043/alex-sandro/fifa23/',\n",
              "  'https://www.fifaindex.com/player/190815/daley-blind/fifa23/',\n",
              "  'https://www.fifaindex.com/player/190815/daley-blind/fifa23/',\n",
              "  'https://www.fifaindex.com/player/188152/oscar/fifa23/',\n",
              "  'https://www.fifaindex.com/player/188152/oscar/fifa23/',\n",
              "  'https://www.fifaindex.com/player/187598/rafael-tol%C3%B3i/fifa23/',\n",
              "  'https://www.fifaindex.com/player/187598/rafael-tol%C3%B3i/fifa23/',\n",
              "  'https://www.fifaindex.com/player/184200/marko-arnautovi%C4%87/fifa23/',\n",
              "  'https://www.fifaindex.com/player/184200/marko-arnautovi%C4%87/fifa23/',\n",
              "  'https://www.fifaindex.com/player/181872/arturo-vidal/fifa23/',\n",
              "  'https://www.fifaindex.com/player/181872/arturo-vidal/fifa23/',\n",
              "  'https://www.fifaindex.com/player/180206/miralem-pjani%C4%87/fifa23/',\n",
              "  'https://www.fifaindex.com/player/180206/miralem-pjani%C4%87/fifa23/',\n",
              "  'https://www.fifaindex.com/player/178509/olivier-giroud/fifa23/',\n",
              "  'https://www.fifaindex.com/player/178509/olivier-giroud/fifa23/',\n",
              "  'https://www.fifaindex.com/player/178086/ad%C3%A1n/fifa23/',\n",
              "  'https://www.fifaindex.com/player/178086/ad%C3%A1n/fifa23/',\n",
              "  'https://www.fifaindex.com/player/173731/gareth-bale/fifa23/',\n",
              "  'https://www.fifaindex.com/player/173731/gareth-bale/fifa23/',\n",
              "  'https://www.fifaindex.com/player/172871/jan-vertonghen/fifa23/',\n",
              "  'https://www.fifaindex.com/player/172871/jan-vertonghen/fifa23/',\n",
              "  'https://www.fifaindex.com/player/162347/jo%C3%A3o-moutinho/fifa23/',\n",
              "  'https://www.fifaindex.com/player/162347/jo%C3%A3o-moutinho/fifa23/',\n",
              "  'https://www.fifaindex.com/player/157481/ra%C3%BAl-albiol/fifa23/',\n",
              "  'https://www.fifaindex.com/player/157481/ra%C3%BAl-albiol/fifa23/',\n",
              "  'https://www.fifaindex.com/player/156519/h%C3%A9ctor-herrera/fifa23/',\n",
              "  'https://www.fifaindex.com/player/156519/h%C3%A9ctor-herrera/fifa23/',\n",
              "  'https://www.fifaindex.com/player/153244/andr%C3%A9-pierre-gignac/fifa23/',\n",
              "  'https://www.fifaindex.com/player/153244/andr%C3%A9-pierre-gignac/fifa23/',\n",
              "  'https://www.fifaindex.com/player/135507/fernandinho/fifa23/',\n",
              "  'https://www.fifaindex.com/player/135507/fernandinho/fifa23/',\n",
              "  'https://www.fifaindex.com/player/45186/joaqu%C3%ADn/fifa23/',\n",
              "  'https://www.fifaindex.com/player/45186/joaqu%C3%ADn/fifa23/',\n",
              "  'https://www.fifaindex.com/player/252145/nuno-alexandre-tavares-mendes/fifa23/',\n",
              "  'https://www.fifaindex.com/player/252145/nuno-alexandre-tavares-mendes/fifa23/',\n",
              "  'https://www.fifaindex.com/player/247851/bruno-guimar%C3%A3es/fifa23/',\n",
              "  'https://www.fifaindex.com/player/247851/bruno-guimar%C3%A3es/fifa23/',\n",
              "  'https://www.fifaindex.com/player/247819/nico-schlotterbeck/fifa23/',\n",
              "  'https://www.fifaindex.com/player/247819/nico-schlotterbeck/fifa23/',\n",
              "  'https://www.fifaindex.com/player/247394/dejan-kulusevski/fifa23/',\n",
              "  'https://www.fifaindex.com/player/247394/dejan-kulusevski/fifa23/',\n",
              "  'https://www.fifaindex.com/player/247263/edmond-tapsoba/fifa23/',\n",
              "  'https://www.fifaindex.com/player/247263/edmond-tapsoba/fifa23/',\n",
              "  'https://www.fifaindex.com/player/245279/reguil%C3%B3n/fifa23/',\n",
              "  'https://www.fifaindex.com/player/245279/reguil%C3%B3n/fifa23/',\n",
              "  'https://www.fifaindex.com/player/244470/vladim%C3%ADr-coufal/fifa23/',\n",
              "  'https://www.fifaindex.com/player/244470/vladim%C3%ADr-coufal/fifa23/',\n",
              "  'https://www.fifaindex.com/player/244369/viktor-tsygankov/fifa23/',\n",
              "  'https://www.fifaindex.com/player/244369/viktor-tsygankov/fifa23/',\n",
              "  'https://www.fifaindex.com/player/243812/rodrygo/fifa23/',\n",
              "  'https://www.fifaindex.com/player/243812/rodrygo/fifa23/',\n",
              "  'https://www.fifaindex.com/player/243576/pedro-porro/fifa23/',\n",
              "  'https://www.fifaindex.com/player/243576/pedro-porro/fifa23/',\n",
              "  'https://www.fifaindex.com/player/241788/mehdi-taremi/fifa23/',\n",
              "  'https://www.fifaindex.com/player/241788/mehdi-taremi/fifa23/',\n",
              "  'https://www.fifaindex.com/player/241671/dominik-livakovi%C4%87/fifa23/',\n",
              "  'https://www.fifaindex.com/player/241671/dominik-livakovi%C4%87/fifa23/',\n",
              "  'https://www.fifaindex.com/player/240709/ridle-baku/fifa23/',\n",
              "  'https://www.fifaindex.com/player/240709/ridle-baku/fifa23/',\n",
              "  'https://www.fifaindex.com/player/240273/emile-smith-rowe/fifa23/',\n",
              "  'https://www.fifaindex.com/player/240273/emile-smith-rowe/fifa23/',\n",
              "  'https://www.fifaindex.com/player/239580/bremer/fifa23/',\n",
              "  'https://www.fifaindex.com/player/239580/bremer/fifa23/',\n",
              "  'https://www.fifaindex.com/player/239301/lisandro-mart%C3%ADnez/fifa23/',\n",
              "  'https://www.fifaindex.com/player/239301/lisandro-mart%C3%ADnez/fifa23/',\n",
              "  'https://www.fifaindex.com/player/239231/cucurella/fifa23/',\n",
              "  'https://www.fifaindex.com/player/239231/cucurella/fifa23/',\n",
              "  'https://www.fifaindex.com/player/238067/nicol%C3%B2-restrepo/fifa23/',\n",
              "  'https://www.fifaindex.com/player/238067/nicol%C3%B2-restrepo/fifa23/',\n",
              "  'https://www.fifaindex.com/player/237678/ibrahima-konat%C3%A9/fifa23/',\n",
              "  'https://www.fifaindex.com/player/237678/ibrahima-konat%C3%A9/fifa23/',\n",
              "  'https://www.fifaindex.com/player/236987/boubacar-kamara/fifa23/',\n",
              "  'https://www.fifaindex.com/player/236987/boubacar-kamara/fifa23/',\n",
              "  'https://www.fifaindex.com/player/236791/anton%C3%ADn-bar%C3%A1k/fifa23/',\n",
              "  'https://www.fifaindex.com/player/236791/anton%C3%ADn-bar%C3%A1k/fifa23/',\n",
              "  'https://www.fifaindex.com/player/236786/martin-terrier/fifa23/',\n",
              "  'https://www.fifaindex.com/player/236786/martin-terrier/fifa23/',\n",
              "  'https://www.fifaindex.com/player/236496/matt%C3%A9o-guendouzi/fifa23/',\n",
              "  'https://www.fifaindex.com/player/236496/matt%C3%A9o-guendouzi/fifa23/',\n",
              "  'https://www.fifaindex.com/player/236403/evan-ndicka/fifa23/',\n",
              "  'https://www.fifaindex.com/player/236403/evan-ndicka/fifa23/',\n",
              "  'https://www.fifaindex.com/player/234742/harvey-barnes/fifa23/',\n",
              "  'https://www.fifaindex.com/player/234742/harvey-barnes/fifa23/',\n",
              "  'https://www.fifaindex.com/player/233306/dean-henderson/fifa23/',\n",
              "  'https://www.fifaindex.com/player/233306/dean-henderson/fifa23/',\n",
              "  'https://www.fifaindex.com/player/233195/xaver-schlager/fifa23/',\n",
              "  'https://www.fifaindex.com/player/233195/xaver-schlager/fifa23/',\n",
              "  'https://www.fifaindex.com/player/232730/daichi-kamada/fifa23/',\n",
              "  'https://www.fifaindex.com/player/232730/daichi-kamada/fifa23/',\n",
              "  'https://www.fifaindex.com/player/232665/mauro-arambarri/fifa23/',\n",
              "  'https://www.fifaindex.com/player/232665/mauro-arambarri/fifa23/',\n",
              "  'https://www.fifaindex.com/player/230767/renato-sanches/fifa23/',\n",
              "  'https://www.fifaindex.com/player/230767/renato-sanches/fifa23/',\n",
              "  'https://www.fifaindex.com/player/230313/tony-abranjes/fifa23/',\n",
              "  'https://www.fifaindex.com/player/230313/tony-abranjes/fifa23/',\n",
              "  'https://www.fifaindex.com/player/230271/laure-santeiro/fifa23/',\n",
              "  'https://www.fifaindex.com/player/230271/laure-santeiro/fifa23/',\n",
              "  'https://www.fifaindex.com/player/230204/h%C3%A9niton-pires/fifa23/',\n",
              "  'https://www.fifaindex.com/player/230204/h%C3%A9niton-pires/fifa23/',\n",
              "  'https://www.fifaindex.com/player/230201/maikel-catarino/fifa23/',\n",
              "  'https://www.fifaindex.com/player/230201/maikel-catarino/fifa23/',\n",
              "  'https://www.fifaindex.com/player/229880/aaron-wan-bissaka/fifa23/',\n",
              "  'https://www.fifaindex.com/player/229880/aaron-wan-bissaka/fifa23/',\n",
              "  'https://www.fifaindex.com/player/229582/gianluca-mancini/fifa23/',\n",
              "  'https://www.fifaindex.com/player/229582/gianluca-mancini/fifa23/',\n",
              "  'https://www.fifaindex.com/player/227950/espinoza-t/fifa23/',\n",
              "  'https://www.fifaindex.com/player/227950/espinoza-t/fifa23/',\n",
              "  'https://www.fifaindex.com/player/227290/marko-dmitrovi%C4%87/fifa23/',\n",
              "  'https://www.fifaindex.com/player/227290/marko-dmitrovi%C4%87/fifa23/',\n",
              "  'https://www.fifaindex.com/player/226300/u%C4%9Furcan-zu-pengchao/fifa23/',\n",
              "  'https://www.fifaindex.com/player/226300/u%C4%9Furcan-zu-pengchao/fifa23/',\n",
              "  'https://www.fifaindex.com/player/226226/giovani-lo-celso/fifa23/',\n",
              "  'https://www.fifaindex.com/player/226226/giovani-lo-celso/fifa23/',\n",
              "  'https://www.fifaindex.com/player/226221/aritz-elustondo/fifa23/',\n",
              "  'https://www.fifaindex.com/player/226221/aritz-elustondo/fifa23/',\n",
              "  'https://www.fifaindex.com/player/226166/nordi-mukiele/fifa23/',\n",
              "  'https://www.fifaindex.com/player/226166/nordi-mukiele/fifa23/',\n",
              "  'https://www.fifaindex.com/player/226110/nicolas-p%C3%A9p%C3%A9/fifa23/',\n",
              "  'https://www.fifaindex.com/player/226110/nicolas-p%C3%A9p%C3%A9/fifa23/',\n",
              "  'https://www.fifaindex.com/player/225953/steven-bergwijn/fifa23/',\n",
              "  'https://www.fifaindex.com/player/225953/steven-bergwijn/fifa23/',\n",
              "  'https://www.fifaindex.com/player/225201/dang-van-lam/fifa23/',\n",
              "  'https://www.fifaindex.com/player/225201/dang-van-lam/fifa23/',\n",
              "  'https://www.fifaindex.com/player/224309/joan-jord%C3%A1n/fifa23/',\n",
              "  'https://www.fifaindex.com/player/224309/joan-jord%C3%A1n/fifa23/',\n",
              "  'https://www.fifaindex.com/player/223689/wout-weghorst/fifa23/',\n",
              "  'https://www.fifaindex.com/player/223689/wout-weghorst/fifa23/',\n",
              "  'https://www.fifaindex.com/player/223273/mario-pa%C5%A1ali%C4%87/fifa23/',\n",
              "  'https://www.fifaindex.com/player/223273/mario-pa%C5%A1ali%C4%87/fifa23/',\n",
              "  'https://www.fifaindex.com/player/222558/rick-karsdorp/fifa23/',\n",
              "  'https://www.fifaindex.com/player/222558/rick-karsdorp/fifa23/',\n",
              "  'https://www.fifaindex.com/player/222331/lukas-klostermann/fifa23/',\n",
              "  'https://www.fifaindex.com/player/222331/lukas-klostermann/fifa23/',\n",
              "  'https://www.fifaindex.com/player/221660/victor-lindel%C3%B6f/fifa23/',\n",
              "  'https://www.fifaindex.com/player/221660/victor-lindel%C3%B6f/fifa23/',\n",
              "  'https://www.fifaindex.com/player/220971/naby-ke%C3%AFta/fifa23/',\n",
              "  'https://www.fifaindex.com/player/220971/naby-ke%C3%AFta/fifa23/',\n",
              "  'https://www.fifaindex.com/player/220440/cl%C3%A9ment-lenglet/fifa23/',\n",
              "  'https://www.fifaindex.com/player/220440/cl%C3%A9ment-lenglet/fifa23/',\n",
              "  'https://www.fifaindex.com/player/220093/hans-hateboer/fifa23/',\n",
              "  'https://www.fifaindex.com/player/220093/hans-hateboer/fifa23/',\n",
              "  'https://www.fifaindex.com/player/219683/corentin-tolisso/fifa23/',\n",
              "  'https://www.fifaindex.com/player/219683/corentin-tolisso/fifa23/',\n",
              "  'https://www.fifaindex.com/player/218339/mahmoud-dahoud/fifa23/',\n",
              "  'https://www.fifaindex.com/player/218339/mahmoud-dahoud/fifa23/',\n",
              "  'https://www.fifaindex.com/player/217940/dakonam-djen%C3%A9/fifa23/',\n",
              "  'https://www.fifaindex.com/player/217940/dakonam-djen%C3%A9/fifa23/',\n",
              "  'https://www.fifaindex.com/player/217036/youngeun/fifa23/',\n",
              "  'https://www.fifaindex.com/player/217036/youngeun/fifa23/',\n",
              "  'https://www.fifaindex.com/player/216320/seko-fofana/fifa23/',\n",
              "  'https://www.fifaindex.com/player/216320/seko-fofana/fifa23/',\n",
              "  'https://www.fifaindex.com/player/216189/capa/fifa23/',\n",
              "  'https://www.fifaindex.com/player/216189/capa/fifa23/',\n",
              "  'https://www.fifaindex.com/player/215223/walter-ben%C3%ADtez/fifa23/',\n",
              "  'https://www.fifaindex.com/player/215223/walter-ben%C3%ADtez/fifa23/',\n",
              "  'https://www.fifaindex.com/player/214097/benjamin-bourigeaud/fifa23/',\n",
              "  'https://www.fifaindex.com/player/214097/benjamin-bourigeaud/fifa23/',\n",
              "  'https://www.fifaindex.com/player/214047/mateus-uribe/fifa23/',\n",
              "  'https://www.fifaindex.com/player/214047/mateus-uribe/fifa23/',\n",
              "  'https://www.fifaindex.com/player/212462/alex-telles/fifa23/',\n",
              "  'https://www.fifaindex.com/player/212462/alex-telles/fifa23/',\n",
              "  'https://www.fifaindex.com/player/212096/vincenzo-grifo/fifa23/',\n",
              "  'https://www.fifaindex.com/player/212096/vincenzo-grifo/fifa23/',\n",
              "  'https://www.fifaindex.com/player/211300/anthony-martial/fifa23/',\n",
              "  'https://www.fifaindex.com/player/211300/anthony-martial/fifa23/',\n",
              "  'https://www.fifaindex.com/player/210463/darwin-mach%C3%ADs/fifa23/',\n",
              "  'https://www.fifaindex.com/player/210463/darwin-mach%C3%ADs/fifa23/',\n",
              "  'https://www.fifaindex.com/player/210455/jonny/fifa23/',\n",
              "  'https://www.fifaindex.com/player/210455/jonny/fifa23/',\n",
              "  'https://www.fifaindex.com/player/210324/jonas-hofmann/fifa23/',\n",
              "  'https://www.fifaindex.com/player/210324/jonas-hofmann/fifa23/',\n",
              "  'https://www.fifaindex.com/player/209960/pacheco/fifa23/',\n",
              "  'https://www.fifaindex.com/player/209960/pacheco/fifa23/',\n",
              "  'https://www.fifaindex.com/player/209846/christian-g%C3%BCnter/fifa23/',\n",
              "  'https://www.fifaindex.com/player/209846/christian-g%C3%BCnter/fifa23/',\n",
              "  'https://www.fifaindex.com/player/209297/fred/fifa23/',\n",
              "  'https://www.fifaindex.com/player/209297/fred/fifa23/',\n",
              "  'https://www.fifaindex.com/player/208596/andrea-belotti/fifa23/',\n",
              "  'https://www.fifaindex.com/player/208596/andrea-belotti/fifa23/',\n",
              "  'https://www.fifaindex.com/player/208461/marten-mbunga-kimpioka/fifa23/',\n",
              "  'https://www.fifaindex.com/player/208461/marten-mbunga-kimpioka/fifa23/',\n",
              "  'https://www.fifaindex.com/player/208421/sa%C3%BAl/fifa23/',\n",
              "  'https://www.fifaindex.com/player/208421/sa%C3%BAl/fifa23/',\n",
              "  'https://www.fifaindex.com/player/207439/leandro-paredes/fifa23/',\n",
              "  'https://www.fifaindex.com/player/207439/leandro-paredes/fifa23/',\n",
              "  'https://www.fifaindex.com/player/206585/kepa/fifa23/',\n",
              "  'https://www.fifaindex.com/player/206585/kepa/fifa23/',\n",
              "  'https://www.fifaindex.com/player/206511/maximilian-arnold/fifa23/',\n",
              "  'https://www.fifaindex.com/player/206511/maximilian-arnold/fifa23/',\n",
              "  'https://www.fifaindex.com/player/205659/alessio-cragno/fifa23/',\n",
              "  'https://www.fifaindex.com/player/205659/alessio-cragno/fifa23/',\n",
              "  'https://www.fifaindex.com/player/205070/portu/fifa23/',\n",
              "  'https://www.fifaindex.com/player/205070/portu/fifa23/',\n",
              "  'https://www.fifaindex.com/player/204120/tom%C3%A1%C5%A1-vacl%C3%ADk/fifa23/',\n",
              "  'https://www.fifaindex.com/player/204120/tom%C3%A1%C5%A1-vacl%C3%ADk/fifa23/',\n",
              "  'https://www.fifaindex.com/player/203890/a-pab%C3%B3n-vrsaljko/fifa23/',\n",
              "  'https://www.fifaindex.com/player/203890/a-pab%C3%B3n-vrsaljko/fifa23/',\n",
              "  'https://www.fifaindex.com/player/202695/james-tarkowski/fifa23/',\n",
              "  'https://www.fifaindex.com/player/202695/james-tarkowski/fifa23/',\n",
              "  'https://www.fifaindex.com/player/202651/suso/fifa23/',\n",
              "  'https://www.fifaindex.com/player/202651/suso/fifa23/',\n",
              "  'https://www.fifaindex.com/player/202335/eric-dier/fifa23/',\n",
              "  'https://www.fifaindex.com/player/202335/eric-dier/fifa23/',\n",
              "  'https://www.fifaindex.com/player/202024/remo-freuler/fifa23/',\n",
              "  'https://www.fifaindex.com/player/202024/remo-freuler/fifa23/',\n",
              "  'https://www.fifaindex.com/player/201519/jordan-veretout/fifa23/',\n",
              "  'https://www.fifaindex.com/player/201519/jordan-veretout/fifa23/',\n",
              "  'https://www.fifaindex.com/player/201119/ismaily/fifa23/',\n",
              "  'https://www.fifaindex.com/player/201119/ismaily/fifa23/',\n",
              "  'https://www.fifaindex.com/player/201095/agust%C3%ADn-marches%C3%ADn/fifa23/',\n",
              "  'https://www.fifaindex.com/player/201095/agust%C3%ADn-marches%C3%ADn/fifa23/',\n",
              "  'https://www.fifaindex.com/player/200888/danilo-pereira/fifa23/',\n",
              "  'https://www.fifaindex.com/player/200888/danilo-pereira/fifa23/',\n",
              "  'https://www.fifaindex.com/player/200454/paco-alc%C3%A1cer/fifa23/',\n",
              "  'https://www.fifaindex.com/player/200454/paco-alc%C3%A1cer/fifa23/',\n",
              "  'https://www.fifaindex.com/player/199987/jasper-cillessen/fifa23/',\n",
              "  'https://www.fifaindex.com/player/199987/jasper-cillessen/fifa23/',\n",
              "  'https://www.fifaindex.com/player/199564/sergi-roberto/fifa23/',\n",
              "  'https://www.fifaindex.com/player/199564/sergi-roberto/fifa23/',\n",
              "  'https://www.fifaindex.com/player/199304/danilo/fifa23/',\n",
              "  'https://www.fifaindex.com/player/199304/danilo/fifa23/',\n",
              "  'https://www.fifaindex.com/player/199254/jo%C3%A3o-pedro/fifa23/',\n",
              "  'https://www.fifaindex.com/player/199254/jo%C3%A3o-pedro/fifa23/',\n",
              "  'https://www.fifaindex.com/player/199042/charles-ar%C3%A1nguiz/fifa23/',\n",
              "  'https://www.fifaindex.com/player/199042/charles-ar%C3%A1nguiz/fifa23/',\n",
              "  'https://www.fifaindex.com/player/198141/bartra/fifa23/',\n",
              "  'https://www.fifaindex.com/player/198141/bartra/fifa23/',\n",
              "  'https://www.fifaindex.com/player/198031/s%C3%A9rgio-oliveira/fifa23/',\n",
              "  'https://www.fifaindex.com/player/198031/s%C3%A9rgio-oliveira/fifa23/',\n",
              "  'https://www.fifaindex.com/player/198009/mattia-perin/fifa23/',\n",
              "  'https://www.fifaindex.com/player/198009/mattia-perin/fifa23/',\n",
              "  'https://www.fifaindex.com/player/197242/grzegorz-krychowiak/fifa23/',\n",
              "  'https://www.fifaindex.com/player/197242/grzegorz-krychowiak/fifa23/',\n",
              "  'https://www.fifaindex.com/player/195859/danny-ings/fifa23/',\n",
              "  'https://www.fifaindex.com/player/195859/danny-ings/fifa23/',\n",
              "  'https://www.fifaindex.com/player/195365/kevin-kampl/fifa23/',\n",
              "  'https://www.fifaindex.com/player/195365/kevin-kampl/fifa23/',\n",
              "  'https://www.fifaindex.com/player/193983/andy-delort/fifa23/',\n",
              "  'https://www.fifaindex.com/player/193983/andy-delort/fifa23/',\n",
              "  'https://www.fifaindex.com/player/192638/marcos-alonso/fifa23/',\n",
              "  'https://www.fifaindex.com/player/192638/marcos-alonso/fifa23/',\n",
              "  'https://www.fifaindex.com/player/191740/ander-herrera/fifa23/',\n",
              "  'https://www.fifaindex.com/player/191740/ander-herrera/fifa23/',\n",
              "  'https://www.fifaindex.com/player/190717/michail-antonio/fifa23/',\n",
              "  'https://www.fifaindex.com/player/190717/michail-antonio/fifa23/',\n",
              "  'https://www.fifaindex.com/player/190674/benjamin-andr%C3%A9/fifa23/',\n",
              "  'https://www.fifaindex.com/player/190674/benjamin-andr%C3%A9/fifa23/',\n",
              "  'https://www.fifaindex.com/player/189271/francis-coquelin/fifa23/',\n",
              "  'https://www.fifaindex.com/player/189271/francis-coquelin/fifa23/',\n",
              "  'https://www.fifaindex.com/player/187072/lars-stindl/fifa23/',\n",
              "  'https://www.fifaindex.com/player/187072/lars-stindl/fifa23/',\n",
              "  'https://www.fifaindex.com/player/184941/alexis-s%C3%A1nchez/fifa23/',\n",
              "  'https://www.fifaindex.com/player/184941/alexis-s%C3%A1nchez/fifa23/',\n",
              "  'https://www.fifaindex.com/player/183907/j%C3%A9r%C3%B4me-boateng/fifa23/',\n",
              "  'https://www.fifaindex.com/player/183907/j%C3%A9r%C3%B4me-boateng/fifa23/',\n",
              "  'https://www.fifaindex.com/player/183855/angelo-ogbonna/fifa23/',\n",
              "  'https://www.fifaindex.com/player/183855/angelo-ogbonna/fifa23/',\n",
              "  'https://www.fifaindex.com/player/183574/max-kruse/fifa23/',\n",
              "  'https://www.fifaindex.com/player/183574/max-kruse/fifa23/',\n",
              "  'https://www.fifaindex.com/player/182494/fernando-muslera/fifa23/',\n",
              "  'https://www.fifaindex.com/player/182494/fernando-muslera/fifa23/',\n",
              "  'https://www.fifaindex.com/player/178750/sergio-asenjo/fifa23/',\n",
              "  'https://www.fifaindex.com/player/178750/sergio-asenjo/fifa23/',\n",
              "  'https://www.fifaindex.com/player/177413/axel-witsel/fifa23/',\n",
              "  'https://www.fifaindex.com/player/177413/axel-witsel/fifa23/',\n",
              "  'https://www.fifaindex.com/player/173426/simon-mignolet/fifa23/',\n",
              "  'https://www.fifaindex.com/player/173426/simon-mignolet/fifa23/',\n",
              "  'https://www.fifaindex.com/player/172522/daniel-wass/fifa23/',\n",
              "  'https://www.fifaindex.com/player/172522/daniel-wass/fifa23/',\n",
              "  'https://www.fifaindex.com/player/171877/marek-ham%C5%A1%C3%ADk/fifa23/',\n",
              "  'https://www.fifaindex.com/player/171877/marek-ham%C5%A1%C3%ADk/fifa23/',\n",
              "  'https://www.fifaindex.com/player/171791/jos%C3%A9-fonte/fifa23/',\n",
              "  'https://www.fifaindex.com/player/171791/jos%C3%A9-fonte/fifa23/',\n",
              "  'https://www.fifaindex.com/player/171579/ra%C3%BAl-garc%C3%ADa/fifa23/',\n",
              "  'https://www.fifaindex.com/player/171579/ra%C3%BAl-garc%C3%ADa/fifa23/',\n",
              "  'https://www.fifaindex.com/player/163489/andrea-consigli/fifa23/',\n",
              "  'https://www.fifaindex.com/player/163489/andrea-consigli/fifa23/',\n",
              "  'https://www.fifaindex.com/player/140233/guillermo-ochoa/fifa23/',\n",
              "  'https://www.fifaindex.com/player/140233/guillermo-ochoa/fifa23/',\n",
              "  'https://www.fifaindex.com/player/1179/gianluigi-buffon/fifa23/',\n",
              "  'https://www.fifaindex.com/player/1179/gianluigi-buffon/fifa23/',\n",
              "  'https://www.fifaindex.com/player/256790/jamal-musiala/fifa23/',\n",
              "  'https://www.fifaindex.com/player/256790/jamal-musiala/fifa23/',\n",
              "  'https://www.fifaindex.com/player/253124/matheus-nunes/fifa23/',\n",
              "  'https://www.fifaindex.com/player/253124/matheus-nunes/fifa23/',\n",
              "  'https://www.fifaindex.com/player/253072/darwin-n%C3%BA%C3%B1ez/fifa23/',\n",
              "  'https://www.fifaindex.com/player/253072/darwin-n%C3%BA%C3%B1ez/fifa23/',\n",
              "  'https://www.fifaindex.com/player/253004/ansu-fati/fifa23/',\n",
              "  'https://www.fifaindex.com/player/253004/ansu-fati/fifa23/',\n",
              "  'https://www.fifaindex.com/player/251809/sven-botman/fifa23/',\n",
              "  'https://www.fifaindex.com/player/251809/sven-botman/fifa23/',\n",
              "  'https://www.fifaindex.com/player/251805/jurri%C3%ABn-timber/fifa23/',\n",
              "  'https://www.fifaindex.com/player/251805/jurri%C3%ABn-timber/fifa23/',\n",
              "  'https://www.fifaindex.com/player/251517/jo%C5%A1ko-gvardiol/fifa23/',\n",
              "  'https://www.fifaindex.com/player/251517/jo%C5%A1ko-gvardiol/fifa23/',\n",
              "  'https://www.fifaindex.com/player/248243/eduardo-camavinga/fifa23/',\n",
              "  'https://www.fifaindex.com/player/248243/eduardo-camavinga/fifa23/',\n",
              "  'https://www.fifaindex.com/player/246646/maxence-caqueret/fifa23/',\n",
              "  'https://www.fifaindex.com/player/246646/maxence-caqueret/fifa23/',\n",
              "  'https://www.fifaindex.com/player/245037/eric-garc%C3%ADa/fifa23/',\n",
              "  'https://www.fifaindex.com/player/245037/eric-garc%C3%ADa/fifa23/',\n",
              "  'https://www.fifaindex.com/player/244749/nayef-aguerd/fifa23/',\n",
              "  'https://www.fifaindex.com/player/244749/nayef-aguerd/fifa23/',\n",
              "  'https://www.fifaindex.com/player/244263/amir-rrahmani/fifa23/',\n",
              "  'https://www.fifaindex.com/player/244263/amir-rrahmani/fifa23/',\n",
              "  'https://www.fifaindex.com/player/244261/lovro-majer/fifa23/',\n",
              "  'https://www.fifaindex.com/player/244261/lovro-majer/fifa23/',\n",
              "  'https://www.fifaindex.com/player/243715/william-saliba/fifa23/',\n",
              "  'https://www.fifaindex.com/player/243715/william-saliba/fifa23/',\n",
              "  'https://www.fifaindex.com/player/243630/jonathan-david/fifa23/',\n",
              "  'https://www.fifaindex.com/player/243630/jonathan-david/fifa23/',\n",
              "  'https://www.fifaindex.com/player/243559/de-frutos/fifa23/',\n",
              "  'https://www.fifaindex.com/player/243559/de-frutos/fifa23/',\n",
              "  'https://www.fifaindex.com/player/241771/anthony-nwakaeme/fifa23/',\n",
              "  'https://www.fifaindex.com/player/241771/anthony-nwakaeme/fifa23/',\n",
              "  'https://www.fifaindex.com/player/241095/nikola-vla%C5%A1i%C4%87/fifa23/',\n",
              "  'https://www.fifaindex.com/player/241095/nikola-vla%C5%A1i%C4%87/fifa23/',\n",
              "  'https://www.fifaindex.com/player/240900/unai-n%C3%BA%C3%B1ez/fifa23/',\n",
              "  'https://www.fifaindex.com/player/240900/unai-n%C3%BA%C3%B1ez/fifa23/',\n",
              "  'https://www.fifaindex.com/player/240753/amine-gouiri/fifa23/',\n",
              "  'https://www.fifaindex.com/player/240753/amine-gouiri/fifa23/',\n",
              "  'https://www.fifaindex.com/player/240679/teun-koopmeiners/fifa23/',\n",
              "  'https://www.fifaindex.com/player/240679/teun-koopmeiners/fifa23/',\n",
              "  'https://www.fifaindex.com/player/240243/matheus-cunha/fifa23/',\n",
              "  'https://www.fifaindex.com/player/240243/matheus-cunha/fifa23/',\n",
              "  ...])"
            ]
          },
          "execution_count": 6,
          "metadata": {},
          "output_type": "execute_result"
        }
      ],
      "source": [
        "len(players), players"
      ]
    },
    {
      "cell_type": "code",
      "execution_count": null,
      "metadata": {
        "id": "7mQ2rur4p8q0"
      },
      "outputs": [],
      "source": [
        "players=list(set(players))"
      ]
    },
    {
      "cell_type": "code",
      "execution_count": null,
      "metadata": {
        "id": "WOQMzicDp8q1"
      },
      "outputs": [],
      "source": [
        "def to_dict(l, base):\n",
        "    d = {}\n",
        "    for i in l: \n",
        "        key = i[0:len(i)-1]\n",
        "        value = i[-1]\n",
        "        if \"\".join(key) in base:\n",
        "            d.setdefault(''.join(key), []).append(value)  \n",
        "    return d"
      ]
    },
    {
      "cell_type": "code",
      "execution_count": null,
      "metadata": {
        "id": "7Ms_yZYap8q3"
      },
      "outputs": [],
      "source": [
        "def combine_dict(d1, d2):\n",
        "    return {\n",
        "        k: tuple(d[k] for d in (d1, d2) if k in d)\n",
        "        for k in set(d1.keys()) & set(d2.keys())\n",
        "    }"
      ]
    },
    {
      "cell_type": "code",
      "execution_count": null,
      "metadata": {
        "id": "hJVdUbyfp8q5"
      },
      "outputs": [],
      "source": [
        "base_dict=dict.fromkeys([\"Marking\", \"StandTackle\", \"Wage\", \"ShotPower\",\"PreferredPositions\",\"Vision\",\"Composure\",\"SprintSpeed\",\"PreferredFoot\",\"Interceptions\",\"Position\",\"Balance\",\"Crossing\",\"Att.Position\",'GKKicking',\"ContractLength\",'Dribbling','Penalties','GKDiving','Acceleration','BallControl','Heading','GKReflexes','Strength','GKPositioning','LongPass','Reactions','ShortPass','LongShots','Volleys','Jumping','GKHandling','Aggression','Stamina','Finishing','Age','SlideTackle','Agility','FKAcc.','Value','Curve'],[])"
      ]
    },
    {
      "cell_type": "code",
      "execution_count": null,
      "metadata": {
        "id": "lVHLuvNap8q6"
      },
      "outputs": [],
      "source": [
        "soup = BeautifulSoup(requests.get(players[0], allow_redirects=False).content, 'html.parser')"
      ]
    },
    {
      "cell_type": "code",
      "execution_count": null,
      "metadata": {
        "id": "7lFmJgswp8q7",
        "outputId": "5b68b8d2-05a9-422a-e449-c3dd9544f229"
      },
      "outputs": [
        {
          "data": {
            "text/plain": [
              "['Currency',\n",
              " 'Units',\n",
              " 'Height 191 cm6\\'3\"',\n",
              " 'Weight 88 kg194 lbs',\n",
              " 'Preferred Foot Left',\n",
              " 'Birth Date March 15, 1983',\n",
              " 'Age 39',\n",
              " 'Preferred Positions ST',\n",
              " 'Player Work Rate Medium / Low',\n",
              " 'Weak Foot ',\n",
              " 'Skill Moves ',\n",
              " 'Value €80.000',\n",
              " 'Value $100.000',\n",
              " 'Value £70.000',\n",
              " 'Wage €1.500',\n",
              " 'Wage $1.800',\n",
              " 'Wage £1.300',\n",
              " 'Position Sub',\n",
              " 'Kit Number 9',\n",
              " 'Joined Club Sept. 4, 2020',\n",
              " 'Contract Length 2021',\n",
              " 'Ball Control 62',\n",
              " 'Dribbling 50',\n",
              " 'Marking 24',\n",
              " 'Slide Tackle 22',\n",
              " 'Stand Tackle 24',\n",
              " 'Aggression 70',\n",
              " 'Reactions 59',\n",
              " 'Att. Position 66',\n",
              " 'Interceptions 37',\n",
              " 'Vision 58',\n",
              " 'Composure 63',\n",
              " 'Crossing 60',\n",
              " 'Short Pass 55',\n",
              " 'Long Pass 50',\n",
              " 'Acceleration 34',\n",
              " 'Stamina 31',\n",
              " 'Strength 84',\n",
              " 'Balance 32',\n",
              " 'Sprint Speed 35',\n",
              " 'Agility 28',\n",
              " 'Jumping 66',\n",
              " 'Heading 68',\n",
              " 'Shot Power 65',\n",
              " 'Finishing 60',\n",
              " 'Long Shots 60',\n",
              " 'Curve 63',\n",
              " 'FK Acc. 52',\n",
              " 'Penalties 66',\n",
              " 'Volleys 60',\n",
              " 'GK Positioning 14',\n",
              " 'GK Diving 8',\n",
              " 'GK Handling 15',\n",
              " 'GK Kicking 6',\n",
              " 'GK Reflexes 11',\n",
              " 'Injury Prone',\n",
              " 'Power Header',\n",
              " '\\n        © www.fifaindex.com 2022 -\\n         Terms Of Service \\n        -\\n         Privacy \\n        - Cookie Policy\\n        -\\n         Business Inquiries \\n']"
            ]
          },
          "execution_count": 12,
          "metadata": {},
          "output_type": "execute_result"
        }
      ],
      "source": [
        "attr=[p.text for p in soup.select('p')]\n",
        "attr"
      ]
    },
    {
      "cell_type": "code",
      "execution_count": null,
      "metadata": {
        "id": "WHADK2X-p8q9"
      },
      "outputs": [],
      "source": [
        "attributes=[]\n",
        "for player in players:\n",
        "    soup = BeautifulSoup(requests.get(player, allow_redirects=False).content, 'html.parser')\n",
        "    attr=[p.text for p in soup.select('p')]\n",
        "    if attr!=[]:\n",
        "        attributes.append(to_dict([element.split() for element in attr], base_dict))"
      ]
    },
    {
      "cell_type": "code",
      "execution_count": null,
      "metadata": {
        "id": "4ceZ7Dacp8q_",
        "outputId": "62ac0015-329b-4c06-f57d-0051bc31cfc4"
      },
      "outputs": [
        {
          "data": {
            "text/plain": [
              "(41, 17038)"
            ]
          },
          "execution_count": 175,
          "metadata": {},
          "output_type": "execute_result"
        }
      ],
      "source": [
        "len(attributes[0]), len(attributes)"
      ]
    },
    {
      "cell_type": "code",
      "execution_count": null,
      "metadata": {
        "id": "nm5Wm9Jtp8rA",
        "outputId": "54c4d793-daed-4855-b88f-d6da27014b91"
      },
      "outputs": [
        {
          "data": {
            "text/plain": [
              "1"
            ]
          },
          "execution_count": 24,
          "metadata": {},
          "output_type": "execute_result"
        }
      ],
      "source": [
        "count=0\n",
        "for i in attributes:\n",
        "    if len(i)!=41:\n",
        "        count+=1\n",
        "count"
      ]
    },
    {
      "cell_type": "code",
      "execution_count": null,
      "metadata": {
        "id": "ssfPfNu4p8rA"
      },
      "outputs": [],
      "source": [
        "for i in attributes:\n",
        "    if len(i)!=41:\n",
        "        attributes.remove(i)"
      ]
    },
    {
      "cell_type": "code",
      "execution_count": null,
      "metadata": {
        "id": "_2xAUXFep8rB"
      },
      "outputs": [],
      "source": [
        "import collections\n",
        "attributes_combined=collections.defaultdict(list)\n",
        "for d in attributes:\n",
        "    for k, v in d.items():  # d.items() in Python 3+\n",
        "        attributes_combined[k].append(v)"
      ]
    },
    {
      "cell_type": "code",
      "execution_count": null,
      "metadata": {
        "id": "c1gziWPop8rC"
      },
      "outputs": [],
      "source": [
        "df=pd.DataFrame.from_dict(attributes_combined)"
      ]
    },
    {
      "cell_type": "code",
      "execution_count": null,
      "metadata": {
        "id": "Mn6_z82Xp8rC"
      },
      "outputs": [],
      "source": [
        "df.to_csv(r'C:\\Users\\User\\Documents\\data.csv',encoding=\"utf-8-sig\", index = False)"
      ]
    },
    {
      "cell_type": "code",
      "execution_count": null,
      "metadata": {
        "id": "_K4pbeC-p8rD",
        "outputId": "ac8e1fc9-635c-4b8b-c6e0-b8c15e68630c"
      },
      "outputs": [
        {
          "data": {
            "text/html": [
              "<div>\n",
              "<style scoped>\n",
              "    .dataframe tbody tr th:only-of-type {\n",
              "        vertical-align: middle;\n",
              "    }\n",
              "\n",
              "    .dataframe tbody tr th {\n",
              "        vertical-align: top;\n",
              "    }\n",
              "\n",
              "    .dataframe thead th {\n",
              "        text-align: right;\n",
              "    }\n",
              "</style>\n",
              "<table border=\"1\" class=\"dataframe\">\n",
              "  <thead>\n",
              "    <tr style=\"text-align: right;\">\n",
              "      <th></th>\n",
              "      <th>PreferredFoot</th>\n",
              "      <th>Age</th>\n",
              "      <th>PreferredPositions</th>\n",
              "      <th>Value</th>\n",
              "      <th>Wage</th>\n",
              "      <th>Position</th>\n",
              "      <th>ContractLength</th>\n",
              "      <th>BallControl</th>\n",
              "      <th>Dribbling</th>\n",
              "      <th>Marking</th>\n",
              "      <th>...</th>\n",
              "      <th>LongShots</th>\n",
              "      <th>Curve</th>\n",
              "      <th>FKAcc.</th>\n",
              "      <th>Penalties</th>\n",
              "      <th>Volleys</th>\n",
              "      <th>GKPositioning</th>\n",
              "      <th>GKDiving</th>\n",
              "      <th>GKHandling</th>\n",
              "      <th>GKKicking</th>\n",
              "      <th>GKReflexes</th>\n",
              "    </tr>\n",
              "  </thead>\n",
              "  <tbody>\n",
              "    <tr>\n",
              "      <th>0</th>\n",
              "      <td>[Left]</td>\n",
              "      <td>[39]</td>\n",
              "      <td>[ST]</td>\n",
              "      <td>[€80.000, $100.000, £70.000]</td>\n",
              "      <td>[€1.500, $1.800, £1.300]</td>\n",
              "      <td>[Sub]</td>\n",
              "      <td>[2021]</td>\n",
              "      <td>[62]</td>\n",
              "      <td>[50]</td>\n",
              "      <td>[24]</td>\n",
              "      <td>...</td>\n",
              "      <td>[60]</td>\n",
              "      <td>[63]</td>\n",
              "      <td>[52]</td>\n",
              "      <td>[66]</td>\n",
              "      <td>[60]</td>\n",
              "      <td>[14]</td>\n",
              "      <td>[8]</td>\n",
              "      <td>[15]</td>\n",
              "      <td>[6]</td>\n",
              "      <td>[11]</td>\n",
              "    </tr>\n",
              "    <tr>\n",
              "      <th>1</th>\n",
              "      <td>[Right]</td>\n",
              "      <td>[33]</td>\n",
              "      <td>[CB]</td>\n",
              "      <td>[€550.000, $650.000, £475.000]</td>\n",
              "      <td>[€2.400, $2.900, £2.100]</td>\n",
              "      <td>[Sub]</td>\n",
              "      <td>[2022]</td>\n",
              "      <td>[60]</td>\n",
              "      <td>[56]</td>\n",
              "      <td>[66]</td>\n",
              "      <td>...</td>\n",
              "      <td>[38]</td>\n",
              "      <td>[51]</td>\n",
              "      <td>[54]</td>\n",
              "      <td>[37]</td>\n",
              "      <td>[33]</td>\n",
              "      <td>[7]</td>\n",
              "      <td>[10]</td>\n",
              "      <td>[6]</td>\n",
              "      <td>[11]</td>\n",
              "      <td>[13]</td>\n",
              "    </tr>\n",
              "    <tr>\n",
              "      <th>2</th>\n",
              "      <td>[Right]</td>\n",
              "      <td>[26]</td>\n",
              "      <td>[CB]</td>\n",
              "      <td>[€3.800.000, $4.500.000, £3.300.000]</td>\n",
              "      <td>[€12.000, $14.500, £10.500]</td>\n",
              "      <td>[RCB]</td>\n",
              "      <td>[2026]</td>\n",
              "      <td>[71]</td>\n",
              "      <td>[64]</td>\n",
              "      <td>[74]</td>\n",
              "      <td>...</td>\n",
              "      <td>[36]</td>\n",
              "      <td>[57]</td>\n",
              "      <td>[46]</td>\n",
              "      <td>[58]</td>\n",
              "      <td>[33]</td>\n",
              "      <td>[13]</td>\n",
              "      <td>[8]</td>\n",
              "      <td>[15]</td>\n",
              "      <td>[16]</td>\n",
              "      <td>[12]</td>\n",
              "    </tr>\n",
              "    <tr>\n",
              "      <th>3</th>\n",
              "      <td>[Right]</td>\n",
              "      <td>[27]</td>\n",
              "      <td>[GK]</td>\n",
              "      <td>[€850.000, $1.000.000, £725.000]</td>\n",
              "      <td>[€4.100, $4.800, £3.500]</td>\n",
              "      <td>[Sub]</td>\n",
              "      <td>[2025]</td>\n",
              "      <td>[20]</td>\n",
              "      <td>[13]</td>\n",
              "      <td>[6]</td>\n",
              "      <td>...</td>\n",
              "      <td>[20]</td>\n",
              "      <td>[16]</td>\n",
              "      <td>[12]</td>\n",
              "      <td>[29]</td>\n",
              "      <td>[13]</td>\n",
              "      <td>[65]</td>\n",
              "      <td>[66]</td>\n",
              "      <td>[68]</td>\n",
              "      <td>[65]</td>\n",
              "      <td>[72]</td>\n",
              "    </tr>\n",
              "    <tr>\n",
              "      <th>4</th>\n",
              "      <td>[Right]</td>\n",
              "      <td>[27]</td>\n",
              "      <td>[LBRM]</td>\n",
              "      <td>[€525.000, $625.000, £450.000]</td>\n",
              "      <td>[€1.700, $2.100, £1.500]</td>\n",
              "      <td>[LB]</td>\n",
              "      <td>[2024]</td>\n",
              "      <td>[62]</td>\n",
              "      <td>[67]</td>\n",
              "      <td>[64]</td>\n",
              "      <td>...</td>\n",
              "      <td>[40]</td>\n",
              "      <td>[39]</td>\n",
              "      <td>[25]</td>\n",
              "      <td>[48]</td>\n",
              "      <td>[33]</td>\n",
              "      <td>[11]</td>\n",
              "      <td>[15]</td>\n",
              "      <td>[7]</td>\n",
              "      <td>[13]</td>\n",
              "      <td>[10]</td>\n",
              "    </tr>\n",
              "  </tbody>\n",
              "</table>\n",
              "<p>5 rows × 41 columns</p>\n",
              "</div>"
            ],
            "text/plain": [
              "  PreferredFoot   Age PreferredPositions  \\\n",
              "0        [Left]  [39]               [ST]   \n",
              "1       [Right]  [33]               [CB]   \n",
              "2       [Right]  [26]               [CB]   \n",
              "3       [Right]  [27]               [GK]   \n",
              "4       [Right]  [27]             [LBRM]   \n",
              "\n",
              "                                  Value                         Wage Position  \\\n",
              "0          [€80.000, $100.000, £70.000]     [€1.500, $1.800, £1.300]    [Sub]   \n",
              "1        [€550.000, $650.000, £475.000]     [€2.400, $2.900, £2.100]    [Sub]   \n",
              "2  [€3.800.000, $4.500.000, £3.300.000]  [€12.000, $14.500, £10.500]    [RCB]   \n",
              "3      [€850.000, $1.000.000, £725.000]     [€4.100, $4.800, £3.500]    [Sub]   \n",
              "4        [€525.000, $625.000, £450.000]     [€1.700, $2.100, £1.500]     [LB]   \n",
              "\n",
              "  ContractLength BallControl Dribbling Marking  ... LongShots Curve FKAcc.  \\\n",
              "0         [2021]        [62]      [50]    [24]  ...      [60]  [63]   [52]   \n",
              "1         [2022]        [60]      [56]    [66]  ...      [38]  [51]   [54]   \n",
              "2         [2026]        [71]      [64]    [74]  ...      [36]  [57]   [46]   \n",
              "3         [2025]        [20]      [13]     [6]  ...      [20]  [16]   [12]   \n",
              "4         [2024]        [62]      [67]    [64]  ...      [40]  [39]   [25]   \n",
              "\n",
              "  Penalties Volleys GKPositioning GKDiving GKHandling GKKicking GKReflexes  \n",
              "0      [66]    [60]          [14]      [8]       [15]       [6]       [11]  \n",
              "1      [37]    [33]           [7]     [10]        [6]      [11]       [13]  \n",
              "2      [58]    [33]          [13]      [8]       [15]      [16]       [12]  \n",
              "3      [29]    [13]          [65]     [66]       [68]      [65]       [72]  \n",
              "4      [48]    [33]          [11]     [15]        [7]      [13]       [10]  \n",
              "\n",
              "[5 rows x 41 columns]"
            ]
          },
          "execution_count": 28,
          "metadata": {},
          "output_type": "execute_result"
        }
      ],
      "source": [
        "df.head()"
      ]
    },
    {
      "cell_type": "code",
      "execution_count": null,
      "metadata": {
        "id": "F6QLUXasp8rE",
        "outputId": "23f82261-85e8-4566-c0d0-02d8f3fa3310"
      },
      "outputs": [
        {
          "name": "stdout",
          "output_type": "stream",
          "text": [
            "<class 'pandas.core.frame.DataFrame'>\n",
            "RangeIndex: 17038 entries, 0 to 17037\n",
            "Data columns (total 41 columns):\n",
            " #   Column              Non-Null Count  Dtype \n",
            "---  ------              --------------  ----- \n",
            " 0   PreferredFoot       17038 non-null  object\n",
            " 1   Age                 17038 non-null  object\n",
            " 2   PreferredPositions  17038 non-null  object\n",
            " 3   Value               17038 non-null  object\n",
            " 4   Wage                17038 non-null  object\n",
            " 5   Position            17038 non-null  object\n",
            " 6   ContractLength      17038 non-null  object\n",
            " 7   BallControl         17038 non-null  object\n",
            " 8   Dribbling           17038 non-null  object\n",
            " 9   Marking             17038 non-null  object\n",
            " 10  SlideTackle         17038 non-null  object\n",
            " 11  StandTackle         17038 non-null  object\n",
            " 12  Aggression          17038 non-null  object\n",
            " 13  Reactions           17038 non-null  object\n",
            " 14  Att.Position        17038 non-null  object\n",
            " 15  Interceptions       17038 non-null  object\n",
            " 16  Vision              17038 non-null  object\n",
            " 17  Composure           17038 non-null  object\n",
            " 18  Crossing            17038 non-null  object\n",
            " 19  ShortPass           17038 non-null  object\n",
            " 20  LongPass            17038 non-null  object\n",
            " 21  Acceleration        17038 non-null  object\n",
            " 22  Stamina             17038 non-null  object\n",
            " 23  Strength            17038 non-null  object\n",
            " 24  Balance             17038 non-null  object\n",
            " 25  SprintSpeed         17038 non-null  object\n",
            " 26  Agility             17038 non-null  object\n",
            " 27  Jumping             17038 non-null  object\n",
            " 28  Heading             17038 non-null  object\n",
            " 29  ShotPower           17038 non-null  object\n",
            " 30  Finishing           17038 non-null  object\n",
            " 31  LongShots           17038 non-null  object\n",
            " 32  Curve               17038 non-null  object\n",
            " 33  FKAcc.              17038 non-null  object\n",
            " 34  Penalties           17038 non-null  object\n",
            " 35  Volleys             17038 non-null  object\n",
            " 36  GKPositioning       17038 non-null  object\n",
            " 37  GKDiving            17038 non-null  object\n",
            " 38  GKHandling          17038 non-null  object\n",
            " 39  GKKicking           17038 non-null  object\n",
            " 40  GKReflexes          17038 non-null  object\n",
            "dtypes: object(41)\n",
            "memory usage: 5.3+ MB\n"
          ]
        }
      ],
      "source": [
        "df.info()"
      ]
    },
    {
      "cell_type": "markdown",
      "source": [
        "Converting data"
      ],
      "metadata": {
        "id": "dsvy_n-lr7DQ"
      }
    },
    {
      "cell_type": "code",
      "execution_count": null,
      "metadata": {
        "id": "N7lV3Sz6p8rG"
      },
      "outputs": [],
      "source": [
        "def column_converter(column):\n",
        "    empty=[]\n",
        "    for position in column:\n",
        "        for element in position:\n",
        "            empty.append(int(element))\n",
        "    column=empty\n",
        "    return column"
      ]
    },
    {
      "cell_type": "code",
      "execution_count": null,
      "metadata": {
        "id": "edcAkRDqp8rH"
      },
      "outputs": [],
      "source": [
        "def column3_converter(column):\n",
        "    empty=[]\n",
        "    for position in column:\n",
        "        for value in position:\n",
        "            if \"$\" in value:\n",
        "                empty.append(value)\n",
        "    return empty"
      ]
    },
    {
      "cell_type": "code",
      "execution_count": null,
      "metadata": {
        "id": "TZf7g42Np8rI"
      },
      "outputs": [],
      "source": [
        "columns=[column for column in df]\n",
        "columns.remove(\"Wage\")\n",
        "columns.remove(\"Value\")\n",
        "columns.remove(\"Position\")\n",
        "columns.remove('PreferredFoot')\n",
        "columns.remove('PreferredPositions')"
      ]
    },
    {
      "cell_type": "code",
      "execution_count": null,
      "metadata": {
        "id": "T78SPF8-p8rJ",
        "outputId": "37229d94-2d12-470f-e905-00e9f21f9b15"
      },
      "outputs": [
        {
          "data": {
            "text/plain": [
              "['Age',\n",
              " 'ContractLength',\n",
              " 'BallControl',\n",
              " 'Dribbling',\n",
              " 'Marking',\n",
              " 'SlideTackle',\n",
              " 'StandTackle',\n",
              " 'Aggression',\n",
              " 'Reactions',\n",
              " 'Att.Position',\n",
              " 'Interceptions',\n",
              " 'Vision',\n",
              " 'Composure',\n",
              " 'Crossing',\n",
              " 'ShortPass',\n",
              " 'LongPass',\n",
              " 'Acceleration',\n",
              " 'Stamina',\n",
              " 'Strength',\n",
              " 'Balance',\n",
              " 'SprintSpeed',\n",
              " 'Agility',\n",
              " 'Jumping',\n",
              " 'Heading',\n",
              " 'ShotPower',\n",
              " 'Finishing',\n",
              " 'LongShots',\n",
              " 'Curve',\n",
              " 'FKAcc.',\n",
              " 'Penalties',\n",
              " 'Volleys',\n",
              " 'GKPositioning',\n",
              " 'GKDiving',\n",
              " 'GKHandling',\n",
              " 'GKKicking',\n",
              " 'GKReflexes']"
            ]
          },
          "execution_count": 34,
          "metadata": {},
          "output_type": "execute_result"
        }
      ],
      "source": [
        "columns"
      ]
    },
    {
      "cell_type": "code",
      "execution_count": null,
      "metadata": {
        "id": "5yJsH4mKp8rJ"
      },
      "outputs": [],
      "source": [
        "for column in columns:\n",
        "    df[column]=column_converter(df[column])"
      ]
    },
    {
      "cell_type": "code",
      "execution_count": null,
      "metadata": {
        "id": "8mz1YpRhp8rK",
        "outputId": "d0bdc781-ba0d-4312-922f-d6d8fada1521"
      },
      "outputs": [
        {
          "data": {
            "text/html": [
              "<div>\n",
              "<style scoped>\n",
              "    .dataframe tbody tr th:only-of-type {\n",
              "        vertical-align: middle;\n",
              "    }\n",
              "\n",
              "    .dataframe tbody tr th {\n",
              "        vertical-align: top;\n",
              "    }\n",
              "\n",
              "    .dataframe thead th {\n",
              "        text-align: right;\n",
              "    }\n",
              "</style>\n",
              "<table border=\"1\" class=\"dataframe\">\n",
              "  <thead>\n",
              "    <tr style=\"text-align: right;\">\n",
              "      <th></th>\n",
              "      <th>PreferredFoot</th>\n",
              "      <th>Age</th>\n",
              "      <th>PreferredPositions</th>\n",
              "      <th>Value</th>\n",
              "      <th>Wage</th>\n",
              "      <th>Position</th>\n",
              "      <th>ContractLength</th>\n",
              "      <th>BallControl</th>\n",
              "      <th>Dribbling</th>\n",
              "      <th>Marking</th>\n",
              "      <th>...</th>\n",
              "      <th>LongShots</th>\n",
              "      <th>Curve</th>\n",
              "      <th>FKAcc.</th>\n",
              "      <th>Penalties</th>\n",
              "      <th>Volleys</th>\n",
              "      <th>GKPositioning</th>\n",
              "      <th>GKDiving</th>\n",
              "      <th>GKHandling</th>\n",
              "      <th>GKKicking</th>\n",
              "      <th>GKReflexes</th>\n",
              "    </tr>\n",
              "  </thead>\n",
              "  <tbody>\n",
              "    <tr>\n",
              "      <th>0</th>\n",
              "      <td>[Left]</td>\n",
              "      <td>39</td>\n",
              "      <td>[ST]</td>\n",
              "      <td>100000</td>\n",
              "      <td>1800</td>\n",
              "      <td>[Sub]</td>\n",
              "      <td>2021</td>\n",
              "      <td>62</td>\n",
              "      <td>50</td>\n",
              "      <td>24</td>\n",
              "      <td>...</td>\n",
              "      <td>60</td>\n",
              "      <td>63</td>\n",
              "      <td>52</td>\n",
              "      <td>66</td>\n",
              "      <td>60</td>\n",
              "      <td>14</td>\n",
              "      <td>8</td>\n",
              "      <td>15</td>\n",
              "      <td>6</td>\n",
              "      <td>11</td>\n",
              "    </tr>\n",
              "    <tr>\n",
              "      <th>1</th>\n",
              "      <td>[Right]</td>\n",
              "      <td>33</td>\n",
              "      <td>[CB]</td>\n",
              "      <td>650000</td>\n",
              "      <td>2900</td>\n",
              "      <td>[Sub]</td>\n",
              "      <td>2022</td>\n",
              "      <td>60</td>\n",
              "      <td>56</td>\n",
              "      <td>66</td>\n",
              "      <td>...</td>\n",
              "      <td>38</td>\n",
              "      <td>51</td>\n",
              "      <td>54</td>\n",
              "      <td>37</td>\n",
              "      <td>33</td>\n",
              "      <td>7</td>\n",
              "      <td>10</td>\n",
              "      <td>6</td>\n",
              "      <td>11</td>\n",
              "      <td>13</td>\n",
              "    </tr>\n",
              "    <tr>\n",
              "      <th>2</th>\n",
              "      <td>[Right]</td>\n",
              "      <td>26</td>\n",
              "      <td>[CB]</td>\n",
              "      <td>4500000</td>\n",
              "      <td>14500</td>\n",
              "      <td>[RCB]</td>\n",
              "      <td>2026</td>\n",
              "      <td>71</td>\n",
              "      <td>64</td>\n",
              "      <td>74</td>\n",
              "      <td>...</td>\n",
              "      <td>36</td>\n",
              "      <td>57</td>\n",
              "      <td>46</td>\n",
              "      <td>58</td>\n",
              "      <td>33</td>\n",
              "      <td>13</td>\n",
              "      <td>8</td>\n",
              "      <td>15</td>\n",
              "      <td>16</td>\n",
              "      <td>12</td>\n",
              "    </tr>\n",
              "    <tr>\n",
              "      <th>3</th>\n",
              "      <td>[Right]</td>\n",
              "      <td>27</td>\n",
              "      <td>[GK]</td>\n",
              "      <td>1000000</td>\n",
              "      <td>4800</td>\n",
              "      <td>[Sub]</td>\n",
              "      <td>2025</td>\n",
              "      <td>20</td>\n",
              "      <td>13</td>\n",
              "      <td>6</td>\n",
              "      <td>...</td>\n",
              "      <td>20</td>\n",
              "      <td>16</td>\n",
              "      <td>12</td>\n",
              "      <td>29</td>\n",
              "      <td>13</td>\n",
              "      <td>65</td>\n",
              "      <td>66</td>\n",
              "      <td>68</td>\n",
              "      <td>65</td>\n",
              "      <td>72</td>\n",
              "    </tr>\n",
              "    <tr>\n",
              "      <th>4</th>\n",
              "      <td>[Right]</td>\n",
              "      <td>27</td>\n",
              "      <td>[LBRM]</td>\n",
              "      <td>625000</td>\n",
              "      <td>2100</td>\n",
              "      <td>[LB]</td>\n",
              "      <td>2024</td>\n",
              "      <td>62</td>\n",
              "      <td>67</td>\n",
              "      <td>64</td>\n",
              "      <td>...</td>\n",
              "      <td>40</td>\n",
              "      <td>39</td>\n",
              "      <td>25</td>\n",
              "      <td>48</td>\n",
              "      <td>33</td>\n",
              "      <td>11</td>\n",
              "      <td>15</td>\n",
              "      <td>7</td>\n",
              "      <td>13</td>\n",
              "      <td>10</td>\n",
              "    </tr>\n",
              "    <tr>\n",
              "      <th>...</th>\n",
              "      <td>...</td>\n",
              "      <td>...</td>\n",
              "      <td>...</td>\n",
              "      <td>...</td>\n",
              "      <td>...</td>\n",
              "      <td>...</td>\n",
              "      <td>...</td>\n",
              "      <td>...</td>\n",
              "      <td>...</td>\n",
              "      <td>...</td>\n",
              "      <td>...</td>\n",
              "      <td>...</td>\n",
              "      <td>...</td>\n",
              "      <td>...</td>\n",
              "      <td>...</td>\n",
              "      <td>...</td>\n",
              "      <td>...</td>\n",
              "      <td>...</td>\n",
              "      <td>...</td>\n",
              "      <td>...</td>\n",
              "      <td>...</td>\n",
              "    </tr>\n",
              "    <tr>\n",
              "      <th>17033</th>\n",
              "      <td>[Right]</td>\n",
              "      <td>35</td>\n",
              "      <td>[STCAM]</td>\n",
              "      <td>675000</td>\n",
              "      <td>5900</td>\n",
              "      <td>[CAM]</td>\n",
              "      <td>2023</td>\n",
              "      <td>69</td>\n",
              "      <td>66</td>\n",
              "      <td>51</td>\n",
              "      <td>...</td>\n",
              "      <td>67</td>\n",
              "      <td>52</td>\n",
              "      <td>57</td>\n",
              "      <td>68</td>\n",
              "      <td>71</td>\n",
              "      <td>8</td>\n",
              "      <td>6</td>\n",
              "      <td>15</td>\n",
              "      <td>12</td>\n",
              "      <td>14</td>\n",
              "    </tr>\n",
              "    <tr>\n",
              "      <th>17034</th>\n",
              "      <td>[Left]</td>\n",
              "      <td>25</td>\n",
              "      <td>[LB]</td>\n",
              "      <td>9000000</td>\n",
              "      <td>12000</td>\n",
              "      <td>[LB]</td>\n",
              "      <td>2025</td>\n",
              "      <td>63</td>\n",
              "      <td>60</td>\n",
              "      <td>74</td>\n",
              "      <td>...</td>\n",
              "      <td>29</td>\n",
              "      <td>47</td>\n",
              "      <td>29</td>\n",
              "      <td>42</td>\n",
              "      <td>32</td>\n",
              "      <td>9</td>\n",
              "      <td>13</td>\n",
              "      <td>9</td>\n",
              "      <td>7</td>\n",
              "      <td>9</td>\n",
              "    </tr>\n",
              "    <tr>\n",
              "      <th>17035</th>\n",
              "      <td>[Right]</td>\n",
              "      <td>36</td>\n",
              "      <td>[GK]</td>\n",
              "      <td>210000</td>\n",
              "      <td>2900</td>\n",
              "      <td>[GK]</td>\n",
              "      <td>2022</td>\n",
              "      <td>29</td>\n",
              "      <td>17</td>\n",
              "      <td>15</td>\n",
              "      <td>...</td>\n",
              "      <td>18</td>\n",
              "      <td>15</td>\n",
              "      <td>19</td>\n",
              "      <td>19</td>\n",
              "      <td>13</td>\n",
              "      <td>74</td>\n",
              "      <td>70</td>\n",
              "      <td>68</td>\n",
              "      <td>65</td>\n",
              "      <td>70</td>\n",
              "    </tr>\n",
              "    <tr>\n",
              "      <th>17036</th>\n",
              "      <td>[Right]</td>\n",
              "      <td>25</td>\n",
              "      <td>[CMCAM]</td>\n",
              "      <td>2500000</td>\n",
              "      <td>24000</td>\n",
              "      <td>[Sub]</td>\n",
              "      <td>2023</td>\n",
              "      <td>75</td>\n",
              "      <td>75</td>\n",
              "      <td>58</td>\n",
              "      <td>...</td>\n",
              "      <td>61</td>\n",
              "      <td>59</td>\n",
              "      <td>54</td>\n",
              "      <td>58</td>\n",
              "      <td>57</td>\n",
              "      <td>9</td>\n",
              "      <td>6</td>\n",
              "      <td>13</td>\n",
              "      <td>12</td>\n",
              "      <td>10</td>\n",
              "    </tr>\n",
              "    <tr>\n",
              "      <th>17037</th>\n",
              "      <td>[Right]</td>\n",
              "      <td>18</td>\n",
              "      <td>[CAMCM]</td>\n",
              "      <td>3600000</td>\n",
              "      <td>3000</td>\n",
              "      <td>[Sub]</td>\n",
              "      <td>2026</td>\n",
              "      <td>73</td>\n",
              "      <td>74</td>\n",
              "      <td>57</td>\n",
              "      <td>...</td>\n",
              "      <td>56</td>\n",
              "      <td>65</td>\n",
              "      <td>41</td>\n",
              "      <td>40</td>\n",
              "      <td>54</td>\n",
              "      <td>10</td>\n",
              "      <td>8</td>\n",
              "      <td>14</td>\n",
              "      <td>8</td>\n",
              "      <td>6</td>\n",
              "    </tr>\n",
              "  </tbody>\n",
              "</table>\n",
              "<p>17038 rows × 41 columns</p>\n",
              "</div>"
            ],
            "text/plain": [
              "      PreferredFoot  Age PreferredPositions    Value   Wage Position  \\\n",
              "0            [Left]   39               [ST]   100000   1800    [Sub]   \n",
              "1           [Right]   33               [CB]   650000   2900    [Sub]   \n",
              "2           [Right]   26               [CB]  4500000  14500    [RCB]   \n",
              "3           [Right]   27               [GK]  1000000   4800    [Sub]   \n",
              "4           [Right]   27             [LBRM]   625000   2100     [LB]   \n",
              "...             ...  ...                ...      ...    ...      ...   \n",
              "17033       [Right]   35            [STCAM]   675000   5900    [CAM]   \n",
              "17034        [Left]   25               [LB]  9000000  12000     [LB]   \n",
              "17035       [Right]   36               [GK]   210000   2900     [GK]   \n",
              "17036       [Right]   25            [CMCAM]  2500000  24000    [Sub]   \n",
              "17037       [Right]   18            [CAMCM]  3600000   3000    [Sub]   \n",
              "\n",
              "       ContractLength  BallControl  Dribbling  Marking  ...  LongShots  Curve  \\\n",
              "0                2021           62         50       24  ...         60     63   \n",
              "1                2022           60         56       66  ...         38     51   \n",
              "2                2026           71         64       74  ...         36     57   \n",
              "3                2025           20         13        6  ...         20     16   \n",
              "4                2024           62         67       64  ...         40     39   \n",
              "...               ...          ...        ...      ...  ...        ...    ...   \n",
              "17033            2023           69         66       51  ...         67     52   \n",
              "17034            2025           63         60       74  ...         29     47   \n",
              "17035            2022           29         17       15  ...         18     15   \n",
              "17036            2023           75         75       58  ...         61     59   \n",
              "17037            2026           73         74       57  ...         56     65   \n",
              "\n",
              "       FKAcc.  Penalties  Volleys  GKPositioning  GKDiving  GKHandling  \\\n",
              "0          52         66       60             14         8          15   \n",
              "1          54         37       33              7        10           6   \n",
              "2          46         58       33             13         8          15   \n",
              "3          12         29       13             65        66          68   \n",
              "4          25         48       33             11        15           7   \n",
              "...       ...        ...      ...            ...       ...         ...   \n",
              "17033      57         68       71              8         6          15   \n",
              "17034      29         42       32              9        13           9   \n",
              "17035      19         19       13             74        70          68   \n",
              "17036      54         58       57              9         6          13   \n",
              "17037      41         40       54             10         8          14   \n",
              "\n",
              "       GKKicking  GKReflexes  \n",
              "0              6          11  \n",
              "1             11          13  \n",
              "2             16          12  \n",
              "3             65          72  \n",
              "4             13          10  \n",
              "...          ...         ...  \n",
              "17033         12          14  \n",
              "17034          7           9  \n",
              "17035         65          70  \n",
              "17036         12          10  \n",
              "17037          8           6  \n",
              "\n",
              "[17038 rows x 41 columns]"
            ]
          },
          "execution_count": 36,
          "metadata": {},
          "output_type": "execute_result"
        }
      ],
      "source": [
        "df[\"Value\"] = column3_converter(df[\"Value\"])\n",
        "df[\"Value\"] = df[\"Value\"].replace(\"[$.]\", \"\", regex=True).astype(int)\n",
        "df[\"Wage\"] = column3_converter(df[\"Wage\"])\n",
        "df[\"Wage\"] = df[\"Wage\"].replace(\"[$.]\", \"\", regex=True).astype(int)\n",
        "df"
      ]
    },
    {
      "cell_type": "code",
      "execution_count": null,
      "metadata": {
        "id": "xuW0_PEPp8rL",
        "outputId": "d764a061-36b5-4960-aac0-4bf4aba0f526"
      },
      "outputs": [
        {
          "name": "stdout",
          "output_type": "stream",
          "text": [
            "<class 'pandas.core.frame.DataFrame'>\n",
            "RangeIndex: 17038 entries, 0 to 17037\n",
            "Data columns (total 41 columns):\n",
            " #   Column              Non-Null Count  Dtype \n",
            "---  ------              --------------  ----- \n",
            " 0   PreferredFoot       17038 non-null  object\n",
            " 1   Age                 17038 non-null  int64 \n",
            " 2   PreferredPositions  17038 non-null  object\n",
            " 3   Value               17038 non-null  int32 \n",
            " 4   Wage                17038 non-null  int32 \n",
            " 5   Position            17038 non-null  object\n",
            " 6   ContractLength      17038 non-null  int64 \n",
            " 7   BallControl         17038 non-null  int64 \n",
            " 8   Dribbling           17038 non-null  int64 \n",
            " 9   Marking             17038 non-null  int64 \n",
            " 10  SlideTackle         17038 non-null  int64 \n",
            " 11  StandTackle         17038 non-null  int64 \n",
            " 12  Aggression          17038 non-null  int64 \n",
            " 13  Reactions           17038 non-null  int64 \n",
            " 14  Att.Position        17038 non-null  int64 \n",
            " 15  Interceptions       17038 non-null  int64 \n",
            " 16  Vision              17038 non-null  int64 \n",
            " 17  Composure           17038 non-null  int64 \n",
            " 18  Crossing            17038 non-null  int64 \n",
            " 19  ShortPass           17038 non-null  int64 \n",
            " 20  LongPass            17038 non-null  int64 \n",
            " 21  Acceleration        17038 non-null  int64 \n",
            " 22  Stamina             17038 non-null  int64 \n",
            " 23  Strength            17038 non-null  int64 \n",
            " 24  Balance             17038 non-null  int64 \n",
            " 25  SprintSpeed         17038 non-null  int64 \n",
            " 26  Agility             17038 non-null  int64 \n",
            " 27  Jumping             17038 non-null  int64 \n",
            " 28  Heading             17038 non-null  int64 \n",
            " 29  ShotPower           17038 non-null  int64 \n",
            " 30  Finishing           17038 non-null  int64 \n",
            " 31  LongShots           17038 non-null  int64 \n",
            " 32  Curve               17038 non-null  int64 \n",
            " 33  FKAcc.              17038 non-null  int64 \n",
            " 34  Penalties           17038 non-null  int64 \n",
            " 35  Volleys             17038 non-null  int64 \n",
            " 36  GKPositioning       17038 non-null  int64 \n",
            " 37  GKDiving            17038 non-null  int64 \n",
            " 38  GKHandling          17038 non-null  int64 \n",
            " 39  GKKicking           17038 non-null  int64 \n",
            " 40  GKReflexes          17038 non-null  int64 \n",
            "dtypes: int32(2), int64(36), object(3)\n",
            "memory usage: 5.2+ MB\n"
          ]
        }
      ],
      "source": [
        "df.info()"
      ]
    },
    {
      "cell_type": "code",
      "execution_count": null,
      "metadata": {
        "id": "AQwHGk37p8rL",
        "outputId": "f6282d4e-4fd7-45be-fdcf-0d6704097c89"
      },
      "outputs": [
        {
          "data": {
            "text/plain": [
              "array([list(['CAM']), list(['CAMCDM']), list(['CAMCDMCM']),\n",
              "       list(['CAMCDMLM']), list(['CAMCDMST']), list(['CAMCF']),\n",
              "       list(['CAMCFCM']), list(['CAMCFLM']), list(['CAMCFLW']),\n",
              "       list(['CAMCFRM']), list(['CAMCFRW']), list(['CAMCFST']),\n",
              "       list(['CAMCM']), list(['CAMCMCDM']), list(['CAMCMCF']),\n",
              "       list(['CAMCMLM']), list(['CAMCMLW']), list(['CAMCMRM']),\n",
              "       list(['CAMCMRW']), list(['CAMCMRWB']), list(['CAMCMST']),\n",
              "       list(['CAMLM']), list(['CAMLMCF']), list(['CAMLMCM']),\n",
              "       list(['CAMLMLW']), list(['CAMLMRM']), list(['CAMLMST']),\n",
              "       list(['CAMLW']), list(['CAMLWCF']), list(['CAMLWCM']),\n",
              "       list(['CAMLWLM']), list(['CAMLWLWB']), list(['CAMLWRW']),\n",
              "       list(['CAMLWST']), list(['CAMRB']), list(['CAMRM']),\n",
              "       list(['CAMRMCF']), list(['CAMRMCM']), list(['CAMRMLB']),\n",
              "       list(['CAMRMLM']), list(['CAMRMLW']), list(['CAMRMRB']),\n",
              "       list(['CAMRMRW']), list(['CAMRMST']), list(['CAMRW']),\n",
              "       list(['CAMRWCF']), list(['CAMRWCM']), list(['CAMRWLW']),\n",
              "       list(['CAMRWRM']), list(['CAMRWST']), list(['CAMST']),\n",
              "       list(['CAMSTCF']), list(['CAMSTCM']), list(['CAMSTLM']),\n",
              "       list(['CAMSTLW']), list(['CAMSTRM']), list(['CAMSTRW']),\n",
              "       list(['CB']), list(['CBCDM']), list(['CBCDMCM']),\n",
              "       list(['CBCDMLB']), list(['CBCDMRB']), list(['CBCDMRM']),\n",
              "       list(['CBCDMRWB']), list(['CBCM']), list(['CBCMCDM']),\n",
              "       list(['CBCMRB']), list(['CBCMST']), list(['CBLB']),\n",
              "       list(['CBLBCDM']), list(['CBLBLM']), list(['CBLBLWB']),\n",
              "       list(['CBLBRB']), list(['CBLM']), list(['CBLMRM']),\n",
              "       list(['CBLWB']), list(['CBLWBCM']), list(['CBLWBLB']),\n",
              "       list(['CBRB']), list(['CBRBCDM']), list(['CBRBCM']),\n",
              "       list(['CBRBLB']), list(['CBRBLM']), list(['CBRBRM']),\n",
              "       list(['CBRBRWB']), list(['CBRMRB']), list(['CBRMRWB']),\n",
              "       list(['CBRWB']), list(['CBRWBLWB']), list(['CBRWBRB']),\n",
              "       list(['CBRWBRM']), list(['CBST']), list(['CDM']), list(['CDMCAM']),\n",
              "       list(['CDMCAMCB']), list(['CDMCAMCF']), list(['CDMCAMCM']),\n",
              "       list(['CDMCAMLM']), list(['CDMCB']), list(['CDMCBCM']),\n",
              "       list(['CDMCBLB']), list(['CDMCBRB']), list(['CDMCM']),\n",
              "       list(['CDMCMCAM']), list(['CDMCMCB']), list(['CDMCMLB']),\n",
              "       list(['CDMCMLM']), list(['CDMCMLWB']), list(['CDMCMRB']),\n",
              "       list(['CDMCMRM']), list(['CDMCMRW']), list(['CDMCMRWB']),\n",
              "       list(['CDMCMST']), list(['CDMLB']), list(['CDMLBCB']),\n",
              "       list(['CDMLBCM']), list(['CDMLBLM']), list(['CDMLBRB']),\n",
              "       list(['CDMLM']), list(['CDMLMCM']), list(['CDMLWB']),\n",
              "       list(['CDMRB']), list(['CDMRBCAM']), list(['CDMRBCB']),\n",
              "       list(['CDMRBCM']), list(['CDMRBLB']), list(['CDMRBRM']),\n",
              "       list(['CDMRBRWB']), list(['CDMRM']), list(['CDMRMCM']),\n",
              "       list(['CDMRWB']), list(['CDMRWCM']), list(['CF']), list(['CFCAM']),\n",
              "       list(['CFCAMCM']), list(['CFCAMLM']), list(['CFCAMLW']),\n",
              "       list(['CFCAMRM']), list(['CFCAMRW']), list(['CFCAMST']),\n",
              "       list(['CFCM']), list(['CFCMCDM']), list(['CFCMST']),\n",
              "       list(['CFLM']), list(['CFLMCAM']), list(['CFLMCM']),\n",
              "       list(['CFLMST']), list(['CFLW']), list(['CFLWRW']),\n",
              "       list(['CFLWST']), list(['CFRM']), list(['CFRMCAM']),\n",
              "       list(['CFRMLM']), list(['CFRMRW']), list(['CFRMST']),\n",
              "       list(['CFRW']), list(['CFRWLW']), list(['CFRWRM']),\n",
              "       list(['CFRWST']), list(['CFST']), list(['CFSTCAM']),\n",
              "       list(['CFSTLM']), list(['CFSTLW']), list(['CFSTRW']), list(['CM']),\n",
              "       list(['CMCAM']), list(['CMCAMCDM']), list(['CMCAMCF']),\n",
              "       list(['CMCAMLM']), list(['CMCAMLW']), list(['CMCAMRM']),\n",
              "       list(['CMCAMRW']), list(['CMCAMST']), list(['CMCB']),\n",
              "       list(['CMCBCDM']), list(['CMCDM']), list(['CMCDMCAM']),\n",
              "       list(['CMCDMCB']), list(['CMCDMCF']), list(['CMCDMLB']),\n",
              "       list(['CMCDMLM']), list(['CMCDMLW']), list(['CMCDMLWB']),\n",
              "       list(['CMCDMRB']), list(['CMCDMRM']), list(['CMCDMRW']),\n",
              "       list(['CMCDMST']), list(['CMCF']), list(['CMCFCAM']),\n",
              "       list(['CMCFST']), list(['CMLB']), list(['CMLBRB']),\n",
              "       list(['CMLBRM']), list(['CMLM']), list(['CMLMCAM']),\n",
              "       list(['CMLMCDM']), list(['CMLMCF']), list(['CMLMLB']),\n",
              "       list(['CMLMLW']), list(['CMLMRM']), list(['CMLMST']),\n",
              "       list(['CMLW']), list(['CMLWB']), list(['CMLWBCB']),\n",
              "       list(['CMLWBLB']), list(['CMLWCAM']), list(['CMLWLM']),\n",
              "       list(['CMLWRW']), list(['CMLWST']), list(['CMRB']),\n",
              "       list(['CMRBLB']), list(['CMRM']), list(['CMRMCAM']),\n",
              "       list(['CMRMCDM']), list(['CMRMCF']), list(['CMRMLM']),\n",
              "       list(['CMRMLWB']), list(['CMRMRB']), list(['CMRMRW']),\n",
              "       list(['CMRMST']), list(['CMRW']), list(['CMRWB']),\n",
              "       list(['CMRWBCDM']), list(['CMRWBLW']), list(['CMRWCAM']),\n",
              "       list(['CMRWCDM']), list(['CMRWRM']), list(['CMRWRWB']),\n",
              "       list(['CMST']), list(['CMSTCAM']), list(['CMSTCDM']),\n",
              "       list(['CMSTCF']), list(['CMSTLM']), list(['GK']), list(['LB']),\n",
              "       list(['LBCAMLM']), list(['LBCB']), list(['LBCBCDM']),\n",
              "       list(['LBCBLM']), list(['LBCBLWB']), list(['LBCBRB']),\n",
              "       list(['LBCBRW']), list(['LBCDM']), list(['LBCDMCB']),\n",
              "       list(['LBCDMCM']), list(['LBCDMLM']), list(['LBCM']),\n",
              "       list(['LBCMCAM']), list(['LBCMCDM']), list(['LBCMLM']),\n",
              "       list(['LBCMST']), list(['LBLM']), list(['LBLMCAM']),\n",
              "       list(['LBLMCB']), list(['LBLMCDM']), list(['LBLMCM']),\n",
              "       list(['LBLMLW']), list(['LBLMLWB']), list(['LBLMRB']),\n",
              "       list(['LBLMRM']), list(['LBLMST']), list(['LBLW']),\n",
              "       list(['LBLWB']), list(['LBLWBCB']), list(['LBLWBCM']),\n",
              "       list(['LBLWBLM']), list(['LBLWBLW']), list(['LBLWBRM']),\n",
              "       list(['LBLWCM']), list(['LBLWLM']), list(['LBLWLWB']),\n",
              "       list(['LBLWRW']), list(['LBLWST']), list(['LBRB']),\n",
              "       list(['LBRBCB']), list(['LBRBCDM']), list(['LBRBCM']),\n",
              "       list(['LBRBLM']), list(['LBRBRM']), list(['LBRBRWB']),\n",
              "       list(['LBRM']), list(['LBRMLM']), list(['LBRMRB']),\n",
              "       list(['LBRMRWB']), list(['LBRWB']), list(['LBRWBLM']),\n",
              "       list(['LBRWRM']), list(['LBSTCAM']), list(['LM']), list(['LMCAM']),\n",
              "       list(['LMCAMCF']), list(['LMCAMCM']), list(['LMCAMLB']),\n",
              "       list(['LMCAMLW']), list(['LMCAMLWB']), list(['LMCAMRM']),\n",
              "       list(['LMCAMRW']), list(['LMCAMST']), list(['LMCB']),\n",
              "       list(['LMCF']), list(['LMCFCAM']), list(['LMCFCM']),\n",
              "       list(['LMCFLB']), list(['LMCFRM']), list(['LMCFST']),\n",
              "       list(['LMCM']), list(['LMCMCAM']), list(['LMCMCDM']),\n",
              "       list(['LMCMCF']), list(['LMCMLB']), list(['LMCMLWB']),\n",
              "       list(['LMCMRM']), list(['LMCMRW']), list(['LMLB']),\n",
              "       list(['LMLBCAM']), list(['LMLBCB']), list(['LMLBCM']),\n",
              "       list(['LMLBLW']), list(['LMLBLWB']), list(['LMLBRB']),\n",
              "       list(['LMLBRM']), list(['LMLW']), list(['LMLWB']),\n",
              "       list(['LMLWBCDM']), list(['LMLWBCM']), list(['LMLWBLB']),\n",
              "       list(['LMLWBLW']), list(['LMLWBRM']), list(['LMLWBRWB']),\n",
              "       list(['LMLWBST']), list(['LMLWCAM']), list(['LMLWCF']),\n",
              "       list(['LMLWCM']), list(['LMLWLB']), list(['LMLWLWB']),\n",
              "       list(['LMLWRB']), list(['LMLWRM']), list(['LMLWRW']),\n",
              "       list(['LMLWST']), list(['LMRBCM']), list(['LMRM']),\n",
              "       list(['LMRMCAM']), list(['LMRMCF']), list(['LMRMCM']),\n",
              "       list(['LMRMLB']), list(['LMRMLW']), list(['LMRMLWB']),\n",
              "       list(['LMRMRB']), list(['LMRMRW']), list(['LMRMST']),\n",
              "       list(['LMRW']), list(['LMRWB']), list(['LMRWRM']),\n",
              "       list(['LMRWST']), list(['LMST']), list(['LMSTCAM']),\n",
              "       list(['LMSTCF']), list(['LMSTCM']), list(['LMSTLW']),\n",
              "       list(['LMSTLWB']), list(['LMSTRM']), list(['LMSTRW']),\n",
              "       list(['LW']), list(['LWB']), list(['LWBCB']), list(['LWBCBCM']),\n",
              "       list(['LWBCBLB']), list(['LWBCBLM']), list(['LWBCDM']),\n",
              "       list(['LWBCM']), list(['LWBCMCAM']), list(['LWBCMCB']),\n",
              "       list(['LWBCMLB']), list(['LWBCMRM']), list(['LWBCMRWB']),\n",
              "       list(['LWBLB']), list(['LWBLBCB']), list(['LWBLBCM']),\n",
              "       list(['LWBLBLM']), list(['LWBLBLW']), list(['LWBLBRB']),\n",
              "       list(['LWBLBRWB']), list(['LWBLM']), list(['LWBLMCB']),\n",
              "       list(['LWBLMCM']), list(['LWBLMLB']), list(['LWBLMLW']),\n",
              "       list(['LWBLW']), list(['LWBLWCM']), list(['LWBRB']),\n",
              "       list(['LWBRM']), list(['LWBRMLM']), list(['LWBRWB']),\n",
              "       list(['LWBRWBCM']), list(['LWBRWBLB']), list(['LWBRWBRB']),\n",
              "       list(['LWBST']), list(['LWCAM']), list(['LWCAMCM']),\n",
              "       list(['LWCAMRM']), list(['LWCAMRW']), list(['LWCAMST']),\n",
              "       list(['LWCF']), list(['LWCFCAM']), list(['LWCFCM']),\n",
              "       list(['LWCFLM']), list(['LWCFRW']), list(['LWCM']),\n",
              "       list(['LWCMCAM']), list(['LWCMRM']), list(['LWLB']),\n",
              "       list(['LWLM']), list(['LWLMCAM']), list(['LWLMCM']),\n",
              "       list(['LWLMLB']), list(['LWLMLWB']), list(['LWLMRM']),\n",
              "       list(['LWLMRW']), list(['LWLMST']), list(['LWLWB']),\n",
              "       list(['LWLWBRW']), list(['LWRB']), list(['LWRBRW']),\n",
              "       list(['LWRM']), list(['LWRMLM']), list(['LWRMRW']), list(['LWRW']),\n",
              "       list(['LWRWBLWB']), list(['LWRWCAM']), list(['LWRWCF']),\n",
              "       list(['LWRWCM']), list(['LWRWLB']), list(['LWRWLM']),\n",
              "       list(['LWRWRM']), list(['LWRWRWB']), list(['LWRWST']),\n",
              "       list(['LWST']), list(['LWSTCAM']), list(['LWSTCF']),\n",
              "       list(['LWSTLM']), list(['LWSTLWB']), list(['LWSTRW']),\n",
              "       list(['RB']), list(['RBCB']), list(['RBCBCDM']), list(['RBCBLB']),\n",
              "       list(['RBCBLWB']), list(['RBCBRM']), list(['RBCBRWB']),\n",
              "       list(['RBCDM']), list(['RBCDMCB']), list(['RBCDMCM']),\n",
              "       list(['RBCDMRM']), list(['RBCDMRWB']), list(['RBCM']),\n",
              "       list(['RBCMCAM']), list(['RBCMLB']), list(['RBCMRM']),\n",
              "       list(['RBCMRW']), list(['RBCMRWB']), list(['RBLB']),\n",
              "       list(['RBLBCB']), list(['RBLBCDM']), list(['RBLBCM']),\n",
              "       list(['RBLBLM']), list(['RBLBRM']), list(['RBLBRWB']),\n",
              "       list(['RBLM']), list(['RBLMLB']), list(['RBLMRM']), list(['RBLW']),\n",
              "       list(['RBLWRW']), list(['RBRM']), list(['RBRMCAM']),\n",
              "       list(['RBRMCM']), list(['RBRMLB']), list(['RBRMLM']),\n",
              "       list(['RBRMRW']), list(['RBRMRWB']), list(['RBRW']),\n",
              "       list(['RBRWB']), list(['RBRWBCB']), list(['RBRWBCM']),\n",
              "       list(['RBRWBLB']), list(['RBRWBLWB']), list(['RBRWBRM']),\n",
              "       list(['RBRWBRW']), list(['RBRWLW']), list(['RBST']), list(['RM']),\n",
              "       list(['RMCAM']), list(['RMCAMCB']), list(['RMCAMCM']),\n",
              "       list(['RMCAMLM']), list(['RMCAMRW']), list(['RMCAMST']),\n",
              "       list(['RMCB']), list(['RMCDM']), list(['RMCF']), list(['RMCFCAM']),\n",
              "       list(['RMCFLM']), list(['RMCFRB']), list(['RMCFRW']),\n",
              "       list(['RMCFST']), list(['RMCM']), list(['RMCMCAM']),\n",
              "       list(['RMCMCF']), list(['RMCMLM']), list(['RMCMRW']),\n",
              "       list(['RMCMRWB']), list(['RMCMST']), list(['RMLB']),\n",
              "       list(['RMLBLM']), list(['RMLBRB']), list(['RMLM']),\n",
              "       list(['RMLMCAM']), list(['RMLMCF']), list(['RMLMCM']),\n",
              "       list(['RMLMLB']), list(['RMLMLW']), list(['RMLMLWB']),\n",
              "       list(['RMLMRB']), list(['RMLMRW']), list(['RMLMRWB']),\n",
              "       list(['RMLMST']), list(['RMLW']), list(['RMLWBLB']),\n",
              "       list(['RMLWBLM']), list(['RMLWLM']), list(['RMLWRB']),\n",
              "       list(['RMRB']), list(['RMRBCAM']), list(['RMRBCM']),\n",
              "       list(['RMRBLB']), list(['RMRBLM']), list(['RMRBRW']),\n",
              "       list(['RMRBRWB']), list(['RMRW']), list(['RMRWB']),\n",
              "       list(['RMRWBCM']), list(['RMRWBLM']), list(['RMRWBRB']),\n",
              "       list(['RMRWBRW']), list(['RMRWBST']), list(['RMRWCAM']),\n",
              "       list(['RMRWCM']), list(['RMRWLM']), list(['RMRWLW']),\n",
              "       list(['RMRWRB']), list(['RMRWRWB']), list(['RMRWST']),\n",
              "       list(['RMST']), list(['RMSTCAM']), list(['RMSTCF']),\n",
              "       list(['RMSTCM']), list(['RMSTLM']), list(['RMSTRB']),\n",
              "       list(['RMSTRW']), list(['RW']), list(['RWB']), list(['RWBCAM']),\n",
              "       list(['RWBCB']), list(['RWBCBLWB']), list(['RWBCBRB']),\n",
              "       list(['RWBCBRM']), list(['RWBCDM']), list(['RWBCDMCB']),\n",
              "       list(['RWBCM']), list(['RWBLB']), list(['RWBLBCB']),\n",
              "       list(['RWBLMLWB']), list(['RWBLMRM']), list(['RWBLWB']),\n",
              "       list(['RWBLWBCB']), list(['RWBLWBCDM']), list(['RWBLWBRB']),\n",
              "       list(['RWBLWBRM']), list(['RWBLWRW']), list(['RWBRB']),\n",
              "       list(['RWBRBCB']), list(['RWBRBLB']), list(['RWBRBLWB']),\n",
              "       list(['RWBRBRM']), list(['RWBRBRW']), list(['RWBRBST']),\n",
              "       list(['RWBRM']), list(['RWBRMCB']), list(['RWBRMLM']),\n",
              "       list(['RWBRMLWB']), list(['RWBRMRB']), list(['RWBRW']),\n",
              "       list(['RWBST']), list(['RWCAM']), list(['RWCAMCF']),\n",
              "       list(['RWCAMCM']), list(['RWCAMLM']), list(['RWCAMLW']),\n",
              "       list(['RWCAMRM']), list(['RWCAMST']), list(['RWCF']),\n",
              "       list(['RWCFCAM']), list(['RWCFLW']), list(['RWCFRM']),\n",
              "       list(['RWCM']), list(['RWCMCAM']), list(['RWCMLW']),\n",
              "       list(['RWLM']), list(['RWLMCAM']), list(['RWLMCDM']),\n",
              "       list(['RWLMCF']), list(['RWLMRM']), list(['RWLMST']),\n",
              "       list(['RWLW']), list(['RWLWCAM']), list(['RWLWCF']),\n",
              "       list(['RWLWCM']), list(['RWLWLB']), list(['RWLWLM']),\n",
              "       list(['RWLWRB']), list(['RWLWRM']), list(['RWLWST']),\n",
              "       list(['RWRB']), list(['RWRBRM']), list(['RWRM']),\n",
              "       list(['RWRMCAM']), list(['RWRMCF']), list(['RWRMCM']),\n",
              "       list(['RWRMLB']), list(['RWRMLM']), list(['RWRMLW']),\n",
              "       list(['RWRMLWB']), list(['RWRMRB']), list(['RWRMST']),\n",
              "       list(['RWRWBLWB']), list(['RWRWBRM']), list(['RWST']),\n",
              "       list(['RWSTCAM']), list(['RWSTCF']), list(['RWSTLW']),\n",
              "       list(['RWSTRB']), list(['RWSTRM']), list(['ST']), list(['STCAM']),\n",
              "       list(['STCAMCDM']), list(['STCAMCM']), list(['STCAMLB']),\n",
              "       list(['STCAMLM']), list(['STCAMLW']), list(['STCAMRM']),\n",
              "       list(['STCAMRW']), list(['STCB']), list(['STCDM']), list(['STCF']),\n",
              "       list(['STCFCAM']), list(['STCFLM']), list(['STCFLW']),\n",
              "       list(['STCFRW']), list(['STCM']), list(['STCMRM']), list(['STLM']),\n",
              "       list(['STLMCAM']), list(['STLMCF']), list(['STLMLW']),\n",
              "       list(['STLMRM']), list(['STLW']), list(['STLWCAM']),\n",
              "       list(['STLWCF']), list(['STLWLM']), list(['STLWRM']),\n",
              "       list(['STLWRW']), list(['STRM']), list(['STRMCAM']),\n",
              "       list(['STRMCF']), list(['STRMLM']), list(['STRMRW']),\n",
              "       list(['STRMRWB']), list(['STRW']), list(['STRWCAM']),\n",
              "       list(['STRWCF']), list(['STRWCM']), list(['STRWLW']),\n",
              "       list(['STRWRM'])], dtype=object)"
            ]
          },
          "execution_count": 38,
          "metadata": {},
          "output_type": "execute_result"
        }
      ],
      "source": [
        "np.unique(df[\"PreferredPositions\"])"
      ]
    },
    {
      "cell_type": "markdown",
      "source": [
        "It can be seen that multiple players' preferred positions are both attacking and mid or mid and defending. My assumption is that a player can only be assigned to one position, therefore I am going to classify players whose preferred positions are not mixed."
      ],
      "metadata": {
        "id": "BIzB4QaNsIaT"
      }
    },
    {
      "cell_type": "code",
      "execution_count": null,
      "metadata": {
        "id": "JXLnKup4p8rM",
        "outputId": "e981a1bf-9f8b-4cf9-97cc-a43dd4d5d901"
      },
      "outputs": [
        {
          "data": {
            "text/plain": [
              "['LF',\n",
              " 'ST',\n",
              " 'CF',\n",
              " 'RF',\n",
              " 'LW',\n",
              " 'LM',\n",
              " 'CAM',\n",
              " 'CDM',\n",
              " 'CM',\n",
              " 'RM',\n",
              " 'RW',\n",
              " 'LWB',\n",
              " 'LB',\n",
              " 'CB',\n",
              " 'RB',\n",
              " 'RWB',\n",
              " 'GK']"
            ]
          },
          "execution_count": 39,
          "metadata": {},
          "output_type": "execute_result"
        }
      ],
      "source": [
        "att_positions=[\"LF\", \"ST\", \"CF\", \"RF\"]\n",
        "mid_positions=[\"LW\", \"LM\", \"CAM\", \"CDM\", \"CM\", \"RM\", \"RW\"]\n",
        "def_positions=[\"LWB\",\"LB\",\"CB\",\"RB\",\"RWB\"]\n",
        "gk=[\"GK\"]\n",
        "positions=att_positions+mid_positions+def_positions+gk\n",
        "positions"
      ]
    },
    {
      "cell_type": "code",
      "execution_count": null,
      "metadata": {
        "id": "x0u6Gy5gp8rN"
      },
      "outputs": [],
      "source": [
        "def assign_pos(example):\n",
        "    att=0\n",
        "    dfn=0\n",
        "    mid=0\n",
        "    for position in mid_positions:\n",
        "        if position in example:\n",
        "            mid+=1\n",
        "    for position in att_positions:\n",
        "        if position in example:\n",
        "            att+=1\n",
        "    for position in def_positions:\n",
        "        if position in example:\n",
        "            dfn+=1\n",
        "    return dfn*mid, att*mid, dfn*att\n",
        "\n",
        "def position_filter(positions):\n",
        "    filtered_positions=[]\n",
        "    for position in positions:\n",
        "        if assign_pos(position)==(0,0,0):\n",
        "            filtered_positions.append(position)\n",
        "    return filtered_positions"
      ]
    },
    {
      "cell_type": "code",
      "execution_count": null,
      "metadata": {
        "id": "vMh_D3Odp8rO"
      },
      "outputs": [],
      "source": [
        "def str_column_converter(column):\n",
        "    empty=[]\n",
        "    for position in column:\n",
        "        for element in position:\n",
        "            empty.append(str(element))\n",
        "    column=empty\n",
        "    return column"
      ]
    },
    {
      "cell_type": "code",
      "execution_count": null,
      "metadata": {
        "id": "E5yCvubVp8rO"
      },
      "outputs": [],
      "source": [
        "df[\"PreferredPositions\"]=str_column_converter(df[\"PreferredPositions\"])"
      ]
    },
    {
      "cell_type": "code",
      "execution_count": null,
      "metadata": {
        "id": "iWgAhIYJp8rP"
      },
      "outputs": [],
      "source": [
        "clear_positions=position_filter(np.unique(df[\"PreferredPositions\"]))"
      ]
    },
    {
      "cell_type": "code",
      "execution_count": null,
      "metadata": {
        "id": "pKUnmwpEp8rP"
      },
      "outputs": [],
      "source": [
        "df = df.loc[df[\"PreferredPositions\"].isin(clear_positions)].reset_index(drop=True)"
      ]
    },
    {
      "cell_type": "code",
      "execution_count": null,
      "metadata": {
        "id": "UmuAca3Up8rP"
      },
      "outputs": [],
      "source": [
        "def rename_position(example):\n",
        "    for position in mid_positions:\n",
        "        if position in example:\n",
        "            example=\"MID\"\n",
        "    for position in att_positions:\n",
        "        if position in example:\n",
        "            example=\"ATT\"\n",
        "    for position in def_positions:\n",
        "        if position in example:\n",
        "            example=\"DEF\"\n",
        "    return example"
      ]
    },
    {
      "cell_type": "code",
      "execution_count": null,
      "metadata": {
        "id": "aY2e-dB_p8rQ",
        "outputId": "dc26bfca-ead7-4f90-f388-545712e6a873"
      },
      "outputs": [
        {
          "name": "stderr",
          "output_type": "stream",
          "text": [
            "C:\\ProgramData\\Anaconda3\\lib\\site-packages\\ipykernel_launcher.py:2: SettingWithCopyWarning: \n",
            "A value is trying to be set on a copy of a slice from a DataFrame\n",
            "\n",
            "See the caveats in the documentation: https://pandas.pydata.org/pandas-docs/stable/user_guide/indexing.html#returning-a-view-versus-a-copy\n",
            "  \n"
          ]
        }
      ],
      "source": [
        "for i in range(0,len(df[\"PreferredPositions\"])):\n",
        "    df[\"PreferredPositions\"][i]=rename_position(df[\"PreferredPositions\"][i])"
      ]
    },
    {
      "cell_type": "code",
      "execution_count": null,
      "metadata": {
        "id": "D82AeiP3p8rQ",
        "outputId": "48650413-0b87-4e58-ee3a-c33c5fd7c400"
      },
      "outputs": [
        {
          "data": {
            "text/plain": [
              "PreferredFoot         0\n",
              "Age                   0\n",
              "PreferredPositions    0\n",
              "Value                 0\n",
              "Wage                  0\n",
              "Position              0\n",
              "ContractLength        0\n",
              "BallControl           0\n",
              "Dribbling             0\n",
              "Marking               0\n",
              "SlideTackle           0\n",
              "StandTackle           0\n",
              "Aggression            0\n",
              "Reactions             0\n",
              "Att.Position          0\n",
              "Interceptions         0\n",
              "Vision                0\n",
              "Composure             0\n",
              "Crossing              0\n",
              "ShortPass             0\n",
              "LongPass              0\n",
              "Acceleration          0\n",
              "Stamina               0\n",
              "Strength              0\n",
              "Balance               0\n",
              "SprintSpeed           0\n",
              "Agility               0\n",
              "Jumping               0\n",
              "Heading               0\n",
              "ShotPower             0\n",
              "Finishing             0\n",
              "LongShots             0\n",
              "Curve                 0\n",
              "FKAcc.                0\n",
              "Penalties             0\n",
              "Volleys               0\n",
              "GKPositioning         0\n",
              "GKDiving              0\n",
              "GKHandling            0\n",
              "GKKicking             0\n",
              "GKReflexes            0\n",
              "dtype: int64"
            ]
          },
          "execution_count": 47,
          "metadata": {},
          "output_type": "execute_result"
        }
      ],
      "source": [
        "df.isnull().sum()"
      ]
    },
    {
      "cell_type": "markdown",
      "source": [
        "Classifying"
      ],
      "metadata": {
        "id": "aBieicxXtb_g"
      }
    },
    {
      "cell_type": "code",
      "execution_count": null,
      "metadata": {
        "id": "ktCz_8YNp8rR"
      },
      "outputs": [],
      "source": [
        "from sklearn.model_selection import train_test_split\n",
        "X = df.drop(columns=['PreferredPositions', 'Position','PreferredFoot'])\n",
        "y = df['PreferredPositions']\n",
        "X_train, X_validation, Y_train, Y_validation = train_test_split(X, y, test_size=0.20, random_state=1)"
      ]
    },
    {
      "cell_type": "code",
      "execution_count": null,
      "metadata": {
        "id": "BSCIRJgDp8rR",
        "outputId": "71969628-53d8-4606-cec8-a8c13e9abd69"
      },
      "outputs": [
        {
          "name": "stderr",
          "output_type": "stream",
          "text": [
            "C:\\ProgramData\\Anaconda3\\lib\\site-packages\\sklearn\\linear_model\\least_angle.py:35: DeprecationWarning: `np.float` is a deprecated alias for the builtin `float`. To silence this warning, use `float` by itself. Doing this will not modify any behavior and is safe. If you specifically wanted the numpy scalar type, use `np.float64` here.\n",
            "Deprecated in NumPy 1.20; for more details and guidance: https://numpy.org/devdocs/release/1.20.0-notes.html#deprecations\n",
            "  eps=np.finfo(np.float).eps,\n",
            "C:\\ProgramData\\Anaconda3\\lib\\site-packages\\sklearn\\linear_model\\least_angle.py:597: DeprecationWarning: `np.float` is a deprecated alias for the builtin `float`. To silence this warning, use `float` by itself. Doing this will not modify any behavior and is safe. If you specifically wanted the numpy scalar type, use `np.float64` here.\n",
            "Deprecated in NumPy 1.20; for more details and guidance: https://numpy.org/devdocs/release/1.20.0-notes.html#deprecations\n",
            "  eps=np.finfo(np.float).eps, copy_X=True, fit_path=True,\n",
            "C:\\ProgramData\\Anaconda3\\lib\\site-packages\\sklearn\\linear_model\\least_angle.py:836: DeprecationWarning: `np.float` is a deprecated alias for the builtin `float`. To silence this warning, use `float` by itself. Doing this will not modify any behavior and is safe. If you specifically wanted the numpy scalar type, use `np.float64` here.\n",
            "Deprecated in NumPy 1.20; for more details and guidance: https://numpy.org/devdocs/release/1.20.0-notes.html#deprecations\n",
            "  eps=np.finfo(np.float).eps, copy_X=True, fit_path=True,\n",
            "C:\\ProgramData\\Anaconda3\\lib\\site-packages\\sklearn\\linear_model\\least_angle.py:862: DeprecationWarning: `np.float` is a deprecated alias for the builtin `float`. To silence this warning, use `float` by itself. Doing this will not modify any behavior and is safe. If you specifically wanted the numpy scalar type, use `np.float64` here.\n",
            "Deprecated in NumPy 1.20; for more details and guidance: https://numpy.org/devdocs/release/1.20.0-notes.html#deprecations\n",
            "  eps=np.finfo(np.float).eps, positive=False):\n",
            "C:\\ProgramData\\Anaconda3\\lib\\site-packages\\sklearn\\linear_model\\least_angle.py:1074: DeprecationWarning: `np.float` is a deprecated alias for the builtin `float`. To silence this warning, use `float` by itself. Doing this will not modify any behavior and is safe. If you specifically wanted the numpy scalar type, use `np.float64` here.\n",
            "Deprecated in NumPy 1.20; for more details and guidance: https://numpy.org/devdocs/release/1.20.0-notes.html#deprecations\n",
            "  max_n_alphas=1000, n_jobs=1, eps=np.finfo(np.float).eps,\n",
            "C:\\ProgramData\\Anaconda3\\lib\\site-packages\\sklearn\\linear_model\\least_angle.py:1306: DeprecationWarning: `np.float` is a deprecated alias for the builtin `float`. To silence this warning, use `float` by itself. Doing this will not modify any behavior and is safe. If you specifically wanted the numpy scalar type, use `np.float64` here.\n",
            "Deprecated in NumPy 1.20; for more details and guidance: https://numpy.org/devdocs/release/1.20.0-notes.html#deprecations\n",
            "  max_n_alphas=1000, n_jobs=1, eps=np.finfo(np.float).eps,\n",
            "C:\\ProgramData\\Anaconda3\\lib\\site-packages\\sklearn\\linear_model\\least_angle.py:1442: DeprecationWarning: `np.float` is a deprecated alias for the builtin `float`. To silence this warning, use `float` by itself. Doing this will not modify any behavior and is safe. If you specifically wanted the numpy scalar type, use `np.float64` here.\n",
            "Deprecated in NumPy 1.20; for more details and guidance: https://numpy.org/devdocs/release/1.20.0-notes.html#deprecations\n",
            "  eps=np.finfo(np.float).eps, copy_X=True, positive=False):\n",
            "C:\\ProgramData\\Anaconda3\\lib\\site-packages\\sklearn\\linear_model\\randomized_l1.py:152: DeprecationWarning: `np.float` is a deprecated alias for the builtin `float`. To silence this warning, use `float` by itself. Doing this will not modify any behavior and is safe. If you specifically wanted the numpy scalar type, use `np.float64` here.\n",
            "Deprecated in NumPy 1.20; for more details and guidance: https://numpy.org/devdocs/release/1.20.0-notes.html#deprecations\n",
            "  precompute=False, eps=np.finfo(np.float).eps,\n",
            "C:\\ProgramData\\Anaconda3\\lib\\site-packages\\sklearn\\linear_model\\randomized_l1.py:318: DeprecationWarning: `np.float` is a deprecated alias for the builtin `float`. To silence this warning, use `float` by itself. Doing this will not modify any behavior and is safe. If you specifically wanted the numpy scalar type, use `np.float64` here.\n",
            "Deprecated in NumPy 1.20; for more details and guidance: https://numpy.org/devdocs/release/1.20.0-notes.html#deprecations\n",
            "  eps=np.finfo(np.float).eps, random_state=None,\n",
            "C:\\ProgramData\\Anaconda3\\lib\\site-packages\\sklearn\\linear_model\\randomized_l1.py:575: DeprecationWarning: `np.float` is a deprecated alias for the builtin `float`. To silence this warning, use `float` by itself. Doing this will not modify any behavior and is safe. If you specifically wanted the numpy scalar type, use `np.float64` here.\n",
            "Deprecated in NumPy 1.20; for more details and guidance: https://numpy.org/devdocs/release/1.20.0-notes.html#deprecations\n",
            "  eps=4 * np.finfo(np.float).eps, n_jobs=1,\n"
          ]
        }
      ],
      "source": [
        "from sklearn.model_selection import train_test_split\n",
        "from sklearn.model_selection import cross_val_score\n",
        "from sklearn.model_selection import StratifiedKFold\n",
        "from sklearn.metrics import classification_report\n",
        "from sklearn.metrics import confusion_matrix\n",
        "from sklearn.metrics import accuracy_score\n",
        "from sklearn.linear_model import LogisticRegression\n",
        "from sklearn.tree import DecisionTreeClassifier\n",
        "from sklearn.neighbors import KNeighborsClassifier\n",
        "from sklearn.discriminant_analysis import LinearDiscriminantAnalysis\n",
        "from sklearn.naive_bayes import GaussianNB\n",
        "from sklearn.svm import SVC"
      ]
    },
    {
      "cell_type": "code",
      "execution_count": null,
      "metadata": {
        "id": "unQv07Bcp8rS",
        "outputId": "315fa2f3-a32e-4c10-a533-06638f8c6f1e"
      },
      "outputs": [
        {
          "name": "stdout",
          "output_type": "stream",
          "text": [
            "LR: 0.789313 (0.015198)\n",
            "LDA: 0.946972 (0.006759)\n",
            "KNN: 0.567290 (0.017048)\n",
            "CART: 0.915306 (0.007767)\n",
            "NB: 0.503287 (0.101960)\n",
            "SVM: 0.422318 (0.000230)\n"
          ]
        }
      ],
      "source": [
        "models = []\n",
        "models.append(('LR', LogisticRegression(solver='liblinear', multi_class='ovr')))\n",
        "models.append(('LDA', LinearDiscriminantAnalysis()))\n",
        "models.append(('KNN', KNeighborsClassifier()))\n",
        "models.append(('CART', DecisionTreeClassifier()))\n",
        "models.append(('NB', GaussianNB()))\n",
        "models.append(('SVM', SVC(gamma='auto')))\n",
        "# evaluate each model in turn\n",
        "results = []\n",
        "names = []\n",
        "for name, model in models:\n",
        "    kfold = StratifiedKFold(n_splits=10, random_state=1, shuffle=True)\n",
        "    cv_results = cross_val_score(model, X_train, Y_train, cv=kfold, scoring='accuracy')\n",
        "    results.append(cv_results)\n",
        "    names.append(name)\n",
        "    print('%s: %f (%f)' % (name, cv_results.mean(), cv_results.std()))"
      ]
    },
    {
      "cell_type": "code",
      "execution_count": null,
      "metadata": {
        "id": "uyIMDtM-p8rT",
        "outputId": "06e26d08-0b84-4061-a488-1389cbc325d0"
      },
      "outputs": [
        {
          "data": {
            "text/plain": [
              "2622"
            ]
          },
          "execution_count": 52,
          "metadata": {},
          "output_type": "execute_result"
        }
      ],
      "source": [
        "model = LinearDiscriminantAnalysis()\n",
        "model.fit(X_train, Y_train)\n",
        "predictions = model.predict(X_validation)\n",
        "len(predictions)"
      ]
    },
    {
      "cell_type": "code",
      "execution_count": null,
      "metadata": {
        "id": "O5OEOOKvp8rT",
        "outputId": "5a964f8d-be71-4cfb-fc29-f3721661f61a"
      },
      "outputs": [
        {
          "name": "stdout",
          "output_type": "stream",
          "text": [
            "LDA Model accuracy on validation set is :  0.9469870327993898\n",
            "[[ 318    0    0   19]\n",
            " [   0  760    0   52]\n",
            " [   0    0  363    0]\n",
            " [  31   37    0 1042]]\n",
            "             precision    recall  f1-score   support\n",
            "\n",
            "        ATT       0.91      0.94      0.93       337\n",
            "        DEF       0.95      0.94      0.94       812\n",
            "         GK       1.00      1.00      1.00       363\n",
            "        MID       0.94      0.94      0.94      1110\n",
            "\n",
            "avg / total       0.95      0.95      0.95      2622\n",
            "\n"
          ]
        }
      ],
      "source": [
        "print(\"LDA Model accuracy on validation set is : \", accuracy_score(Y_validation, predictions))\n",
        "print(confusion_matrix(Y_validation, predictions))\n",
        "print(classification_report(Y_validation, predictions))"
      ]
    },
    {
      "cell_type": "markdown",
      "source": [
        "Tuning"
      ],
      "metadata": {
        "id": "6pN3Qpy9tjJd"
      }
    },
    {
      "cell_type": "code",
      "execution_count": null,
      "metadata": {
        "id": "xVOzMCxgp8rT",
        "outputId": "c5dc6a20-62d0-432d-ba8c-5617cd8b651c"
      },
      "outputs": [
        {
          "name": "stdout",
          "output_type": "stream",
          "text": [
            "Collecting xgboost\n",
            "  Downloading xgboost-1.6.1-py3-none-win_amd64.whl (125.4 MB)\n",
            "     -------------------------------------- 125.4/125.4 MB 1.5 MB/s eta 0:00:00\n",
            "Requirement already satisfied: scipy in c:\\programdata\\anaconda3\\lib\\site-packages (from xgboost) (1.1.0)\n",
            "Requirement already satisfied: numpy in c:\\programdata\\anaconda3\\lib\\site-packages (from xgboost) (1.21.5)\n",
            "Installing collected packages: xgboost\n",
            "Successfully installed xgboost-1.6.1\n"
          ]
        },
        {
          "name": "stderr",
          "output_type": "stream",
          "text": [
            "WARNING: Ignoring invalid distribution -ip (c:\\programdata\\anaconda3\\lib\\site-packages)\n",
            "WARNING: Ignoring invalid distribution -ip (c:\\programdata\\anaconda3\\lib\\site-packages)\n",
            "WARNING: Ignoring invalid distribution -ip (c:\\programdata\\anaconda3\\lib\\site-packages)\n",
            "WARNING: Ignoring invalid distribution -ip (c:\\programdata\\anaconda3\\lib\\site-packages)\n",
            "WARNING: Ignoring invalid distribution -ip (c:\\programdata\\anaconda3\\lib\\site-packages)\n",
            "WARNING: Ignoring invalid distribution -ip (c:\\programdata\\anaconda3\\lib\\site-packages)\n",
            "WARNING: Ignoring invalid distribution -ip (c:\\programdata\\anaconda3\\lib\\site-packages)\n",
            "WARNING: You are using pip version 22.0.3; however, version 22.2.1 is available.\n",
            "You should consider upgrading via the 'c:\\programdata\\anaconda3\\python.exe -m pip install --upgrade pip' command.\n"
          ]
        }
      ],
      "source": [
        "!pip install xgboost"
      ]
    },
    {
      "cell_type": "code",
      "execution_count": null,
      "metadata": {
        "id": "PphDPcvAp8rU"
      },
      "outputs": [],
      "source": [
        "Y_train=Y_train.replace(to_replace=\"GK\", value=0)\n",
        "Y_train=Y_train.replace(to_replace=\"DEF\", value=1)\n",
        "Y_train=Y_train.replace(to_replace=\"MID\", value=2)\n",
        "Y_train=Y_train.replace(to_replace=\"ATT\", value=3)\n",
        "Y_validation=Y_validation.replace(to_replace=\"GK\", value=0)\n",
        "Y_validation=Y_validation.replace(to_replace=\"DEF\", value=1)\n",
        "Y_validation=Y_validation.replace(to_replace=\"MID\", value=2)\n",
        "Y_validation=Y_validation.replace(to_replace=\"ATT\", value=3)"
      ]
    },
    {
      "cell_type": "code",
      "execution_count": null,
      "metadata": {
        "id": "_1-hD25Ap8rU",
        "outputId": "c62f0bd7-ed30-4e0b-ab36-2bc1320b2999"
      },
      "outputs": [
        {
          "name": "stdout",
          "output_type": "stream",
          "text": [
            "Accuracy of xgb classifier is 1.00000 on training data\n",
            "Accuracy of xgb classifier is 0.97063 on validation data\n"
          ]
        }
      ],
      "source": [
        "import xgboost as xgb\n",
        "xgb_clf = xgb.XGBClassifier()\n",
        "xgb_clf = xgb_clf.fit(X_train, Y_train)\n",
        "print('Accuracy of xgb classifier is {:.5f} on training data'.format(xgb_clf.score(X_train, Y_train)))\n",
        "print('Accuracy of xgb classifier is {:.5f} on validation data'.format(xgb_clf.score(X_validation, Y_validation)))"
      ]
    },
    {
      "cell_type": "code",
      "execution_count": null,
      "metadata": {
        "id": "tYASJ775p8rV"
      },
      "outputs": [],
      "source": [
        ""
      ]
    },
    {
      "cell_type": "markdown",
      "metadata": {
        "id": "mskESEzxp8rV"
      },
      "source": [
        "# PRICE REGRESSION"
      ]
    },
    {
      "cell_type": "code",
      "execution_count": null,
      "metadata": {
        "id": "z7QINIXUp8rX"
      },
      "outputs": [],
      "source": [
        "from sklearn.preprocessing import LabelEncoder\n",
        "encoder=LabelEncoder()\n",
        "df['PreferredPositions']=encoder.fit_transform(df['PreferredPositions'])"
      ]
    },
    {
      "cell_type": "code",
      "execution_count": null,
      "metadata": {
        "id": "RqVla-Obp8rY"
      },
      "outputs": [],
      "source": [
        "X2 = df.drop(columns=['Position','Value','PreferredFoot'])\n",
        "y2 = df['Value']\n",
        "#X2_train, X2_validation, Y2_train, Y2_validation = train_test_split(X2, y2, test_size=0.20, random_state=1)"
      ]
    },
    {
      "cell_type": "code",
      "execution_count": null,
      "metadata": {
        "id": "bnNuIowUp8rZ",
        "outputId": "205fd048-0cb0-4fad-a0a2-6dfcbab6fa7e"
      },
      "outputs": [
        {
          "name": "stdout",
          "output_type": "stream",
          "text": [
            "X_train shape:(10485, 38)\n",
            "y_train shape:(10485,)\n",
            "X_test shape:(2622, 38)\n",
            "y_test shape:(2622,)\n"
          ]
        }
      ],
      "source": [
        "X_train,X_test,y_train,y_test=train_test_split(X2,y2,random_state=44,test_size=0.2)\n",
        "print(\"X_train shape:{}\".format(X_train.shape))\n",
        "print(\"y_train shape:{}\".format(y_train.shape))\n",
        "print(\"X_test shape:{}\".format(X_test.shape))\n",
        "print(\"y_test shape:{}\".format(y_test.shape))"
      ]
    },
    {
      "cell_type": "code",
      "execution_count": null,
      "metadata": {
        "id": "HPbg_QCDp8ra"
      },
      "outputs": [],
      "source": [
        "from sklearn.preprocessing import MinMaxScaler\n",
        "sc=MinMaxScaler()\n",
        "X_train_sc=sc.fit_transform(X_train)\n",
        "X_test_sc=sc.transform(X_test)"
      ]
    },
    {
      "cell_type": "code",
      "execution_count": null,
      "metadata": {
        "id": "LXYPPoPgp8rb"
      },
      "outputs": [],
      "source": [
        "def mae(y_model,y_true):\n",
        "    \"\"\"\n",
        "    The mean_absolute_error\n",
        "    \"\"\"\n",
        "    return mean_absolute_error(y_model,y_true)"
      ]
    },
    {
      "cell_type": "code",
      "execution_count": null,
      "metadata": {
        "id": "cjCaAvaHp8rc"
      },
      "outputs": [],
      "source": [
        "def rmse(y_model,y_true):\n",
        "    \"\"\"\n",
        "    The root_mean_square_error\n",
        "    \"\"\"\n",
        "    return np.sqrt(mean_squared_error(y_model,y_true))"
      ]
    },
    {
      "cell_type": "code",
      "execution_count": null,
      "metadata": {
        "id": "KTNiQq5pp8rd",
        "outputId": "e8a89f38-3456-476e-bc28-ba691d99a347"
      },
      "outputs": [
        {
          "data": {
            "text/plain": [
              "GridSearchCV(cv=5, error_score='raise',\n",
              "       estimator=SGDRegressor(alpha=0.0001, average=False, epsilon=0.1, eta0=0.01,\n",
              "       fit_intercept=True, l1_ratio=0.15, learning_rate='invscaling',\n",
              "       loss='squared_loss', max_iter=None, n_iter=1000, penalty='l2',\n",
              "       power_t=0.25, random_state=None, shuffle=True, tol=None, verbose=0,\n",
              "       warm_start=False),\n",
              "       fit_params=None, iid=True, n_jobs=1,\n",
              "       param_grid={'alpha': [3e-06, 1e-05, 3e-05], 'eta0': [0.01, 0.03, 0.1]},\n",
              "       pre_dispatch='2*n_jobs', refit=True, return_train_score='warn',\n",
              "       scoring='neg_mean_absolute_error', verbose=0)"
            ]
          },
          "execution_count": 64,
          "metadata": {},
          "output_type": "execute_result"
        }
      ],
      "source": [
        "from sklearn.linear_model import SGDRegressor\n",
        "from sklearn.model_selection import GridSearchCV\n",
        "param_grid = {\"alpha\": [3e-06, 1e-5, 3e-5], \"eta0\": [0.01, 0.03, 0.1],}\n",
        "lr = SGDRegressor(penalty='l2', n_iter=1000)\n",
        "grid_search = GridSearchCV(lr, param_grid, cv=5, scoring='neg_mean_absolute_error')\n",
        "grid_search.fit(X_train_sc, y_train)"
      ]
    },
    {
      "cell_type": "code",
      "execution_count": null,
      "metadata": {
        "id": "K0z4JLOFp8re",
        "outputId": "31a5794b-f3ca-4e71-acc4-1758310a34b5"
      },
      "outputs": [
        {
          "name": "stdout",
          "output_type": "stream",
          "text": [
            "{'alpha': 1e-05, 'eta0': 0.01}\n"
          ]
        }
      ],
      "source": [
        "print(grid_search.best_params_)\n",
        "lr_best = grid_search.best_estimator_\n",
        "predictions = lr_best.predict(X_test_sc)"
      ]
    },
    {
      "cell_type": "code",
      "execution_count": null,
      "metadata": {
        "id": "4qAf1F4ip8rf",
        "outputId": "b0a3661e-73bf-492f-a4ce-d75fa998ad66"
      },
      "outputs": [
        {
          "name": "stdout",
          "output_type": "stream",
          "text": [
            "MSE: 28261199986244.355\n",
            "MAE: 2321990.990\n",
            "R^2: 0.675\n"
          ]
        }
      ],
      "source": [
        "print('MSE: {0:.3f}'.format(mean_squared_error(y_test, predictions)))\n",
        "print('MAE: {0:.3f}'.format(mean_absolute_error(y_test, predictions)))\n",
        "print('R^2: {0:.3f}'.format(r2_score(y_test, predictions)))"
      ]
    },
    {
      "cell_type": "code",
      "execution_count": null,
      "metadata": {
        "id": "vmg-phA4p8rg",
        "outputId": "8b93dc8f-41dd-4113-eda0-46e65caa778a"
      },
      "outputs": [
        {
          "data": {
            "text/plain": [
              "GridSearchCV(cv=5, error_score='raise',\n",
              "       estimator=RandomForestRegressor(bootstrap=True, criterion='mse', max_depth=None,\n",
              "           max_features='auto', max_leaf_nodes=None,\n",
              "           min_impurity_decrease=0.0, min_impurity_split=None,\n",
              "           min_samples_leaf=1, min_samples_split=2,\n",
              "           min_weight_fraction_leaf=0.0, n_estimators=1000, n_jobs=1,\n",
              "           oob_score=False, random_state=None, verbose=0, warm_start=False),\n",
              "       fit_params=None, iid=True, n_jobs=1,\n",
              "       param_grid={'max_depth': [30, 50], 'min_samples_split': [3, 5, 10]},\n",
              "       pre_dispatch='2*n_jobs', refit=True, return_train_score='warn',\n",
              "       scoring='neg_mean_absolute_error', verbose=0)"
            ]
          },
          "execution_count": 69,
          "metadata": {},
          "output_type": "execute_result"
        }
      ],
      "source": [
        "from sklearn.ensemble import RandomForestRegressor\n",
        "param_grid = {\"max_depth\": [30, 50], \"min_samples_split\": [3, 5, 10],}\n",
        "rf = RandomForestRegressor(n_estimators=1000)\n",
        "grid_search = GridSearchCV(rf, param_grid, cv=5, scoring='neg_mean_absolute_error')\n",
        "grid_search.fit(X_train, y_train)"
      ]
    },
    {
      "cell_type": "code",
      "execution_count": null,
      "metadata": {
        "id": "DxoLXG3Hp8rg",
        "outputId": "720c69a0-e16e-4d8f-d6b6-7def8942ae6f"
      },
      "outputs": [
        {
          "name": "stdout",
          "output_type": "stream",
          "text": [
            "{'C': 10000, 'epsilon': 0.0001}\n"
          ]
        }
      ],
      "source": [
        "print(grid_search.best_params_)\n",
        "rf_best = grid_search.best_estimator_\n",
        "predictions = rf_best.predict(X_test)"
      ]
    },
    {
      "cell_type": "code",
      "execution_count": null,
      "metadata": {
        "id": "lCy6iT9ip8rh",
        "outputId": "efe70e57-6610-4e24-fe9f-c3e48aeb55d9"
      },
      "outputs": [
        {
          "name": "stdout",
          "output_type": "stream",
          "text": [
            "MSE: 2452455373039771058176.000\n",
            "MAE: 25726330908.313\n",
            "R^2: -28205451.563\n"
          ]
        }
      ],
      "source": [
        "print('MSE: {0:.3f}'.format(mean_squared_error(y_test, predictions)))\n",
        "print('MAE: {0:.3f}'.format(mean_absolute_error(y_test, predictions)))\n",
        "print('R^2: {0:.3f}'.format(r2_score(y_test, predictions)))"
      ]
    },
    {
      "cell_type": "code",
      "execution_count": null,
      "metadata": {
        "id": "juW9LA-4p8rh",
        "outputId": "171b8817-1849-4655-80d9-ab8795c719f5"
      },
      "outputs": [
        {
          "data": {
            "text/plain": [
              "GridSearchCV(cv=5, error_score='raise',\n",
              "       estimator=SVR(C=1.0, cache_size=200, coef0=0.0, degree=3, epsilon=0.1, gamma='auto',\n",
              "  kernel='linear', max_iter=-1, shrinking=True, tol=0.001, verbose=False),\n",
              "       fit_params=None, iid=True, n_jobs=1,\n",
              "       param_grid={'C': [1000, 3000, 10000], 'epsilon': [1e-05, 3e-05, 0.0001]},\n",
              "       pre_dispatch='2*n_jobs', refit=True, return_train_score='warn',\n",
              "       scoring='neg_mean_absolute_error', verbose=0)"
            ]
          },
          "execution_count": 72,
          "metadata": {},
          "output_type": "execute_result"
        }
      ],
      "source": [
        "from sklearn.svm import SVR\n",
        "param_grid = {\"C\": [1000, 3000, 10000],\"epsilon\": [0.00001, 0.00003, 0.0001],}\n",
        "svr = SVR(kernel='linear')\n",
        "grid_search = GridSearchCV(svr, param_grid, cv=5,\n",
        "scoring='neg_mean_absolute_error')\n",
        "grid_search.fit(X_train_sc, y_train)"
      ]
    },
    {
      "cell_type": "code",
      "execution_count": null,
      "metadata": {
        "id": "iC8384-kp8ri",
        "outputId": "0a773523-49d3-4e58-e897-5137ffe814fd"
      },
      "outputs": [
        {
          "name": "stdout",
          "output_type": "stream",
          "text": [
            "{'C': 10000, 'epsilon': 0.0001}\n"
          ]
        }
      ],
      "source": [
        "print(grid_search.best_params_)\n",
        "svr_best = grid_search.best_estimator_\n",
        "predictions = svr_best.predict(X_test_sc)"
      ]
    },
    {
      "cell_type": "code",
      "execution_count": null,
      "metadata": {
        "id": "kph-cY1Pp8ri",
        "outputId": "7e7e566b-d811-42c1-a4ff-39635e7e96d1"
      },
      "outputs": [
        {
          "name": "stdout",
          "output_type": "stream",
          "text": [
            "MSE: 80817565441803.312\n",
            "MAE: 2492624.944\n",
            "R^2: 0.071\n"
          ]
        }
      ],
      "source": [
        "print('MSE: {0:.3f}'.format(mean_squared_error(y_test, predictions)))\n",
        "print('MAE: {0:.3f}'.format(mean_absolute_error(y_test, predictions)))\n",
        "print('R^2: {0:.3f}'.format(r2_score(y_test, predictions)))"
      ]
    },
    {
      "cell_type": "code",
      "execution_count": null,
      "metadata": {
        "id": "6Y-IOh6sp8rj",
        "outputId": "9d0744b6-a697-4188-a560-8f9dd2b3c00b"
      },
      "outputs": [
        {
          "data": {
            "text/plain": [
              "GridSearchCV(cv=5, error_score='raise',\n",
              "       estimator=SVR(C=1.0, cache_size=200, coef0=0.0, degree=3, epsilon=0.1, gamma='auto',\n",
              "  kernel='rbf', max_iter=-1, shrinking=True, tol=0.001, verbose=False),\n",
              "       fit_params=None, iid=True, n_jobs=1,\n",
              "       param_grid={'C': [1000, 3000, 10000], 'epsilon': [1e-05, 3e-05, 0.0001]},\n",
              "       pre_dispatch='2*n_jobs', refit=True, return_train_score='warn',\n",
              "       scoring='neg_mean_absolute_error', verbose=0)"
            ]
          },
          "execution_count": 88,
          "metadata": {},
          "output_type": "execute_result"
        }
      ],
      "source": [
        "from sklearn.svm import SVR\n",
        "param_grid = {\"C\": [1000, 3000, 10000],\"epsilon\": [0.00001, 0.00003, 0.0001],}\n",
        "svr = SVR(kernel='rbf')\n",
        "grid_search = GridSearchCV(svr, param_grid, cv=5,\n",
        "scoring='neg_mean_absolute_error')\n",
        "grid_search.fit(X_train_sc, y_train)"
      ]
    },
    {
      "cell_type": "code",
      "execution_count": null,
      "metadata": {
        "id": "QON4PRZgp8rj",
        "outputId": "c23fc16b-dfa5-4350-8977-124ec484f00a"
      },
      "outputs": [
        {
          "name": "stdout",
          "output_type": "stream",
          "text": [
            "{'C': 10000, 'epsilon': 0.0001}\n"
          ]
        }
      ],
      "source": [
        "print(grid_search.best_params_)\n",
        "svr2_best = grid_search.best_estimator_\n",
        "predictions = svr2_best.predict(X_test_sc)"
      ]
    },
    {
      "cell_type": "code",
      "execution_count": null,
      "metadata": {
        "id": "ChtWX_Bvp8rk",
        "outputId": "7178aee6-7f4c-4854-819d-544d08556873"
      },
      "outputs": [
        {
          "name": "stdout",
          "output_type": "stream",
          "text": [
            "MSE: 89450448342665.188\n",
            "MAE: 2816766.000\n",
            "R^2: -0.029\n"
          ]
        }
      ],
      "source": [
        "print('MSE: {0:.3f}'.format(mean_squared_error(y_test, predictions)))\n",
        "print('MAE: {0:.3f}'.format(mean_absolute_error(y_test, predictions)))\n",
        "print('R^2: {0:.3f}'.format(r2_score(y_test, predictions)))"
      ]
    },
    {
      "cell_type": "code",
      "execution_count": null,
      "metadata": {
        "id": "-ScD3F5Up8rk",
        "outputId": "c5199ef0-1d48-44a6-ac3b-5206369ee103"
      },
      "outputs": [
        {
          "name": "stdout",
          "output_type": "stream",
          "text": [
            "model : GradientBoostingRegressor(alpha=0.9, criterion='friedman_mse', init=None,\n",
            "             learning_rate=0.1, loss='ls', max_depth=3, max_features=None,\n",
            "             max_leaf_nodes=None, min_impurity_decrease=0.0,\n",
            "             min_impurity_split=None, min_samples_leaf=1,\n",
            "             min_samples_split=2, min_weight_fraction_leaf=0.0,\n",
            "             n_estimators=100, presort='auto', random_state=None,\n",
            "             subsample=1.0, verbose=0, warm_start=False)\n",
            "training set score:0.97\n",
            "mae:1022587.90\n",
            "rmse:2879423.90\n",
            "r2 value:0.90\n",
            "_ _ _ _ _ _ _ _ _ _ _ _ _ _ _ _ _ _ _ _ _ _ _ _ _ _ _ _ _ _  \n",
            "\n",
            "model : KNeighborsRegressor(algorithm='auto', leaf_size=30, metric='minkowski',\n",
            "          metric_params=None, n_jobs=1, n_neighbors=5, p=2,\n",
            "          weights='uniform')\n",
            "training set score:0.84\n",
            "mae:1361577.96\n",
            "rmse:4991093.92\n",
            "r2 value:0.71\n",
            "_ _ _ _ _ _ _ _ _ _ _ _ _ _ _ _ _ _ _ _ _ _ _ _ _ _ _ _ _ _  \n",
            "\n"
          ]
        }
      ],
      "source": [
        "non_linearmodels=[GradientBoostingRegressor(),KNeighborsRegressor()]\n",
        "for m in non_linearmodels:\n",
        "    \n",
        "    m.fit(X_train_sc,y_train)\n",
        "    y_pred=m.predict(X_test_sc)\n",
        "    \n",
        "    print(\"model : {}\".format(m))\n",
        "    print(\"training set score:{:0.2f}\".format(m.score(X_train_sc,y_train)))\n",
        "    print(\"mae:{:0.2f}\".format(mae(y_pred,y_test)))\n",
        "    print(\"rmse:{:0.2f}\".format(rmse(y_pred,y_test)))\n",
        "    print(\"r2 value:{:0.2f}\".format(m.score(X_test_sc,y_test)))\n",
        "    print(\"_ \"*30,'\\n')\n",
        "    \n",
        "### BEST MODEL SO FAR"
      ]
    },
    {
      "cell_type": "code",
      "execution_count": null,
      "metadata": {
        "id": "MacWxhCmp8rl"
      },
      "outputs": [],
      "source": [
        "m=GradientBoostingRegressor()\n",
        "m.fit(X_train_sc,y_train)\n",
        "y_pred=m.predict(X_test_sc)"
      ]
    },
    {
      "cell_type": "code",
      "execution_count": null,
      "metadata": {
        "id": "uTIpCuMRp8rl"
      },
      "outputs": [],
      "source": [
        "y_test2=y_test.reset_index(drop=True)"
      ]
    },
    {
      "cell_type": "code",
      "execution_count": null,
      "metadata": {
        "id": "xlPmwBHpp8rm",
        "outputId": "39dfd621-7e57-42f5-c992-b81e5691445e"
      },
      "outputs": [
        {
          "data": {
            "text/plain": [
              "7553       675000\n",
              "6156     14500000\n",
              "8569      3800000\n",
              "10356      160000\n",
              "10827      925000\n",
              "           ...   \n",
              "1355      6000000\n",
              "8246      2100000\n",
              "11016     1800000\n",
              "5588      1200000\n",
              "9222      2600000\n",
              "Name: Value, Length: 2622, dtype: int32"
            ]
          },
          "execution_count": 138,
          "metadata": {},
          "output_type": "execute_result"
        }
      ],
      "source": [
        "y_pred"
      ]
    },
    {
      "cell_type": "code",
      "execution_count": null,
      "metadata": {
        "id": "_jI4oHRwp8rm",
        "outputId": "a4dcb9dc-df9e-4ecf-8eb9-d85415afe339"
      },
      "outputs": [
        {
          "data": {
            "text/plain": [
              "<matplotlib.collections.PathCollection at 0x1b351e10>"
            ]
          },
          "execution_count": 167,
          "metadata": {},
          "output_type": "execute_result"
        },
        {
          "data": {
            "image/png": "[encoded data removed]",
            "text/plain": [
              "<Figure size 432x288 with 1 Axes>"
            ]
          },
          "metadata": {
            "needs_background": "light"
          },
          "output_type": "display_data"
        }
      ],
      "source": [
        "import matplotlib.pyplot as plt\n",
        "#err=(X_test-y_pred)/X_test * 100\n",
        "plt.scatter(range(600,700),y_test2[600:700],s=5)\n",
        "plt.scatter(range(600,700),y_pred[600:700],s=5)"
      ]
    },
    {
      "cell_type": "code",
      "execution_count": null,
      "metadata": {
        "id": "qqHtAr1np8rn",
        "outputId": "19031be7-650a-45cc-cd98-306151c6a542"
      },
      "outputs": [
        {
          "name": "stdout",
          "output_type": "stream",
          "text": [
            "model : LinearRegression(copy_X=True, fit_intercept=True, n_jobs=1, normalize=False)\n",
            "training set score:0.72\n",
            "mae:2276258.50\n",
            "rmse:5194727.27\n",
            "test set score:0.69\n",
            "_ _ _ _ _ _ _ _ _ _ _ _ _ _ _ _ _ _ _ _ _ _ _ _ _ _ _ _ _ _  \n",
            "\n"
          ]
        }
      ],
      "source": [
        "from sklearn.preprocessing import PolynomialFeatures\n",
        "from sklearn.linear_model import Ridge,LinearRegression\n",
        "poly=PolynomialFeatures(degree=4)\n",
        "X_train_poly=poly.fit_transform(X_train_sc)\n",
        "X_test_poly=poly.transform(X_test_sc)\n",
        "\n",
        "linear_models=[LinearRegression(),Ridge(alpha=1)]\n",
        "for i,m in enumerate(linear_models):\n",
        "    if i ==0:\n",
        "        \n",
        "        m.fit(X_train_sc,y_train)\n",
        "        y_pred=m.predict(X_test_sc)\n",
        "    \n",
        "        print(\"model : {}\".format(m))\n",
        "        print(\"training set score:{:0.2f}\".format(m.score(X_train_sc,y_train)))\n",
        "        print(\"mae:{:0.2f}\".format(mae(y_pred,y_test)))\n",
        "        print(\"rmse:{:0.2f}\".format(rmse(y_pred,y_test)))\n",
        "        print(\"test set score:{:0.2f}\".format(m.score(X_test_sc,y_test)))\n",
        "        print(\"_ \"*30,'\\n')\n",
        "    else :\n",
        "        m.fit(X_train_poly,y_train)\n",
        "        y_pred=m.predict(X_test_poly)\n",
        "        print(\"model : {}\".format('Regularize polynomial Regression'))\n",
        "        print(\"training set score:{:0.2f}\".format(m.score(X_train_poly,y_train)))\n",
        "        print(\"mae:{:0.2f}\".format(mae(y_pred,y_test)))\n",
        "        print(\"rmse:{:0.2f}\".format(rmse(y_pred,y_test)))\n",
        "        print(\"r2 value:{:0.2f}\".format(m.score(X_test_poly,y_test)))\n",
        "        print(\"_ \"*30,'\\n')"
      ]
    }
  ],
  "metadata": {
    "kernelspec": {
      "display_name": "Python 3",
      "language": "python",
      "name": "python3"
    },
    "language_info": {
      "codemirror_mode": {
        "name": "ipython",
        "version": 3
      },
      "file_extension": ".py",
      "mimetype": "text/x-python",
      "name": "python",
      "nbconvert_exporter": "python",
      "pygments_lexer": "ipython3",
      "version": "3.7.0"
    },
    "colab": {
      "name": "fifa.ipynb",
      "provenance": []
    }
  },
  "nbformat": 4,
  "nbformat_minor": 0
}