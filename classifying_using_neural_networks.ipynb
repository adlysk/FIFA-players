{
  "nbformat": 4,
  "nbformat_minor": 0,
  "metadata": {
    "colab": {
      "provenance": [],
      "authorship_tag": "ABX9TyMmSPeawF7qiCj+z8E/HVt6",
      "include_colab_link": true
    },
    "kernelspec": {
      "name": "python3",
      "display_name": "Python 3"
    },
    "language_info": {
      "name": "python"
    }
  },
  "cells": [
    {
      "cell_type": "markdown",
      "metadata": {
        "id": "view-in-github",
        "colab_type": "text"
      },
      "source": [
        "<a href=\"https://colab.research.google.com/github/adlysk/FIFA-players/blob/main/classifying_using_neural_networks.ipynb\" target=\"_parent\"><img src=\"https://colab.research.google.com/assets/colab-badge.svg\" alt=\"Open In Colab\"/></a>"
      ]
    },
    {
      "cell_type": "code",
      "execution_count": null,
      "metadata": {
        "id": "ysYA9TS86q74"
      },
      "outputs": [],
      "source": [
        "import pandas as pd"
      ]
    },
    {
      "cell_type": "code",
      "source": [
        "df=pd.read_csv('/content/fifa2 (1).csv',sep=';')\n",
        "df.info()"
      ],
      "metadata": {
        "colab": {
          "base_uri": "https://localhost:8080/"
        },
        "id": "TwDeSfXoB_gj",
        "outputId": "6c0a7c32-7466-4907-c8b3-d2cca8e92191"
      },
      "execution_count": null,
      "outputs": [
        {
          "output_type": "stream",
          "name": "stdout",
          "text": [
            "<class 'pandas.core.frame.DataFrame'>\n",
            "RangeIndex: 10003 entries, 0 to 10002\n",
            "Data columns (total 40 columns):\n",
            " #   Column              Non-Null Count  Dtype \n",
            "---  ------              --------------  ----- \n",
            " 0   PreferredFoot       10003 non-null  int64 \n",
            " 1   Age                 10003 non-null  int64 \n",
            " 2   PreferredPositions  10003 non-null  object\n",
            " 3   Value               10003 non-null  int64 \n",
            " 4   Wage                10003 non-null  int64 \n",
            " 5   ContractLength      10003 non-null  int64 \n",
            " 6   BallControl         10003 non-null  int64 \n",
            " 7   Dribbling           10003 non-null  int64 \n",
            " 8   Marking             10003 non-null  int64 \n",
            " 9   SlideTackle         10003 non-null  int64 \n",
            " 10  StandTackle         10003 non-null  int64 \n",
            " 11  Aggression          10003 non-null  int64 \n",
            " 12  Reactions           10003 non-null  int64 \n",
            " 13  Att.Position        10003 non-null  int64 \n",
            " 14  Interceptions       10003 non-null  int64 \n",
            " 15  Vision              10003 non-null  int64 \n",
            " 16  Composure           10003 non-null  int64 \n",
            " 17  Crossing            10003 non-null  int64 \n",
            " 18  ShortPass           10003 non-null  int64 \n",
            " 19  LongPass            10003 non-null  int64 \n",
            " 20  Acceleration        10003 non-null  int64 \n",
            " 21  Stamina             10003 non-null  int64 \n",
            " 22  Strength            10003 non-null  int64 \n",
            " 23  Balance             10003 non-null  int64 \n",
            " 24  SprintSpeed         10003 non-null  int64 \n",
            " 25  Agility             10003 non-null  int64 \n",
            " 26  Jumping             10003 non-null  int64 \n",
            " 27  Heading             10003 non-null  int64 \n",
            " 28  ShotPower           10003 non-null  int64 \n",
            " 29  Finishing           10003 non-null  int64 \n",
            " 30  LongShots           10003 non-null  int64 \n",
            " 31  Curve               10003 non-null  int64 \n",
            " 32  FKAcc.              10003 non-null  int64 \n",
            " 33  Penalties           10003 non-null  int64 \n",
            " 34  Volleys             10003 non-null  int64 \n",
            " 35  GKPositioning       10003 non-null  int64 \n",
            " 36  GKDiving            10003 non-null  int64 \n",
            " 37  GKHandling          10003 non-null  int64 \n",
            " 38  GKKicking           10003 non-null  int64 \n",
            " 39  GKReflexes          10003 non-null  int64 \n",
            "dtypes: int64(39), object(1)\n",
            "memory usage: 3.1+ MB\n"
          ]
        }
      ]
    },
    {
      "cell_type": "code",
      "source": [
        "df.head()"
      ],
      "metadata": {
        "colab": {
          "base_uri": "https://localhost:8080/",
          "height": 300
        },
        "id": "Zd0hupzGD3MT",
        "outputId": "3debc543-67bb-4910-b8cd-0f69f4ba1071"
      },
      "execution_count": null,
      "outputs": [
        {
          "output_type": "execute_result",
          "data": {
            "text/plain": [
              "   PreferredFoot  Age PreferredPositions    Value  Wage  ContractLength  \\\n",
              "0              0   21                mid   650000  2300            2022   \n",
              "1              1   25                def   450000  3200            2024   \n",
              "2              1   30                def  1400000  9100            2023   \n",
              "3              1   25                def   375000  1800            2023   \n",
              "4              0   19                def   250000  1800            2021   \n",
              "\n",
              "   BallControl  Dribbling  Marking  SlideTackle  ...  LongShots  Curve  \\\n",
              "0           62         67       30           34  ...         60     64   \n",
              "1           56         54       58           57  ...         40     47   \n",
              "2           63         64       60           72  ...         58     52   \n",
              "3           32         32       65           57  ...         31     41   \n",
              "4           52         53       50           53  ...         41     38   \n",
              "\n",
              "   FKAcc.  Penalties  Volleys  GKPositioning  GKDiving  GKHandling  GKKicking  \\\n",
              "0      67         64       59              7        14          13          9   \n",
              "1      20         32       30             11         7          10          6   \n",
              "2      54         38       38             11        10          16          7   \n",
              "3      37         49       39             11        10          10         12   \n",
              "4      28         30       38              6        13          14          9   \n",
              "\n",
              "   GKReflexes  \n",
              "0           9  \n",
              "1          10  \n",
              "2          10  \n",
              "3           8  \n",
              "4          12  \n",
              "\n",
              "[5 rows x 40 columns]"
            ],
            "text/html": [
              "\n",
              "  <div id=\"df-dee36dcf-1506-4d8a-a929-c1022ae27480\">\n",
              "    <div class=\"colab-df-container\">\n",
              "      <div>\n",
              "<style scoped>\n",
              "    .dataframe tbody tr th:only-of-type {\n",
              "        vertical-align: middle;\n",
              "    }\n",
              "\n",
              "    .dataframe tbody tr th {\n",
              "        vertical-align: top;\n",
              "    }\n",
              "\n",
              "    .dataframe thead th {\n",
              "        text-align: right;\n",
              "    }\n",
              "</style>\n",
              "<table border=\"1\" class=\"dataframe\">\n",
              "  <thead>\n",
              "    <tr style=\"text-align: right;\">\n",
              "      <th></th>\n",
              "      <th>PreferredFoot</th>\n",
              "      <th>Age</th>\n",
              "      <th>PreferredPositions</th>\n",
              "      <th>Value</th>\n",
              "      <th>Wage</th>\n",
              "      <th>ContractLength</th>\n",
              "      <th>BallControl</th>\n",
              "      <th>Dribbling</th>\n",
              "      <th>Marking</th>\n",
              "      <th>SlideTackle</th>\n",
              "      <th>...</th>\n",
              "      <th>LongShots</th>\n",
              "      <th>Curve</th>\n",
              "      <th>FKAcc.</th>\n",
              "      <th>Penalties</th>\n",
              "      <th>Volleys</th>\n",
              "      <th>GKPositioning</th>\n",
              "      <th>GKDiving</th>\n",
              "      <th>GKHandling</th>\n",
              "      <th>GKKicking</th>\n",
              "      <th>GKReflexes</th>\n",
              "    </tr>\n",
              "  </thead>\n",
              "  <tbody>\n",
              "    <tr>\n",
              "      <th>0</th>\n",
              "      <td>0</td>\n",
              "      <td>21</td>\n",
              "      <td>mid</td>\n",
              "      <td>650000</td>\n",
              "      <td>2300</td>\n",
              "      <td>2022</td>\n",
              "      <td>62</td>\n",
              "      <td>67</td>\n",
              "      <td>30</td>\n",
              "      <td>34</td>\n",
              "      <td>...</td>\n",
              "      <td>60</td>\n",
              "      <td>64</td>\n",
              "      <td>67</td>\n",
              "      <td>64</td>\n",
              "      <td>59</td>\n",
              "      <td>7</td>\n",
              "      <td>14</td>\n",
              "      <td>13</td>\n",
              "      <td>9</td>\n",
              "      <td>9</td>\n",
              "    </tr>\n",
              "    <tr>\n",
              "      <th>1</th>\n",
              "      <td>1</td>\n",
              "      <td>25</td>\n",
              "      <td>def</td>\n",
              "      <td>450000</td>\n",
              "      <td>3200</td>\n",
              "      <td>2024</td>\n",
              "      <td>56</td>\n",
              "      <td>54</td>\n",
              "      <td>58</td>\n",
              "      <td>57</td>\n",
              "      <td>...</td>\n",
              "      <td>40</td>\n",
              "      <td>47</td>\n",
              "      <td>20</td>\n",
              "      <td>32</td>\n",
              "      <td>30</td>\n",
              "      <td>11</td>\n",
              "      <td>7</td>\n",
              "      <td>10</td>\n",
              "      <td>6</td>\n",
              "      <td>10</td>\n",
              "    </tr>\n",
              "    <tr>\n",
              "      <th>2</th>\n",
              "      <td>1</td>\n",
              "      <td>30</td>\n",
              "      <td>def</td>\n",
              "      <td>1400000</td>\n",
              "      <td>9100</td>\n",
              "      <td>2023</td>\n",
              "      <td>63</td>\n",
              "      <td>64</td>\n",
              "      <td>60</td>\n",
              "      <td>72</td>\n",
              "      <td>...</td>\n",
              "      <td>58</td>\n",
              "      <td>52</td>\n",
              "      <td>54</td>\n",
              "      <td>38</td>\n",
              "      <td>38</td>\n",
              "      <td>11</td>\n",
              "      <td>10</td>\n",
              "      <td>16</td>\n",
              "      <td>7</td>\n",
              "      <td>10</td>\n",
              "    </tr>\n",
              "    <tr>\n",
              "      <th>3</th>\n",
              "      <td>1</td>\n",
              "      <td>25</td>\n",
              "      <td>def</td>\n",
              "      <td>375000</td>\n",
              "      <td>1800</td>\n",
              "      <td>2023</td>\n",
              "      <td>32</td>\n",
              "      <td>32</td>\n",
              "      <td>65</td>\n",
              "      <td>57</td>\n",
              "      <td>...</td>\n",
              "      <td>31</td>\n",
              "      <td>41</td>\n",
              "      <td>37</td>\n",
              "      <td>49</td>\n",
              "      <td>39</td>\n",
              "      <td>11</td>\n",
              "      <td>10</td>\n",
              "      <td>10</td>\n",
              "      <td>12</td>\n",
              "      <td>8</td>\n",
              "    </tr>\n",
              "    <tr>\n",
              "      <th>4</th>\n",
              "      <td>0</td>\n",
              "      <td>19</td>\n",
              "      <td>def</td>\n",
              "      <td>250000</td>\n",
              "      <td>1800</td>\n",
              "      <td>2021</td>\n",
              "      <td>52</td>\n",
              "      <td>53</td>\n",
              "      <td>50</td>\n",
              "      <td>53</td>\n",
              "      <td>...</td>\n",
              "      <td>41</td>\n",
              "      <td>38</td>\n",
              "      <td>28</td>\n",
              "      <td>30</td>\n",
              "      <td>38</td>\n",
              "      <td>6</td>\n",
              "      <td>13</td>\n",
              "      <td>14</td>\n",
              "      <td>9</td>\n",
              "      <td>12</td>\n",
              "    </tr>\n",
              "  </tbody>\n",
              "</table>\n",
              "<p>5 rows × 40 columns</p>\n",
              "</div>\n",
              "      <button class=\"colab-df-convert\" onclick=\"convertToInteractive('df-dee36dcf-1506-4d8a-a929-c1022ae27480')\"\n",
              "              title=\"Convert this dataframe to an interactive table.\"\n",
              "              style=\"display:none;\">\n",
              "        \n",
              "  <svg xmlns=\"http://www.w3.org/2000/svg\" height=\"24px\"viewBox=\"0 0 24 24\"\n",
              "       width=\"24px\">\n",
              "    <path d=\"M0 0h24v24H0V0z\" fill=\"none\"/>\n",
              "    <path d=\"M18.56 5.44l.94 2.06.94-2.06 2.06-.94-2.06-.94-.94-2.06-.94 2.06-2.06.94zm-11 1L8.5 8.5l.94-2.06 2.06-.94-2.06-.94L8.5 2.5l-.94 2.06-2.06.94zm10 10l.94 2.06.94-2.06 2.06-.94-2.06-.94-.94-2.06-.94 2.06-2.06.94z\"/><path d=\"M17.41 7.96l-1.37-1.37c-.4-.4-.92-.59-1.43-.59-.52 0-1.04.2-1.43.59L10.3 9.45l-7.72 7.72c-.78.78-.78 2.05 0 2.83L4 21.41c.39.39.9.59 1.41.59.51 0 1.02-.2 1.41-.59l7.78-7.78 2.81-2.81c.8-.78.8-2.07 0-2.86zM5.41 20L4 18.59l7.72-7.72 1.47 1.35L5.41 20z\"/>\n",
              "  </svg>\n",
              "      </button>\n",
              "      \n",
              "  <style>\n",
              "    .colab-df-container {\n",
              "      display:flex;\n",
              "      flex-wrap:wrap;\n",
              "      gap: 12px;\n",
              "    }\n",
              "\n",
              "    .colab-df-convert {\n",
              "      background-color: #E8F0FE;\n",
              "      border: none;\n",
              "      border-radius: 50%;\n",
              "      cursor: pointer;\n",
              "      display: none;\n",
              "      fill: #1967D2;\n",
              "      height: 32px;\n",
              "      padding: 0 0 0 0;\n",
              "      width: 32px;\n",
              "    }\n",
              "\n",
              "    .colab-df-convert:hover {\n",
              "      background-color: #E2EBFA;\n",
              "      box-shadow: 0px 1px 2px rgba(60, 64, 67, 0.3), 0px 1px 3px 1px rgba(60, 64, 67, 0.15);\n",
              "      fill: #174EA6;\n",
              "    }\n",
              "\n",
              "    [theme=dark] .colab-df-convert {\n",
              "      background-color: #3B4455;\n",
              "      fill: #D2E3FC;\n",
              "    }\n",
              "\n",
              "    [theme=dark] .colab-df-convert:hover {\n",
              "      background-color: #434B5C;\n",
              "      box-shadow: 0px 1px 3px 1px rgba(0, 0, 0, 0.15);\n",
              "      filter: drop-shadow(0px 1px 2px rgba(0, 0, 0, 0.3));\n",
              "      fill: #FFFFFF;\n",
              "    }\n",
              "  </style>\n",
              "\n",
              "      <script>\n",
              "        const buttonEl =\n",
              "          document.querySelector('#df-dee36dcf-1506-4d8a-a929-c1022ae27480 button.colab-df-convert');\n",
              "        buttonEl.style.display =\n",
              "          google.colab.kernel.accessAllowed ? 'block' : 'none';\n",
              "\n",
              "        async function convertToInteractive(key) {\n",
              "          const element = document.querySelector('#df-dee36dcf-1506-4d8a-a929-c1022ae27480');\n",
              "          const dataTable =\n",
              "            await google.colab.kernel.invokeFunction('convertToInteractive',\n",
              "                                                     [key], {});\n",
              "          if (!dataTable) return;\n",
              "\n",
              "          const docLinkHtml = 'Like what you see? Visit the ' +\n",
              "            '<a target=\"_blank\" href=https://colab.research.google.com/notebooks/data_table.ipynb>data table notebook</a>'\n",
              "            + ' to learn more about interactive tables.';\n",
              "          element.innerHTML = '';\n",
              "          dataTable['output_type'] = 'display_data';\n",
              "          await google.colab.output.renderOutput(dataTable, element);\n",
              "          const docLink = document.createElement('div');\n",
              "          docLink.innerHTML = docLinkHtml;\n",
              "          element.appendChild(docLink);\n",
              "        }\n",
              "      </script>\n",
              "    </div>\n",
              "  </div>\n",
              "  "
            ]
          },
          "metadata": {},
          "execution_count": 6
        }
      ]
    },
    {
      "cell_type": "code",
      "source": [
        "X=df.drop('PreferredPositions',axis=1)\n",
        "y=df.PreferredPositions"
      ],
      "metadata": {
        "id": "zC2qiBcANkI9"
      },
      "execution_count": null,
      "outputs": []
    },
    {
      "cell_type": "code",
      "source": [
        "from sklearn.model_selection import train_test_split\n",
        "X_test,X_train,y_test,y_train=train_test_split(X,y, test_size=0.7,random_state=42)"
      ],
      "metadata": {
        "id": "aDZS13u1CaPG"
      },
      "execution_count": null,
      "outputs": []
    },
    {
      "cell_type": "code",
      "source": [
        "print(X_test.shape, y_test.shape)\n",
        "print(X_train.shape, y_train.shape)"
      ],
      "metadata": {
        "colab": {
          "base_uri": "https://localhost:8080/"
        },
        "id": "PYqUTIKqEK_f",
        "outputId": "6028ec27-60d0-4530-decd-a924753227d3"
      },
      "execution_count": null,
      "outputs": [
        {
          "output_type": "stream",
          "name": "stdout",
          "text": [
            "(3000, 39) (3000,)\n",
            "(7003, 39) (7003,)\n"
          ]
        }
      ]
    },
    {
      "cell_type": "code",
      "source": [
        "from sklearn.linear_model import LogisticRegression\n",
        "from sklearn.preprocessing import StandardScaler\n",
        "from sklearn.decomposition import PCA"
      ],
      "metadata": {
        "id": "6tvCfRSKGc62"
      },
      "execution_count": null,
      "outputs": []
    },
    {
      "cell_type": "code",
      "source": [
        "from sklearn.pipeline import Pipeline\n",
        "pipe = Pipeline([('pca', PCA(n_components = X_train.shape[1])), ('std', StandardScaler()), ('Logistic Regression', LogisticRegression())], verbose = True)"
      ],
      "metadata": {
        "id": "AARwfip7EGJZ"
      },
      "execution_count": null,
      "outputs": []
    },
    {
      "cell_type": "code",
      "source": [
        "pipe.fit(X_train, y_train)"
      ],
      "metadata": {
        "colab": {
          "base_uri": "https://localhost:8080/"
        },
        "id": "5caRE0J5GrFB",
        "outputId": "973d74b1-163c-43d1-fefd-fdb2b9a3cb10"
      },
      "execution_count": null,
      "outputs": [
        {
          "output_type": "stream",
          "name": "stdout",
          "text": [
            "[Pipeline] ............... (step 1 of 3) Processing pca, total=   0.0s\n",
            "[Pipeline] ............... (step 2 of 3) Processing std, total=   0.0s\n",
            "[Pipeline]  (step 3 of 3) Processing Logistic Regression, total=   0.4s\n"
          ]
        },
        {
          "output_type": "execute_result",
          "data": {
            "text/plain": [
              "Pipeline(steps=[('pca', PCA(n_components=39)), ('std', StandardScaler()),\n",
              "                ('Logistic Regression', LogisticRegression())],\n",
              "         verbose=True)"
            ]
          },
          "metadata": {},
          "execution_count": 53
        }
      ]
    },
    {
      "cell_type": "code",
      "source": [
        "from sklearn.metrics import confusion_matrix\n",
        "from sklearn.metrics import classification_report\n",
        "from sklearn.metrics import accuracy_score\n",
        "predictions=pipe.predict(X_test)\n",
        "print(accuracy_score(y_test, predictions))\n",
        "print(confusion_matrix(y_test, predictions))\n",
        "print(classification_report(y_test, predictions))"
      ],
      "metadata": {
        "colab": {
          "base_uri": "https://localhost:8080/"
        },
        "id": "WDN1fgswG5Fd",
        "outputId": "a8aeb1e8-8083-47c5-c81a-aaedf616552f"
      },
      "execution_count": null,
      "outputs": [
        {
          "output_type": "stream",
          "name": "stdout",
          "text": [
            "0.9556666666666667\n",
            "[[ 417    0    0    0]\n",
            " [   0  329    0   14]\n",
            " [   0    0  929   39]\n",
            " [   0   19   61 1192]]\n",
            "              precision    recall  f1-score   support\n",
            "\n",
            "          GK       1.00      1.00      1.00       417\n",
            "         att       0.95      0.96      0.95       343\n",
            "         def       0.94      0.96      0.95       968\n",
            "         mid       0.96      0.94      0.95      1272\n",
            "\n",
            "    accuracy                           0.96      3000\n",
            "   macro avg       0.96      0.96      0.96      3000\n",
            "weighted avg       0.96      0.96      0.96      3000\n",
            "\n"
          ]
        }
      ]
    },
    {
      "cell_type": "code",
      "source": [
        "from sklearn.model_selection import KFold, cross_val_score\n",
        "kf = KFold(n_splits=6, shuffle=True, random_state=5)\n",
        "cv_scores = cross_val_score(pipe, X, y, cv=kf)\n",
        "print(cv_scores)"
      ],
      "metadata": {
        "colab": {
          "base_uri": "https://localhost:8080/"
        },
        "id": "FCNthyo2MuUK",
        "outputId": "6d548699-2335-455e-fefe-dba333a2684c"
      },
      "execution_count": null,
      "outputs": [
        {
          "output_type": "stream",
          "name": "stdout",
          "text": [
            "[Pipeline] ............... (step 1 of 3) Processing pca, total=   0.0s\n",
            "[Pipeline] ............... (step 2 of 3) Processing std, total=   0.0s\n",
            "[Pipeline]  (step 3 of 3) Processing Logistic Regression, total=   0.5s\n",
            "[Pipeline] ............... (step 1 of 3) Processing pca, total=   0.0s\n",
            "[Pipeline] ............... (step 2 of 3) Processing std, total=   0.0s\n",
            "[Pipeline]  (step 3 of 3) Processing Logistic Regression, total=   0.5s\n",
            "[Pipeline] ............... (step 1 of 3) Processing pca, total=   0.0s\n",
            "[Pipeline] ............... (step 2 of 3) Processing std, total=   0.0s\n",
            "[Pipeline]  (step 3 of 3) Processing Logistic Regression, total=   0.6s\n",
            "[Pipeline] ............... (step 1 of 3) Processing pca, total=   0.0s\n",
            "[Pipeline] ............... (step 2 of 3) Processing std, total=   0.0s\n",
            "[Pipeline]  (step 3 of 3) Processing Logistic Regression, total=   0.5s\n",
            "[Pipeline] ............... (step 1 of 3) Processing pca, total=   0.0s\n",
            "[Pipeline] ............... (step 2 of 3) Processing std, total=   0.0s\n",
            "[Pipeline]  (step 3 of 3) Processing Logistic Regression, total=   1.0s\n",
            "[Pipeline] ............... (step 1 of 3) Processing pca, total=   0.0s\n",
            "[Pipeline] ............... (step 2 of 3) Processing std, total=   0.0s\n",
            "[Pipeline]  (step 3 of 3) Processing Logistic Regression, total=   0.9s\n",
            "[0.95743405 0.96460708 0.9610078  0.95980804 0.96520696 0.96160768]\n"
          ]
        }
      ]
    },
    {
      "cell_type": "code",
      "source": [
        "cv_scores.mean()/accuracy_score(y_test, predictions) # NOT OVERFITTING"
      ],
      "metadata": {
        "colab": {
          "base_uri": "https://localhost:8080/"
        },
        "id": "fwCJs3U7M4AI",
        "outputId": "0b7d8947-3c8f-4574-c7f9-cd212a1de1ed"
      },
      "execution_count": null,
      "outputs": [
        {
          "output_type": "execute_result",
          "data": {
            "text/plain": [
              "1.0062210682328734"
            ]
          },
          "metadata": {},
          "execution_count": 56
        }
      ]
    },
    {
      "cell_type": "code",
      "source": [
        "import xgboost as xgb\n",
        "import numpy as np"
      ],
      "metadata": {
        "id": "l5hrxQsaNiGC"
      },
      "execution_count": null,
      "outputs": []
    },
    {
      "cell_type": "code",
      "source": [
        "xg_cl = xgb.XGBClassifier(objective='binary:logistic', n_estimators=10, seed=42)\n",
        "xg_cl.fit(X_train, y_train)\n",
        "preds = xg_cl.predict(X_test)\n",
        "accuracy = float(np.sum(preds==y_test))/y_test.shape[0]\n",
        "print(\"accuracy: %f\" % (accuracy))"
      ],
      "metadata": {
        "colab": {
          "base_uri": "https://localhost:8080/"
        },
        "id": "5Q_CgAX-OezX",
        "outputId": "0a22593c-c84b-454a-ee9a-1b31adcf28bf"
      },
      "execution_count": null,
      "outputs": [
        {
          "output_type": "stream",
          "name": "stdout",
          "text": [
            "accuracy: 0.909667\n"
          ]
        }
      ]
    },
    {
      "cell_type": "code",
      "source": [
        "from sklearn.model_selection import GridSearchCV\n",
        "from sklearn.linear_model import RidgeClassifier\n",
        "kf = KFold(n_splits=5, shuffle=True, random_state=42)\n",
        "param_grid = {\"alpha\": np.arange(0.0001, 1, 10),\"solver\": [\"sag\",\"lsqr\"]}\n",
        "ridge = RidgeClassifier()\n",
        "pipe = Pipeline([('pca', PCA(n_components = X_train.shape[1])), ('std', StandardScaler()), ('Logistic Regression', LogisticRegression())], verbose = True)\n",
        "ridge_cv = GridSearchCV(ridge, param_grid, cv=kf)\n",
        "ridge_cv.fit(X_train, y_train)\n",
        "print(ridge_cv.best_params_, ridge_cv.best_score_)"
      ],
      "metadata": {
        "colab": {
          "base_uri": "https://localhost:8080/"
        },
        "id": "bp-YLh7jhKYK",
        "outputId": "51cddf74-3d10-4eab-dc95-6ff904f01857"
      },
      "execution_count": null,
      "outputs": [
        {
          "output_type": "stream",
          "name": "stdout",
          "text": [
            "{'alpha': 0.0001, 'solver': 'sag'} 0.4201095136127256\n"
          ]
        }
      ]
    },
    {
      "cell_type": "code",
      "source": [
        "from sklearn.pipeline import make_pipeline\n",
        "clf = make_pipeline(StandardScaler(), \n",
        "                    GridSearchCV(LogisticRegression(),\n",
        "                                 param_grid={'C': [0.1, 10.]},\n",
        "                                 cv=2,\n",
        "                                 refit=True))\n",
        "\n",
        "clf.fit(X_train,y_train)\n",
        "predictions=clf.predict(X_test)"
      ],
      "metadata": {
        "colab": {
          "base_uri": "https://localhost:8080/"
        },
        "id": "JuhDQkFXjj_V",
        "outputId": "6169368d-e01e-41ef-c0e5-473dc01bddf6"
      },
      "execution_count": null,
      "outputs": [
        {
          "output_type": "stream",
          "name": "stderr",
          "text": [
            "/usr/local/lib/python3.7/dist-packages/sklearn/linear_model/_logistic.py:818: ConvergenceWarning: lbfgs failed to converge (status=1):\n",
            "STOP: TOTAL NO. of ITERATIONS REACHED LIMIT.\n",
            "\n",
            "Increase the number of iterations (max_iter) or scale the data as shown in:\n",
            "    https://scikit-learn.org/stable/modules/preprocessing.html\n",
            "Please also refer to the documentation for alternative solver options:\n",
            "    https://scikit-learn.org/stable/modules/linear_model.html#logistic-regression\n",
            "  extra_warning_msg=_LOGISTIC_SOLVER_CONVERGENCE_MSG,\n",
            "/usr/local/lib/python3.7/dist-packages/sklearn/linear_model/_logistic.py:818: ConvergenceWarning: lbfgs failed to converge (status=1):\n",
            "STOP: TOTAL NO. of ITERATIONS REACHED LIMIT.\n",
            "\n",
            "Increase the number of iterations (max_iter) or scale the data as shown in:\n",
            "    https://scikit-learn.org/stable/modules/preprocessing.html\n",
            "Please also refer to the documentation for alternative solver options:\n",
            "    https://scikit-learn.org/stable/modules/linear_model.html#logistic-regression\n",
            "  extra_warning_msg=_LOGISTIC_SOLVER_CONVERGENCE_MSG,\n",
            "/usr/local/lib/python3.7/dist-packages/sklearn/linear_model/_logistic.py:818: ConvergenceWarning: lbfgs failed to converge (status=1):\n",
            "STOP: TOTAL NO. of ITERATIONS REACHED LIMIT.\n",
            "\n",
            "Increase the number of iterations (max_iter) or scale the data as shown in:\n",
            "    https://scikit-learn.org/stable/modules/preprocessing.html\n",
            "Please also refer to the documentation for alternative solver options:\n",
            "    https://scikit-learn.org/stable/modules/linear_model.html#logistic-regression\n",
            "  extra_warning_msg=_LOGISTIC_SOLVER_CONVERGENCE_MSG,\n"
          ]
        }
      ]
    },
    {
      "cell_type": "code",
      "source": [
        "print(accuracy_score(y_test, predictions))"
      ],
      "metadata": {
        "colab": {
          "base_uri": "https://localhost:8080/"
        },
        "id": "Ckb43fuqkZ0f",
        "outputId": "d7d420d7-ba22-458e-bb93-489b86142daf"
      },
      "execution_count": null,
      "outputs": [
        {
          "output_type": "stream",
          "name": "stdout",
          "text": [
            "0.956\n"
          ]
        }
      ]
    },
    {
      "cell_type": "code",
      "source": [
        "pipe3 = Pipeline([('pca', PCA(n_components = X_train.shape[1])), ('std', StandardScaler()), ('xgb', xgb.XGBClassifier())], verbose = True)"
      ],
      "metadata": {
        "id": "joqDB-HAALwF"
      },
      "execution_count": null,
      "outputs": []
    },
    {
      "cell_type": "code",
      "source": [
        "from sklearn.model_selection import RandomizedSearchCV\n",
        "gbm_param_grid = {\n",
        "    'xgb__learning_rate': np.arange(.05, 1, .05),\n",
        "    'xgb__max_depth': np.arange(3,10, 1),\n",
        "    'xgb__n_estimators': np.arange(10, 200, 50)\n",
        "}\n",
        "\n",
        "# Perform RandomizedSearchCV\n",
        "randomized_roc_auc = RandomizedSearchCV(estimator=pipe3,\n",
        "                                        param_distributions=gbm_param_grid,\n",
        "                                        n_iter=2, scoring='roc_auc', cv=2, verbose=1)\n",
        "\n",
        "# Fit the estimator\n",
        "randomized_roc_auc.fit(X_train, y_train)\n",
        "\n",
        "# Compute metrics\n",
        "print(randomized_roc_auc.best_score_)\n",
        "print(randomized_roc_auc.best_estimator_)"
      ],
      "metadata": {
        "colab": {
          "base_uri": "https://localhost:8080/"
        },
        "id": "Tn4URKgn_eH0",
        "outputId": "80a19aba-0246-4210-c9e9-3868b95f0a3d"
      },
      "execution_count": null,
      "outputs": [
        {
          "output_type": "stream",
          "name": "stdout",
          "text": [
            "Fitting 2 folds for each of 2 candidates, totalling 4 fits\n",
            "[Pipeline] ............... (step 1 of 3) Processing pca, total=   0.0s\n",
            "[Pipeline] ............... (step 2 of 3) Processing std, total=   0.0s\n",
            "[Pipeline] ............... (step 3 of 3) Processing xgb, total=   2.3s\n",
            "[Pipeline] ............... (step 1 of 3) Processing pca, total=   0.0s\n",
            "[Pipeline] ............... (step 2 of 3) Processing std, total=   0.0s\n"
          ]
        },
        {
          "output_type": "stream",
          "name": "stderr",
          "text": [
            "/usr/local/lib/python3.7/dist-packages/sklearn/model_selection/_validation.py:774: UserWarning: Scoring failed. The score on this train-test partition for these parameters will be set to nan. Details: \n",
            "Traceback (most recent call last):\n",
            "  File \"/usr/local/lib/python3.7/dist-packages/sklearn/model_selection/_validation.py\", line 761, in _score\n",
            "    scores = scorer(estimator, X_test, y_test)\n",
            "  File \"/usr/local/lib/python3.7/dist-packages/sklearn/metrics/_scorer.py\", line 221, in __call__\n",
            "    sample_weight=sample_weight,\n",
            "  File \"/usr/local/lib/python3.7/dist-packages/sklearn/metrics/_scorer.py\", line 349, in _score\n",
            "    raise ValueError(\"{0} format is not supported\".format(y_type))\n",
            "ValueError: multiclass format is not supported\n",
            "\n",
            "  UserWarning,\n"
          ]
        },
        {
          "output_type": "stream",
          "name": "stdout",
          "text": [
            "[Pipeline] ............... (step 3 of 3) Processing xgb, total=   2.4s\n",
            "[Pipeline] ............... (step 1 of 3) Processing pca, total=   0.0s\n",
            "[Pipeline] ............... (step 2 of 3) Processing std, total=   0.0s\n"
          ]
        },
        {
          "output_type": "stream",
          "name": "stderr",
          "text": [
            "/usr/local/lib/python3.7/dist-packages/sklearn/model_selection/_validation.py:774: UserWarning: Scoring failed. The score on this train-test partition for these parameters will be set to nan. Details: \n",
            "Traceback (most recent call last):\n",
            "  File \"/usr/local/lib/python3.7/dist-packages/sklearn/model_selection/_validation.py\", line 761, in _score\n",
            "    scores = scorer(estimator, X_test, y_test)\n",
            "  File \"/usr/local/lib/python3.7/dist-packages/sklearn/metrics/_scorer.py\", line 221, in __call__\n",
            "    sample_weight=sample_weight,\n",
            "  File \"/usr/local/lib/python3.7/dist-packages/sklearn/metrics/_scorer.py\", line 349, in _score\n",
            "    raise ValueError(\"{0} format is not supported\".format(y_type))\n",
            "ValueError: multiclass format is not supported\n",
            "\n",
            "  UserWarning,\n"
          ]
        },
        {
          "output_type": "stream",
          "name": "stdout",
          "text": [
            "[Pipeline] ............... (step 3 of 3) Processing xgb, total=   2.6s\n",
            "[Pipeline] ............... (step 1 of 3) Processing pca, total=   0.0s\n",
            "[Pipeline] ............... (step 2 of 3) Processing std, total=   0.0s\n"
          ]
        },
        {
          "output_type": "stream",
          "name": "stderr",
          "text": [
            "/usr/local/lib/python3.7/dist-packages/sklearn/model_selection/_validation.py:774: UserWarning: Scoring failed. The score on this train-test partition for these parameters will be set to nan. Details: \n",
            "Traceback (most recent call last):\n",
            "  File \"/usr/local/lib/python3.7/dist-packages/sklearn/model_selection/_validation.py\", line 761, in _score\n",
            "    scores = scorer(estimator, X_test, y_test)\n",
            "  File \"/usr/local/lib/python3.7/dist-packages/sklearn/metrics/_scorer.py\", line 221, in __call__\n",
            "    sample_weight=sample_weight,\n",
            "  File \"/usr/local/lib/python3.7/dist-packages/sklearn/metrics/_scorer.py\", line 349, in _score\n",
            "    raise ValueError(\"{0} format is not supported\".format(y_type))\n",
            "ValueError: multiclass format is not supported\n",
            "\n",
            "  UserWarning,\n"
          ]
        },
        {
          "output_type": "stream",
          "name": "stdout",
          "text": [
            "[Pipeline] ............... (step 3 of 3) Processing xgb, total=   2.6s\n",
            "[Pipeline] ............... (step 1 of 3) Processing pca, total=   0.0s\n",
            "[Pipeline] ............... (step 2 of 3) Processing std, total=   0.0s\n"
          ]
        },
        {
          "output_type": "stream",
          "name": "stderr",
          "text": [
            "/usr/local/lib/python3.7/dist-packages/sklearn/model_selection/_validation.py:774: UserWarning: Scoring failed. The score on this train-test partition for these parameters will be set to nan. Details: \n",
            "Traceback (most recent call last):\n",
            "  File \"/usr/local/lib/python3.7/dist-packages/sklearn/model_selection/_validation.py\", line 761, in _score\n",
            "    scores = scorer(estimator, X_test, y_test)\n",
            "  File \"/usr/local/lib/python3.7/dist-packages/sklearn/metrics/_scorer.py\", line 221, in __call__\n",
            "    sample_weight=sample_weight,\n",
            "  File \"/usr/local/lib/python3.7/dist-packages/sklearn/metrics/_scorer.py\", line 349, in _score\n",
            "    raise ValueError(\"{0} format is not supported\".format(y_type))\n",
            "ValueError: multiclass format is not supported\n",
            "\n",
            "  UserWarning,\n",
            "/usr/local/lib/python3.7/dist-packages/sklearn/model_selection/_search.py:972: UserWarning: One or more of the test scores are non-finite: [nan nan]\n",
            "  category=UserWarning,\n"
          ]
        },
        {
          "output_type": "stream",
          "name": "stdout",
          "text": [
            "[Pipeline] ............... (step 3 of 3) Processing xgb, total=   5.7s\n",
            "nan\n",
            "Pipeline(steps=[('pca', PCA(n_components=39)), ('std', StandardScaler()),\n",
            "                ('xgb',\n",
            "                 XGBClassifier(learning_rate=0.35000000000000003, max_depth=9,\n",
            "                               n_estimators=60, objective='multi:softprob'))],\n",
            "         verbose=True)\n"
          ]
        }
      ]
    },
    {
      "cell_type": "code",
      "source": [
        "predictions=randomized_roc_auc.predict(X_test)\n",
        "print(accuracy_score(y_test, predictions))"
      ],
      "metadata": {
        "colab": {
          "base_uri": "https://localhost:8080/"
        },
        "id": "qyNfmlROLNpg",
        "outputId": "2a657a98-3370-4a41-df8c-c0d561c328a9"
      },
      "execution_count": null,
      "outputs": [
        {
          "output_type": "stream",
          "name": "stdout",
          "text": [
            "0.9573333333333334\n"
          ]
        }
      ]
    },
    {
      "cell_type": "code",
      "source": [
        "from sklearn.model_selection import GridSearchCV\n",
        "eval_set=[(X_test, y_test)]\n",
        "PARAMETERS = {\"subsample\":[0.5, 0.75, 1],\"colsample_bytree\":[0.5, 0.75, 1],\"max_depth\":[2, 6, 12],\n",
        "              \"min_child_weight\":[1,5,15],\n",
        "              \"learning_rate\":[0.3, 0.1, 0.03],\n",
        "              \"n_estimators\":[100]}\n",
        "\n",
        "\n",
        "model = xgb.XGBClassifier(n_estimators=100, n_jobs=-1)\n",
        "model_gs = GridSearchCV(model,param_grid=PARAMETERS,cv=3,scoring=\"accuracy\")\n",
        "model_gs.fit(X_train,y_train,early_stopping_rounds=10, eval_metric=\"merror\",eval_set=eval_set,verbose=0)\n",
        "\n",
        "print(model_gs.best_params_)"
      ],
      "metadata": {
        "colab": {
          "base_uri": "https://localhost:8080/"
        },
        "id": "tPy8q46iNUdz",
        "outputId": "7256466a-f933-49a0-ac92-84ff6048dedf"
      },
      "execution_count": null,
      "outputs": [
        {
          "output_type": "stream",
          "name": "stdout",
          "text": [
            "{'colsample_bytree': 0.5, 'learning_rate': 0.3, 'max_depth': 6, 'min_child_weight': 1, 'n_estimators': 100, 'subsample': 0.5}\n"
          ]
        }
      ]
    },
    {
      "cell_type": "code",
      "source": [
        "predictions=model_gs.predict(X_test)\n",
        "print(accuracy_score(y_test, predictions))\n",
        "print(confusion_matrix(y_test, predictions))\n",
        "print(classification_report(y_test, predictions))\n",
        "#SLIGHTLY IMPROVED"
      ],
      "metadata": {
        "colab": {
          "base_uri": "https://localhost:8080/"
        },
        "id": "N7RzrS-wWqdV",
        "outputId": "36b636f5-3436-4305-c925-fc4ec789a414"
      },
      "execution_count": null,
      "outputs": [
        {
          "output_type": "stream",
          "name": "stdout",
          "text": [
            "0.965\n",
            "[[ 417    0    0    0]\n",
            " [   0  325    0   18]\n",
            " [   0    0  939   29]\n",
            " [   0   11   47 1214]]\n",
            "              precision    recall  f1-score   support\n",
            "\n",
            "          GK       1.00      1.00      1.00       417\n",
            "         att       0.97      0.95      0.96       343\n",
            "         def       0.95      0.97      0.96       968\n",
            "         mid       0.96      0.95      0.96      1272\n",
            "\n",
            "    accuracy                           0.96      3000\n",
            "   macro avg       0.97      0.97      0.97      3000\n",
            "weighted avg       0.97      0.96      0.96      3000\n",
            "\n"
          ]
        }
      ]
    },
    {
      "cell_type": "code",
      "source": [
        "X=X.to_numpy()\n",
        "y=y.to_numpy()"
      ],
      "metadata": {
        "id": "GZeQLeEGNcMt"
      },
      "execution_count": null,
      "outputs": []
    },
    {
      "cell_type": "code",
      "source": [
        "from sklearn.preprocessing import OneHotEncoder"
      ],
      "metadata": {
        "id": "jwjUiquyjfPD"
      },
      "execution_count": null,
      "outputs": []
    },
    {
      "cell_type": "code",
      "source": [
        "y=y.reshape(-1, 1)\n",
        "encoder = OneHotEncoder(sparse=False)\n",
        "y = encoder.fit_transform(y)"
      ],
      "metadata": {
        "id": "xHdQKQskTGDe"
      },
      "execution_count": null,
      "outputs": []
    },
    {
      "cell_type": "code",
      "source": [
        "from keras.models import Sequential \n",
        "from keras.layers import Dense,Activation,Dropout,Flatten\n",
        "from tensorflow.keras.layers import BatchNormalization\n",
        "from keras.utils import np_utils\n",
        "from tensorflow.keras.optimizers import Adam"
      ],
      "metadata": {
        "id": "Vj-C892kkJWo"
      },
      "execution_count": null,
      "outputs": []
    },
    {
      "cell_type": "code",
      "source": [
        "train_x, test_x, train_y, test_y = train_test_split(X_scaled, y, test_size=0.20)\n",
        "# Build the model\n",
        "model = Sequential()\n",
        "model.add(Dense(10, input_shape=(39,), activation='relu', name='fc1'))\n",
        "model.add(Dense(10, activation='relu', name='fc2'))\n",
        "model.add(Dense(4, activation='softmax', name='output'))\n",
        "# Adam optimizer with learning rate of 0.001\n",
        "optimizer = Adam(lr=0.001)\n",
        "model.compile(optimizer, loss='categorical_crossentropy', metrics=['accuracy'])\n",
        "print('Neural Network Model Summary: ')\n",
        "print(model.summary())\n",
        "# Train the model\n",
        "model.fit(train_x, train_y, verbose=2, batch_size=5, epochs=100)\n",
        "# Test on unseen data\n",
        "results = model.evaluate(test_x, test_y)\n",
        "print('Final test set loss: {:4f}'.format(results[0]))\n",
        "print('Final test set accuracy: {:4f}'.format(results[1]))"
      ],
      "metadata": {
        "colab": {
          "base_uri": "https://localhost:8080/"
        },
        "id": "G3jc9dDxbYTr",
        "outputId": "7d4eaeac-8f28-4785-a651-46bf2ce7b157"
      },
      "execution_count": null,
      "outputs": [
        {
          "output_type": "stream",
          "name": "stdout",
          "text": [
            "Neural Network Model Summary: \n",
            "Model: \"sequential_8\"\n",
            "_________________________________________________________________\n",
            " Layer (type)                Output Shape              Param #   \n",
            "=================================================================\n",
            " fc1 (Dense)                 (None, 10)                400       \n",
            "                                                                 \n",
            " fc2 (Dense)                 (None, 10)                110       \n",
            "                                                                 \n",
            " output (Dense)              (None, 4)                 44        \n",
            "                                                                 \n",
            "=================================================================\n",
            "Total params: 554\n",
            "Trainable params: 554\n",
            "Non-trainable params: 0\n",
            "_________________________________________________________________\n"
          ]
        },
        {
          "output_type": "stream",
          "name": "stderr",
          "text": [
            "/usr/local/lib/python3.7/dist-packages/keras/optimizers/optimizer_v2/adam.py:110: UserWarning: The `lr` argument is deprecated, use `learning_rate` instead.\n",
            "  super(Adam, self).__init__(name, **kwargs)\n"
          ]
        },
        {
          "output_type": "stream",
          "name": "stdout",
          "text": [
            "None\n",
            "Epoch 1/100\n",
            "1601/1601 - 3s - loss: 0.5365 - accuracy: 0.7856 - 3s/epoch - 2ms/step\n",
            "Epoch 2/100\n",
            "1601/1601 - 2s - loss: 0.2207 - accuracy: 0.9093 - 2s/epoch - 1ms/step\n",
            "Epoch 3/100\n",
            "1601/1601 - 2s - loss: 0.1798 - accuracy: 0.9283 - 2s/epoch - 1ms/step\n",
            "Epoch 4/100\n",
            "1601/1601 - 2s - loss: 0.1549 - accuracy: 0.9389 - 2s/epoch - 1ms/step\n",
            "Epoch 5/100\n",
            "1601/1601 - 2s - loss: 0.1416 - accuracy: 0.9459 - 2s/epoch - 1ms/step\n",
            "Epoch 6/100\n",
            "1601/1601 - 2s - loss: 0.1319 - accuracy: 0.9478 - 2s/epoch - 1ms/step\n",
            "Epoch 7/100\n",
            "1601/1601 - 2s - loss: 0.1260 - accuracy: 0.9523 - 2s/epoch - 1ms/step\n",
            "Epoch 8/100\n",
            "1601/1601 - 2s - loss: 0.1216 - accuracy: 0.9551 - 2s/epoch - 1ms/step\n",
            "Epoch 9/100\n",
            "1601/1601 - 2s - loss: 0.1194 - accuracy: 0.9538 - 2s/epoch - 1ms/step\n",
            "Epoch 10/100\n",
            "1601/1601 - 2s - loss: 0.1197 - accuracy: 0.9538 - 2s/epoch - 1ms/step\n",
            "Epoch 11/100\n",
            "1601/1601 - 2s - loss: 0.1143 - accuracy: 0.9569 - 2s/epoch - 1ms/step\n",
            "Epoch 12/100\n",
            "1601/1601 - 2s - loss: 0.1136 - accuracy: 0.9549 - 2s/epoch - 1ms/step\n",
            "Epoch 13/100\n",
            "1601/1601 - 2s - loss: 0.1138 - accuracy: 0.9558 - 2s/epoch - 1ms/step\n",
            "Epoch 14/100\n",
            "1601/1601 - 2s - loss: 0.1118 - accuracy: 0.9583 - 2s/epoch - 1ms/step\n",
            "Epoch 15/100\n",
            "1601/1601 - 2s - loss: 0.1112 - accuracy: 0.9578 - 2s/epoch - 1ms/step\n",
            "Epoch 16/100\n",
            "1601/1601 - 2s - loss: 0.1094 - accuracy: 0.9600 - 2s/epoch - 1ms/step\n",
            "Epoch 17/100\n",
            "1601/1601 - 2s - loss: 0.1111 - accuracy: 0.9571 - 2s/epoch - 1ms/step\n",
            "Epoch 18/100\n",
            "1601/1601 - 2s - loss: 0.1076 - accuracy: 0.9604 - 2s/epoch - 1ms/step\n",
            "Epoch 19/100\n",
            "1601/1601 - 2s - loss: 0.1076 - accuracy: 0.9600 - 2s/epoch - 1ms/step\n",
            "Epoch 20/100\n",
            "1601/1601 - 2s - loss: 0.1080 - accuracy: 0.9591 - 2s/epoch - 1ms/step\n",
            "Epoch 21/100\n",
            "1601/1601 - 2s - loss: 0.1051 - accuracy: 0.9601 - 2s/epoch - 1ms/step\n",
            "Epoch 22/100\n",
            "1601/1601 - 2s - loss: 0.1048 - accuracy: 0.9614 - 2s/epoch - 1ms/step\n",
            "Epoch 23/100\n",
            "1601/1601 - 2s - loss: 0.1033 - accuracy: 0.9606 - 2s/epoch - 1ms/step\n",
            "Epoch 24/100\n",
            "1601/1601 - 2s - loss: 0.1027 - accuracy: 0.9621 - 2s/epoch - 1ms/step\n",
            "Epoch 25/100\n",
            "1601/1601 - 2s - loss: 0.1028 - accuracy: 0.9618 - 2s/epoch - 1ms/step\n",
            "Epoch 26/100\n",
            "1601/1601 - 2s - loss: 0.1015 - accuracy: 0.9606 - 2s/epoch - 1ms/step\n",
            "Epoch 27/100\n",
            "1601/1601 - 2s - loss: 0.1029 - accuracy: 0.9610 - 2s/epoch - 1ms/step\n",
            "Epoch 28/100\n",
            "1601/1601 - 2s - loss: 0.0993 - accuracy: 0.9644 - 2s/epoch - 1ms/step\n",
            "Epoch 29/100\n",
            "1601/1601 - 2s - loss: 0.0999 - accuracy: 0.9634 - 2s/epoch - 1ms/step\n",
            "Epoch 30/100\n",
            "1601/1601 - 2s - loss: 0.0993 - accuracy: 0.9625 - 2s/epoch - 1ms/step\n",
            "Epoch 31/100\n",
            "1601/1601 - 2s - loss: 0.0995 - accuracy: 0.9641 - 2s/epoch - 1ms/step\n",
            "Epoch 32/100\n",
            "1601/1601 - 2s - loss: 0.0997 - accuracy: 0.9626 - 2s/epoch - 1ms/step\n",
            "Epoch 33/100\n",
            "1601/1601 - 2s - loss: 0.0979 - accuracy: 0.9629 - 2s/epoch - 1ms/step\n",
            "Epoch 34/100\n",
            "1601/1601 - 2s - loss: 0.0994 - accuracy: 0.9623 - 2s/epoch - 1ms/step\n",
            "Epoch 35/100\n",
            "1601/1601 - 2s - loss: 0.0963 - accuracy: 0.9635 - 2s/epoch - 1ms/step\n",
            "Epoch 36/100\n",
            "1601/1601 - 2s - loss: 0.0990 - accuracy: 0.9623 - 2s/epoch - 1ms/step\n",
            "Epoch 37/100\n",
            "1601/1601 - 2s - loss: 0.0986 - accuracy: 0.9640 - 2s/epoch - 1ms/step\n",
            "Epoch 38/100\n",
            "1601/1601 - 2s - loss: 0.0974 - accuracy: 0.9636 - 2s/epoch - 1ms/step\n",
            "Epoch 39/100\n",
            "1601/1601 - 2s - loss: 0.0954 - accuracy: 0.9648 - 2s/epoch - 1ms/step\n",
            "Epoch 40/100\n",
            "1601/1601 - 2s - loss: 0.0974 - accuracy: 0.9625 - 2s/epoch - 1ms/step\n",
            "Epoch 41/100\n",
            "1601/1601 - 2s - loss: 0.0960 - accuracy: 0.9631 - 2s/epoch - 1ms/step\n",
            "Epoch 42/100\n",
            "1601/1601 - 2s - loss: 0.0944 - accuracy: 0.9666 - 2s/epoch - 1ms/step\n",
            "Epoch 43/100\n",
            "1601/1601 - 2s - loss: 0.0975 - accuracy: 0.9651 - 2s/epoch - 1ms/step\n",
            "Epoch 44/100\n",
            "1601/1601 - 2s - loss: 0.0971 - accuracy: 0.9639 - 2s/epoch - 1ms/step\n",
            "Epoch 45/100\n",
            "1601/1601 - 2s - loss: 0.0949 - accuracy: 0.9649 - 2s/epoch - 1ms/step\n",
            "Epoch 46/100\n",
            "1601/1601 - 2s - loss: 0.0957 - accuracy: 0.9641 - 2s/epoch - 1ms/step\n",
            "Epoch 47/100\n",
            "1601/1601 - 2s - loss: 0.0940 - accuracy: 0.9664 - 2s/epoch - 1ms/step\n",
            "Epoch 48/100\n",
            "1601/1601 - 2s - loss: 0.0943 - accuracy: 0.9653 - 2s/epoch - 1ms/step\n",
            "Epoch 49/100\n",
            "1601/1601 - 2s - loss: 0.0948 - accuracy: 0.9651 - 2s/epoch - 1ms/step\n",
            "Epoch 50/100\n",
            "1601/1601 - 2s - loss: 0.0954 - accuracy: 0.9625 - 2s/epoch - 1ms/step\n",
            "Epoch 51/100\n",
            "1601/1601 - 2s - loss: 0.0937 - accuracy: 0.9654 - 2s/epoch - 1ms/step\n",
            "Epoch 52/100\n",
            "1601/1601 - 2s - loss: 0.0949 - accuracy: 0.9630 - 2s/epoch - 1ms/step\n",
            "Epoch 53/100\n",
            "1601/1601 - 2s - loss: 0.0944 - accuracy: 0.9648 - 2s/epoch - 1ms/step\n",
            "Epoch 54/100\n",
            "1601/1601 - 2s - loss: 0.0941 - accuracy: 0.9650 - 2s/epoch - 1ms/step\n",
            "Epoch 55/100\n",
            "1601/1601 - 2s - loss: 0.0931 - accuracy: 0.9671 - 2s/epoch - 1ms/step\n",
            "Epoch 56/100\n",
            "1601/1601 - 2s - loss: 0.0919 - accuracy: 0.9668 - 2s/epoch - 1ms/step\n",
            "Epoch 57/100\n",
            "1601/1601 - 2s - loss: 0.0931 - accuracy: 0.9674 - 2s/epoch - 1ms/step\n",
            "Epoch 58/100\n",
            "1601/1601 - 2s - loss: 0.0929 - accuracy: 0.9635 - 2s/epoch - 1ms/step\n",
            "Epoch 59/100\n",
            "1601/1601 - 2s - loss: 0.0921 - accuracy: 0.9663 - 2s/epoch - 1ms/step\n",
            "Epoch 60/100\n",
            "1601/1601 - 2s - loss: 0.0933 - accuracy: 0.9665 - 2s/epoch - 1ms/step\n",
            "Epoch 61/100\n",
            "1601/1601 - 2s - loss: 0.0907 - accuracy: 0.9663 - 2s/epoch - 1ms/step\n",
            "Epoch 62/100\n",
            "1601/1601 - 2s - loss: 0.0925 - accuracy: 0.9658 - 2s/epoch - 1ms/step\n",
            "Epoch 63/100\n",
            "1601/1601 - 2s - loss: 0.0898 - accuracy: 0.9676 - 2s/epoch - 1ms/step\n",
            "Epoch 64/100\n",
            "1601/1601 - 2s - loss: 0.0902 - accuracy: 0.9661 - 2s/epoch - 1ms/step\n",
            "Epoch 65/100\n",
            "1601/1601 - 2s - loss: 0.0902 - accuracy: 0.9673 - 2s/epoch - 1ms/step\n",
            "Epoch 66/100\n",
            "1601/1601 - 2s - loss: 0.0921 - accuracy: 0.9665 - 2s/epoch - 1ms/step\n",
            "Epoch 67/100\n",
            "1601/1601 - 2s - loss: 0.0897 - accuracy: 0.9663 - 2s/epoch - 1ms/step\n",
            "Epoch 68/100\n",
            "1601/1601 - 2s - loss: 0.0891 - accuracy: 0.9690 - 2s/epoch - 1ms/step\n",
            "Epoch 69/100\n",
            "1601/1601 - 2s - loss: 0.0895 - accuracy: 0.9679 - 2s/epoch - 1ms/step\n",
            "Epoch 70/100\n",
            "1601/1601 - 2s - loss: 0.0886 - accuracy: 0.9693 - 2s/epoch - 1ms/step\n",
            "Epoch 71/100\n",
            "1601/1601 - 2s - loss: 0.0903 - accuracy: 0.9653 - 2s/epoch - 1ms/step\n",
            "Epoch 72/100\n",
            "1601/1601 - 2s - loss: 0.0890 - accuracy: 0.9675 - 2s/epoch - 1ms/step\n",
            "Epoch 73/100\n",
            "1601/1601 - 2s - loss: 0.0879 - accuracy: 0.9683 - 2s/epoch - 1ms/step\n",
            "Epoch 74/100\n",
            "1601/1601 - 2s - loss: 0.0903 - accuracy: 0.9674 - 2s/epoch - 1ms/step\n",
            "Epoch 75/100\n",
            "1601/1601 - 2s - loss: 0.0871 - accuracy: 0.9670 - 2s/epoch - 1ms/step\n",
            "Epoch 76/100\n",
            "1601/1601 - 2s - loss: 0.0893 - accuracy: 0.9701 - 2s/epoch - 1ms/step\n",
            "Epoch 77/100\n",
            "1601/1601 - 2s - loss: 0.0873 - accuracy: 0.9676 - 2s/epoch - 1ms/step\n",
            "Epoch 78/100\n",
            "1601/1601 - 2s - loss: 0.0834 - accuracy: 0.9674 - 2s/epoch - 1ms/step\n",
            "Epoch 79/100\n",
            "1601/1601 - 2s - loss: 0.0850 - accuracy: 0.9683 - 2s/epoch - 1ms/step\n",
            "Epoch 80/100\n",
            "1601/1601 - 2s - loss: 0.0884 - accuracy: 0.9679 - 2s/epoch - 1ms/step\n",
            "Epoch 81/100\n",
            "1601/1601 - 2s - loss: 0.0855 - accuracy: 0.9675 - 2s/epoch - 1ms/step\n",
            "Epoch 82/100\n",
            "1601/1601 - 2s - loss: 0.0854 - accuracy: 0.9673 - 2s/epoch - 1ms/step\n",
            "Epoch 83/100\n",
            "1601/1601 - 2s - loss: 0.0855 - accuracy: 0.9696 - 2s/epoch - 1ms/step\n",
            "Epoch 84/100\n",
            "1601/1601 - 2s - loss: 0.0857 - accuracy: 0.9689 - 2s/epoch - 1ms/step\n",
            "Epoch 85/100\n",
            "1601/1601 - 2s - loss: 0.0852 - accuracy: 0.9681 - 2s/epoch - 1ms/step\n",
            "Epoch 86/100\n",
            "1601/1601 - 2s - loss: 0.0840 - accuracy: 0.9701 - 2s/epoch - 1ms/step\n",
            "Epoch 87/100\n",
            "1601/1601 - 2s - loss: 0.0861 - accuracy: 0.9671 - 2s/epoch - 1ms/step\n",
            "Epoch 88/100\n",
            "1601/1601 - 2s - loss: 0.0861 - accuracy: 0.9664 - 2s/epoch - 1ms/step\n",
            "Epoch 89/100\n",
            "1601/1601 - 2s - loss: 0.0845 - accuracy: 0.9680 - 2s/epoch - 1ms/step\n",
            "Epoch 90/100\n",
            "1601/1601 - 2s - loss: 0.0842 - accuracy: 0.9681 - 2s/epoch - 1ms/step\n",
            "Epoch 91/100\n",
            "1601/1601 - 2s - loss: 0.0834 - accuracy: 0.9686 - 2s/epoch - 1ms/step\n",
            "Epoch 92/100\n",
            "1601/1601 - 2s - loss: 0.0853 - accuracy: 0.9685 - 2s/epoch - 1ms/step\n",
            "Epoch 93/100\n",
            "1601/1601 - 2s - loss: 0.0848 - accuracy: 0.9670 - 2s/epoch - 1ms/step\n",
            "Epoch 94/100\n",
            "1601/1601 - 2s - loss: 0.0847 - accuracy: 0.9686 - 2s/epoch - 1ms/step\n",
            "Epoch 95/100\n",
            "1601/1601 - 2s - loss: 0.0843 - accuracy: 0.9688 - 2s/epoch - 1ms/step\n",
            "Epoch 96/100\n",
            "1601/1601 - 2s - loss: 0.0839 - accuracy: 0.9693 - 2s/epoch - 1ms/step\n",
            "Epoch 97/100\n",
            "1601/1601 - 2s - loss: 0.0838 - accuracy: 0.9688 - 2s/epoch - 1ms/step\n",
            "Epoch 98/100\n",
            "1601/1601 - 2s - loss: 0.0846 - accuracy: 0.9685 - 2s/epoch - 1ms/step\n",
            "Epoch 99/100\n",
            "1601/1601 - 2s - loss: 0.0839 - accuracy: 0.9668 - 2s/epoch - 1ms/step\n",
            "Epoch 100/100\n",
            "1601/1601 - 2s - loss: 0.0843 - accuracy: 0.9683 - 2s/epoch - 1ms/step\n",
            "63/63 [==============================] - 0s 2ms/step - loss: 0.0968 - accuracy: 0.9645\n",
            "Final test set loss: 0.096753\n",
            "Final test set accuracy: 0.964518\n"
          ]
        }
      ]
    },
    {
      "cell_type": "code",
      "source": [
        "from sklearn.preprocessing import MinMaxScaler\n",
        "scaler = MinMaxScaler()\n",
        "X_scaled = scaler.fit_transform(X)"
      ],
      "metadata": {
        "id": "R33YW_IGa2jN"
      },
      "execution_count": null,
      "outputs": []
    },
    {
      "cell_type": "code",
      "source": [
        "from tensorflow.keras.callbacks import EarlyStopping\n",
        "# Instantiate an early stopping callback\n",
        "early_stopping = EarlyStopping(monitor='val_loss', patience=5)"
      ],
      "metadata": {
        "id": "v7FT-8S_hR2c"
      },
      "execution_count": null,
      "outputs": []
    },
    {
      "cell_type": "code",
      "source": [
        "model=Sequential()\n",
        "model.add(Dense(1000,input_shape=(39,),activation='relu'))\n",
        "model.add(Dense(500,activation='relu'))\n",
        "model.add(Dense(300,activation='relu'))\n",
        "model.add(Dropout(0.2))\n",
        "model.add(Dense(4,activation='softmax'))\n",
        "optimizer = Adam(lr=0.001)\n",
        "model.compile(loss='categorical_crossentropy',optimizer=optimizer,metrics=['Precision'])\n",
        "model.summary()"
      ],
      "metadata": {
        "colab": {
          "base_uri": "https://localhost:8080/"
        },
        "id": "rLqgiuzoa-Od",
        "outputId": "4dc8a7aa-7e98-4c67-b997-6458169a72b2"
      },
      "execution_count": null,
      "outputs": [
        {
          "output_type": "stream",
          "name": "stdout",
          "text": [
            "Model: \"sequential_11\"\n",
            "_________________________________________________________________\n",
            " Layer (type)                Output Shape              Param #   \n",
            "=================================================================\n",
            " dense_24 (Dense)            (None, 1000)              40000     \n",
            "                                                                 \n",
            " dense_25 (Dense)            (None, 500)               500500    \n",
            "                                                                 \n",
            " dense_26 (Dense)            (None, 300)               150300    \n",
            "                                                                 \n",
            " dropout_5 (Dropout)         (None, 300)               0         \n",
            "                                                                 \n",
            " dense_27 (Dense)            (None, 4)                 1204      \n",
            "                                                                 \n",
            "=================================================================\n",
            "Total params: 692,004\n",
            "Trainable params: 692,004\n",
            "Non-trainable params: 0\n",
            "_________________________________________________________________\n"
          ]
        }
      ]
    },
    {
      "cell_type": "code",
      "source": [
        "h_callback=model.fit(train_x, train_y,epochs=100,validation_split=0.4,callbacks = [early_stopping], batch_size=5)"
      ],
      "metadata": {
        "colab": {
          "base_uri": "https://localhost:8080/"
        },
        "id": "hxGZbCUtbDQE",
        "outputId": "93cb9666-8d33-491a-ab36-1ae6d61f3e4f"
      },
      "execution_count": null,
      "outputs": [
        {
          "output_type": "stream",
          "name": "stdout",
          "text": [
            "Epoch 1/100\n",
            "961/961 [==============================] - 11s 12ms/step - loss: 0.1264 - precision: 0.9536 - val_loss: 0.2081 - val_precision: 0.9272\n",
            "Epoch 2/100\n",
            "961/961 [==============================] - 11s 12ms/step - loss: 0.1137 - precision: 0.9565 - val_loss: 0.1082 - val_precision: 0.9581\n",
            "Epoch 3/100\n",
            "961/961 [==============================] - 11s 11ms/step - loss: 0.1269 - precision: 0.9533 - val_loss: 0.1348 - val_precision: 0.9504\n",
            "Epoch 4/100\n",
            "961/961 [==============================] - 10s 10ms/step - loss: 0.1171 - precision: 0.9581 - val_loss: 0.1179 - val_precision: 0.9563\n",
            "Epoch 5/100\n",
            "961/961 [==============================] - 11s 12ms/step - loss: 0.1127 - precision: 0.9591 - val_loss: 0.1664 - val_precision: 0.9442\n",
            "Epoch 6/100\n",
            "961/961 [==============================] - 11s 12ms/step - loss: 0.1238 - precision: 0.9560 - val_loss: 0.1072 - val_precision: 0.9588\n",
            "Epoch 7/100\n",
            "961/961 [==============================] - 11s 12ms/step - loss: 0.1095 - precision: 0.9577 - val_loss: 0.0988 - val_precision: 0.9644\n",
            "Epoch 8/100\n",
            "961/961 [==============================] - 11s 12ms/step - loss: 0.1125 - precision: 0.9625 - val_loss: 0.1550 - val_precision: 0.9431\n",
            "Epoch 9/100\n",
            "961/961 [==============================] - 10s 10ms/step - loss: 0.1081 - precision: 0.9625 - val_loss: 0.1036 - val_precision: 0.9669\n",
            "Epoch 10/100\n",
            "961/961 [==============================] - 12s 12ms/step - loss: 0.1122 - precision: 0.9581 - val_loss: 0.1267 - val_precision: 0.9572\n",
            "Epoch 11/100\n",
            "961/961 [==============================] - 11s 12ms/step - loss: 0.1071 - precision: 0.9612 - val_loss: 0.0925 - val_precision: 0.9678\n",
            "Epoch 12/100\n",
            "961/961 [==============================] - 12s 13ms/step - loss: 0.1203 - precision: 0.9579 - val_loss: 0.1054 - val_precision: 0.9590\n",
            "Epoch 13/100\n",
            "961/961 [==============================] - 11s 12ms/step - loss: 0.1086 - precision: 0.9629 - val_loss: 0.1393 - val_precision: 0.9431\n",
            "Epoch 14/100\n",
            "961/961 [==============================] - 12s 13ms/step - loss: 0.1162 - precision: 0.9575 - val_loss: 0.1240 - val_precision: 0.9521\n",
            "Epoch 15/100\n",
            "961/961 [==============================] - 11s 12ms/step - loss: 0.1080 - precision: 0.9623 - val_loss: 0.0976 - val_precision: 0.9613\n",
            "Epoch 16/100\n",
            "961/961 [==============================] - 11s 12ms/step - loss: 0.1109 - precision: 0.9627 - val_loss: 0.1003 - val_precision: 0.9709\n"
          ]
        }
      ]
    },
    {
      "cell_type": "code",
      "source": [
        "results = model.evaluate(test_x, test_y)\n",
        "\n",
        "print('Final test set loss: {:4f}'.format(results[0]))\n",
        "print('Final test set accuracy: {:4f}'.format(results[1]))"
      ],
      "metadata": {
        "colab": {
          "base_uri": "https://localhost:8080/"
        },
        "id": "JSZ1VgTZh63O",
        "outputId": "f5ba6120-eb9c-4b37-b320-f0483f42a19f"
      },
      "execution_count": null,
      "outputs": [
        {
          "output_type": "stream",
          "name": "stdout",
          "text": [
            "63/63 [==============================] - 0s 4ms/step - loss: 0.1279 - precision: 0.9520\n",
            "Final test set loss: 0.127897\n",
            "Final test set accuracy: 0.952000\n"
          ]
        }
      ]
    },
    {
      "cell_type": "code",
      "source": [
        "import matplotlib.pyplot as plt\n",
        "plt.plot(h_callback.history['loss'])\n",
        "plt.plot(h_callback.history['val_loss'])"
      ],
      "metadata": {
        "colab": {
          "base_uri": "https://localhost:8080/",
          "height": 282
        },
        "id": "Kv8dmQMT-SWa",
        "outputId": "77e9f083-821f-4da6-fd1b-7f852ba0be39"
      },
      "execution_count": null,
      "outputs": [
        {
          "output_type": "execute_result",
          "data": {
            "text/plain": [
              "[<matplotlib.lines.Line2D at 0x7f466a405e90>]"
            ]
          },
          "metadata": {},
          "execution_count": 91
        },
        {
          "output_type": "display_data",
          "data": {
            "text/plain": [
              "<Figure size 432x288 with 1 Axes>"
            ],
            "image/png": "[encoded data removed]"
          },
          "metadata": {
            "needs_background": "light"
          }
        }
      ]
    },
    {
      "cell_type": "code",
      "source": [
        "model.predict(test_x)"
      ],
      "metadata": {
        "colab": {
          "base_uri": "https://localhost:8080/"
        },
        "id": "Vh3ZhRcdmlAC",
        "outputId": "bb2f562a-00af-464e-a177-04c6606f71b2"
      },
      "execution_count": null,
      "outputs": [
        {
          "output_type": "stream",
          "name": "stdout",
          "text": [
            "63/63 [==============================] - 0s 3ms/step\n"
          ]
        },
        {
          "output_type": "execute_result",
          "data": {
            "text/plain": [
              "array([[1.3048269e-08, 2.4563514e-04, 1.8047191e-01, 8.1928253e-01],\n",
              "       [1.6660845e-09, 7.3065441e-03, 5.0580143e-03, 9.8763543e-01],\n",
              "       [5.2462809e-07, 2.6676233e-04, 7.5460547e-01, 2.4512720e-01],\n",
              "       ...,\n",
              "       [6.2913639e-09, 6.6499887e-03, 1.0370922e-02, 9.8297906e-01],\n",
              "       [1.5842909e-07, 8.4720778e-01, 5.4794474e-04, 1.5224402e-01],\n",
              "       [4.5823215e-17, 9.9996710e-01, 3.6249382e-08, 3.2859196e-05]],\n",
              "      dtype=float32)"
            ]
          },
          "metadata": {},
          "execution_count": 72
        }
      ]
    },
    {
      "cell_type": "code",
      "source": [
        "import numpy as np"
      ],
      "metadata": {
        "id": "JQJRD4mipXdC"
      },
      "execution_count": null,
      "outputs": []
    },
    {
      "cell_type": "code",
      "source": [
        "y_pred=[np.argmax(y_pred) for y_pred in model.predict(test_x)]"
      ],
      "metadata": {
        "colab": {
          "base_uri": "https://localhost:8080/"
        },
        "id": "qeqMV2TzpPeV",
        "outputId": "67ae3ce6-48b4-4f10-9c52-4d2a669721e5"
      },
      "execution_count": null,
      "outputs": [
        {
          "output_type": "stream",
          "name": "stdout",
          "text": [
            "63/63 [==============================] - 0s 1ms/step\n"
          ]
        }
      ]
    },
    {
      "cell_type": "code",
      "source": [
        "y_test=[np.argmax(y) for y in test_y]"
      ],
      "metadata": {
        "id": "ucJPMIazpd_-"
      },
      "execution_count": null,
      "outputs": []
    },
    {
      "cell_type": "code",
      "source": [
        "from sklearn.metrics import confusion_matrix\n",
        "from sklearn.metrics import classification_report\n",
        "from sklearn.metrics import accuracy_score\n",
        "print(accuracy_score(y_pred, y_test))\n",
        "print(confusion_matrix(y_pred, y_test))\n",
        "print(classification_report(y_pred, y_test))"
      ],
      "metadata": {
        "colab": {
          "base_uri": "https://localhost:8080/"
        },
        "id": "7AVv9Fero0BB",
        "outputId": "dedc60c7-621f-4e44-b4ef-7f0aaef89ea8"
      },
      "execution_count": null,
      "outputs": [
        {
          "output_type": "stream",
          "name": "stdout",
          "text": [
            "0.9645177411294353\n",
            "[[294   0   0   0]\n",
            " [  0 218   0  13]\n",
            " [  0   0 590  19]\n",
            " [  0  11  28 828]]\n",
            "              precision    recall  f1-score   support\n",
            "\n",
            "           0       1.00      1.00      1.00       294\n",
            "           1       0.95      0.94      0.95       231\n",
            "           2       0.95      0.97      0.96       609\n",
            "           3       0.96      0.96      0.96       867\n",
            "\n",
            "    accuracy                           0.96      2001\n",
            "   macro avg       0.97      0.97      0.97      2001\n",
            "weighted avg       0.96      0.96      0.96      2001\n",
            "\n"
          ]
        }
      ]
    }
  ]
}